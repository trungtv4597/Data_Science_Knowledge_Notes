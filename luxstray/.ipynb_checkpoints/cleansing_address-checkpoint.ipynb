{
 "cells": [
  {
   "cell_type": "code",
   "execution_count": 3,
   "metadata": {},
   "outputs": [],
   "source": [
    "import numpy as np\n",
    "import pandas as pd"
   ]
  },
  {
   "cell_type": "markdown",
   "metadata": {},
   "source": [
    "## Dataset scrapied from luxstay website"
   ]
  },
  {
   "cell_type": "code",
   "execution_count": 4,
   "metadata": {},
   "outputs": [],
   "source": [
    "data_path = r'C:\\Users\\DucTRung\\Desktop\\data_set\\lux_stay'"
   ]
  },
  {
   "cell_type": "code",
   "execution_count": 5,
   "metadata": {},
   "outputs": [],
   "source": [
    "df = pd.read_csv(data_path+'\\luxstay.csv')"
   ]
  },
  {
   "cell_type": "code",
   "execution_count": 6,
   "metadata": {},
   "outputs": [
    {
     "data": {
      "text/plain": [
       "(12012, 28)"
      ]
     },
     "execution_count": 6,
     "metadata": {},
     "output_type": "execute_result"
    }
   ],
   "source": [
    "df.shape"
   ]
  },
  {
   "cell_type": "markdown",
   "metadata": {},
   "source": [
    "## Address"
   ]
  },
  {
   "cell_type": "code",
   "execution_count": 7,
   "metadata": {},
   "outputs": [],
   "source": [
    "add_f = df[['id', 'address']]"
   ]
  },
  {
   "cell_type": "markdown",
   "metadata": {},
   "source": [
    "### City"
   ]
  },
  {
   "cell_type": "code",
   "execution_count": 8,
   "metadata": {},
   "outputs": [],
   "source": [
    "def extract_city(data):\n",
    "    container = data.split(',')\n",
    "    try:\n",
    "        return container[-2].replace(\" \", \"\")\n",
    "    except:\n",
    "        return 'Unknown'"
   ]
  },
  {
   "cell_type": "code",
   "execution_count": 9,
   "metadata": {},
   "outputs": [
    {
     "name": "stderr",
     "output_type": "stream",
     "text": [
      "C:\\Users\\DucTRung\\Anaconda3\\envs\\cc_env\\lib\\site-packages\\ipykernel_launcher.py:1: SettingWithCopyWarning: \n",
      "A value is trying to be set on a copy of a slice from a DataFrame.\n",
      "Try using .loc[row_indexer,col_indexer] = value instead\n",
      "\n",
      "See the caveats in the documentation: https://pandas.pydata.org/pandas-docs/stable/user_guide/indexing.html#returning-a-view-versus-a-copy\n",
      "  \"\"\"Entry point for launching an IPython kernel.\n"
     ]
    }
   ],
   "source": [
    "add_f['city'] = add_f['address'].apply(extract_city)"
   ]
  },
  {
   "cell_type": "code",
   "execution_count": 11,
   "metadata": {},
   "outputs": [
    {
     "name": "stderr",
     "output_type": "stream",
     "text": [
      "C:\\Users\\DucTRung\\Anaconda3\\envs\\cc_env\\lib\\site-packages\\pandas\\core\\indexing.py:965: SettingWithCopyWarning: \n",
      "A value is trying to be set on a copy of a slice from a DataFrame.\n",
      "Try using .loc[row_indexer,col_indexer] = value instead\n",
      "\n",
      "See the caveats in the documentation: https://pandas.pydata.org/pandas-docs/stable/user_guide/indexing.html#returning-a-view-versus-a-copy\n",
      "  self.obj[item] = s\n"
     ]
    }
   ],
   "source": [
    "# Modyfying all different version of variable of 'city'\n",
    "add_f.loc[add_f['city'] == 'DaNang550000', 'city'] = 'DaNang'\n",
    "add_f.loc[add_f['city'] == 'Hanoi', 'city'] = 'HaNoi'\n",
    "add_f.loc[add_f['city'] == 'HoChiMinhCity', 'city'] = 'HoChiMinh'\n",
    "add_f.loc[add_f['city'] == 'KhanhHoa650000', 'city'] = 'KhanhHoa'\n",
    "add_f.loc[add_f['city'] == 'HaNoi100000', 'city'] = 'HaNoi'\n",
    "add_f.loc[add_f['city'] == 'HoChiMinh700000', 'city'] = 'HoChiMinh'\n",
    "add_f.loc[add_f['city'] == 'tinhKienGiang', 'city'] = 'KienGiang'\n",
    "add_f.loc[add_f['city'] == 'KhanhHoaProvince', 'city'] = 'KhanhHoa'\n",
    "add_f.loc[add_f['city'] == 'QuangNinh200000', 'city'] = 'QuangNinh'\n",
    "add_f.loc[add_f['city'] == 'QuangNamProvince', 'city'] = 'QuangNam'\n",
    "add_f.loc[add_f['city'] == 'HoChiMinhCity700000', 'city'] = 'HoChiMinh'\n",
    "add_f.loc[add_f['city'] == 'tinhKienGiang920000', 'city'] = 'KienGiang'\n",
    "add_f.loc[add_f['city'] == 'LamDong670000', 'city'] = 'LamDong'\n",
    "add_f.loc[add_f['city'] == 'ThuaThienHue530000', 'city'] = 'ThuaThienHue'\n",
    "add_f.loc[add_f['city'] == 'QuangBinhProvince', 'city'] = 'QuangBinh'\n",
    "add_f.loc[add_f['city'] == 'BinhThuanProvince', 'city'] = 'BinhThuan'\n",
    "add_f.loc[add_f['city'] == 'QuangNam560000', 'city'] = 'QuangNam'\n",
    "add_f.loc[add_f['city'] == 'BinhThanhHoChiMinh', 'city'] = 'HoChiMinh'\n",
    "# add_f[add_f['city'] == 'KrungThepMahaNakhon10400'] = 'Unknown'\n",
    "add_f.loc[add_f['city'] == 'BaRia-VungTau790000', 'city'] = 'BaRia-VungTau'\n",
    "add_f.loc[add_f['city'] == 'QuangNam51000', 'city'] = 'QuangNam'\n",
    "add_f.loc[add_f['city'] == 'VinhPhucProvince', 'city'] = 'VinhPhuc'\n",
    "add_f.loc[add_f['city'] == 'BaRia-VungTau790900', 'city'] = 'BaRia-VungTau'\n",
    "add_f.loc[add_f['city'] == 'NinhBinhProvince', 'city'] = 'NinhBinh'\n",
    "add_f.loc[add_f['city'] == 'quanNamTuLiem', 'city'] = 'HaNoi'\n",
    "add_f.loc[add_f['city'] == 'ThanhphoDaLat', 'city'] = 'LamDong'\n",
    "add_f.loc[add_f['city'] == 'tinhKienGiang92000', 'city'] = 'KienGiang'\n",
    "# add_f[add_f['city'] == 'KrungThepMahaNakhon10330'] = 'Unknown'\n",
    "# add_f[add_f['city'] == 'LaoCai333325'] = 'LaoCai'\n",
    "add_f.loc[add_f['city'] == 'BinhDinh55000', 'city'] = 'BinhDinh'\n",
    "add_f.loc[add_f['city'] == 'BinhDinhProvince', 'city'] = 'BinhDinh'\n",
    "add_f.loc[add_f['city'] == 'QuangNam52000', 'city'] = 'QuangNam'\n",
    "add_f.loc[add_f['city'] == 'QuangNam564070', 'city'] = 'QuangNam'\n",
    "add_f.loc[add_f['city'] == 'HanoiCity10000', 'city'] = 'HaNoi'\n",
    "# add_f[add_f['city'] == 'LuangPrabang'] = 'Unknown'\n",
    "# add_f[add_f['city'] == '310000'] = 'Unknown'\n",
    "# add_f[add_f['city'] == 'HI96744'] = 'Unknown'\n",
    "add_f.loc[add_f['city'] == 'QuanHoanKiem', 'city'] = 'HaNoi'\n",
    "add_f.loc[add_f['city'] == 'BaRia-VungTau78000', 'city'] = 'BaRia-VungTau'\n",
    "add_f.loc[add_f['city'] == 'NinhBinh430000', 'city'] = 'NinhBinh'\n",
    "add_f.loc[add_f['city'] == 'KhanhHoaProvince650000', 'city'] = 'KhanhHoa'\n",
    "add_f.loc[add_f['city'] == 'HoanKiem', 'city'] = 'HaNoi'\n",
    "# add_f[add_f['city'] == 'KrungThepMahaNakhon10110'] = 'Unknown'\n",
    "add_f.loc[add_f['city'] == 'HoChiMinh70000', 'city'] = 'HoChiMinh'\n",
    "add_f.loc[add_f['city'] == 'ThanhphoHaLong', 'city'] = 'QuangNinh'\n",
    "add_f.loc[add_f['city'] == 'LamDong66115', 'city'] = 'LamDong'\n",
    "add_f.loc[add_f['city'] == 'NinhBinh431957', 'city'] = 'NinhBinh'\n",
    "add_f.loc[add_f['city'] == 'HoChiMinh736464', 'city'] = 'HoChiMinh'\n",
    "add_f.loc[add_f['city'] == 'tinhKhanhHoa', 'city'] = 'KhanhHoa'\n",
    "add_f.loc[add_f['city'] == 'LamDong66000', 'city'] = 'LamDong'\n",
    "add_f.loc[add_f['city'] == 'CanTho900000', 'city'] = 'CanTho'\n",
    "add_f.loc[add_f['city'] == 'HaiPhong180000', 'city'] = 'HaiPhong'\n",
    "add_f.loc[add_f['city'] == 'HoChiMinh754761', 'city'] = 'HoChiMinh'\n",
    "# add_f[add_f['city'] == 'ถนนเพชรบุรีแขวงถนนเพชรบุรีเขตราชเทวีกรุงเทพมหานคร10800'] = 'Unknown'\n",
    "add_f.loc[add_f['city'] == 'NinhThuanProvince', 'city'] = 'NinhThuan'\n",
    "add_f.loc[add_f['city'] == 'HanoiCity100000', 'city'] = 'HaNoi'\n",
    "add_f.loc[add_f['city'] == 'HoChiMinh72324', 'city'] = 'HoChiMinh'\n",
    "add_f.loc[add_f['city'] == 'BinhThuan800000', 'city'] = 'BinhThuan'\n",
    "add_f.loc[add_f['city'] == 'LamDong67000', 'city'] = 'LamDong'\n",
    "add_f.loc[add_f['city'] == 'CauGiayHaNoi', 'city'] = 'HaNoi'\n",
    "add_f.loc[add_f['city'] == 'quanCauGiay', 'city'] = 'HaNoi'\n",
    "# add_f[add_f['city'] == 'VungdothiBangkok10400'] = 'Unknown'\n",
    "# add_f[add_f['city'] == 'phuong4'] = 'Unknown'\n",
    "# add_f[add_f['city'] == 'phuongVinhPhuoc'] = 'Unknown'\n",
    "# add_f[add_f['city'] == '27000'] = 'Unknown'\n",
    "# add_f[add_f['city'] == 'KrungThepMahaNakhon'] = 'Unknown'\n",
    "add_f.loc[add_f['city'] == 'LaoCai31000', 'city'] = 'LaoCai'\n",
    "add_f.loc[add_f['city'] == 'NinhBinh08000', 'city'] = 'NinhBinh'\n",
    "add_f.loc[add_f['city'] == 'DalatCity', 'city'] = 'LamDong'\n",
    "add_f.loc[add_f['city'] == 'HoChiMinh72806', 'city'] = 'HoChiMinh'\n",
    "add_f.loc[add_f['city'] == 'PhuYen620000', 'city'] = 'PhuYen'\n",
    "add_f.loc[add_f['city'] == 'PhuYenProvince', 'city'] = 'PhuYen'\n",
    "# add_f[add_f['city'] == '270000'] = 'Unknown'"
   ]
  },
  {
   "cell_type": "code",
   "execution_count": 12,
   "metadata": {},
   "outputs": [],
   "source": [
    "# pd.set_option('display.max_rows', add_f.shape[0]+1)\n",
    "fre_city = add_f['city'].value_counts()"
   ]
  },
  {
   "cell_type": "code",
   "execution_count": null,
   "metadata": {},
   "outputs": [],
   "source": [
    "fre_city"
   ]
  },
  {
   "cell_type": "code",
   "execution_count": 13,
   "metadata": {},
   "outputs": [],
   "source": [
    "add_f = add_f[add_f['city'].isin(fre_city[fre_city >= 50].index)]"
   ]
  },
  {
   "cell_type": "code",
   "execution_count": 14,
   "metadata": {},
   "outputs": [
    {
     "data": {
      "text/plain": [
       "11433"
      ]
     },
     "execution_count": 14,
     "metadata": {},
     "output_type": "execute_result"
    }
   ],
   "source": [
    "# Frquency >= 50\n",
    "add_f['city'].value_counts().sum()"
   ]
  },
  {
   "cell_type": "code",
   "execution_count": 15,
   "metadata": {},
   "outputs": [],
   "source": [
    "assert add_f['id'].shape == add_f['id'].unique().shape, 'There are Unique (id) values'"
   ]
  },
  {
   "cell_type": "code",
   "execution_count": 16,
   "metadata": {},
   "outputs": [
    {
     "data": {
      "text/html": [
       "<div>\n",
       "<style scoped>\n",
       "    .dataframe tbody tr th:only-of-type {\n",
       "        vertical-align: middle;\n",
       "    }\n",
       "\n",
       "    .dataframe tbody tr th {\n",
       "        vertical-align: top;\n",
       "    }\n",
       "\n",
       "    .dataframe thead th {\n",
       "        text-align: right;\n",
       "    }\n",
       "</style>\n",
       "<table border=\"1\" class=\"dataframe\">\n",
       "  <thead>\n",
       "    <tr style=\"text-align: right;\">\n",
       "      <th></th>\n",
       "      <th>id</th>\n",
       "      <th>address</th>\n",
       "      <th>city</th>\n",
       "    </tr>\n",
       "  </thead>\n",
       "  <tbody>\n",
       "    <tr>\n",
       "      <th>0</th>\n",
       "      <td>29329</td>\n",
       "      <td>29 Lieu Giai, Ba Dinh, Ha Noi, Vietnam</td>\n",
       "      <td>HaNoi</td>\n",
       "    </tr>\n",
       "    <tr>\n",
       "      <th>1</th>\n",
       "      <td>36402</td>\n",
       "      <td>Ben Van Don, Phuong 12, Quan 4, Ho Chi Minh, V...</td>\n",
       "      <td>HoChiMinh</td>\n",
       "    </tr>\n",
       "    <tr>\n",
       "      <th>2</th>\n",
       "      <td>37069</td>\n",
       "      <td>Vinhomes Central Park, Binh Thanh, Ho Chi Minh...</td>\n",
       "      <td>HoChiMinh</td>\n",
       "    </tr>\n",
       "    <tr>\n",
       "      <th>3</th>\n",
       "      <td>37148</td>\n",
       "      <td>Phuong 22, Binh Thanh, Ho Chi Minh, Vietnam</td>\n",
       "      <td>HoChiMinh</td>\n",
       "    </tr>\n",
       "    <tr>\n",
       "      <th>4</th>\n",
       "      <td>36712</td>\n",
       "      <td>Ben Van Don, Phuong 12, Quan 4, Ho Chi Minh, V...</td>\n",
       "      <td>HoChiMinh</td>\n",
       "    </tr>\n",
       "    <tr>\n",
       "      <th>...</th>\n",
       "      <td>...</td>\n",
       "      <td>...</td>\n",
       "      <td>...</td>\n",
       "    </tr>\n",
       "    <tr>\n",
       "      <th>12007</th>\n",
       "      <td>68242</td>\n",
       "      <td>Tran Bach Dang, Bac My An, Ngu Hanh Son, Da Na...</td>\n",
       "      <td>DaNang</td>\n",
       "    </tr>\n",
       "    <tr>\n",
       "      <th>12008</th>\n",
       "      <td>69025</td>\n",
       "      <td>Lo BL04 Khu Thai Lam, Duong Nguyen Trung Truc,...</td>\n",
       "      <td>LamDong</td>\n",
       "    </tr>\n",
       "    <tr>\n",
       "      <th>12009</th>\n",
       "      <td>69065</td>\n",
       "      <td>Duong Hai Ba Trung, Thanh pho Da Lat, Lam Dong...</td>\n",
       "      <td>LamDong</td>\n",
       "    </tr>\n",
       "    <tr>\n",
       "      <th>12010</th>\n",
       "      <td>68582</td>\n",
       "      <td>Duong Bach Dang, Chuong Duong Do, Hoan Kiem, H...</td>\n",
       "      <td>HaNoi</td>\n",
       "    </tr>\n",
       "    <tr>\n",
       "      <th>12011</th>\n",
       "      <td>67816</td>\n",
       "      <td>Vo Van Kiet, Phuoc My, Son Tra, Da Nang 550000...</td>\n",
       "      <td>DaNang</td>\n",
       "    </tr>\n",
       "  </tbody>\n",
       "</table>\n",
       "<p>11433 rows × 3 columns</p>\n",
       "</div>"
      ],
      "text/plain": [
       "          id                                            address       city\n",
       "0      29329             29 Lieu Giai, Ba Dinh, Ha Noi, Vietnam      HaNoi\n",
       "1      36402  Ben Van Don, Phuong 12, Quan 4, Ho Chi Minh, V...  HoChiMinh\n",
       "2      37069  Vinhomes Central Park, Binh Thanh, Ho Chi Minh...  HoChiMinh\n",
       "3      37148        Phuong 22, Binh Thanh, Ho Chi Minh, Vietnam  HoChiMinh\n",
       "4      36712  Ben Van Don, Phuong 12, Quan 4, Ho Chi Minh, V...  HoChiMinh\n",
       "...      ...                                                ...        ...\n",
       "12007  68242  Tran Bach Dang, Bac My An, Ngu Hanh Son, Da Na...     DaNang\n",
       "12008  69025  Lo BL04 Khu Thai Lam, Duong Nguyen Trung Truc,...    LamDong\n",
       "12009  69065  Duong Hai Ba Trung, Thanh pho Da Lat, Lam Dong...    LamDong\n",
       "12010  68582  Duong Bach Dang, Chuong Duong Do, Hoan Kiem, H...      HaNoi\n",
       "12011  67816  Vo Van Kiet, Phuoc My, Son Tra, Da Nang 550000...     DaNang\n",
       "\n",
       "[11433 rows x 3 columns]"
      ]
     },
     "execution_count": 16,
     "metadata": {},
     "output_type": "execute_result"
    }
   ],
   "source": [
    "add_f"
   ]
  },
  {
   "cell_type": "markdown",
   "metadata": {},
   "source": [
    "### Region (districts)"
   ]
  },
  {
   "cell_type": "code",
   "execution_count": 17,
   "metadata": {},
   "outputs": [],
   "source": [
    "def extract_region(data):\n",
    "    container = data.split(',')\n",
    "    try:\n",
    "        return container[-3].replace(\" \", \"\")\n",
    "    except:\n",
    "        return 'Unknown'"
   ]
  },
  {
   "cell_type": "code",
   "execution_count": 18,
   "metadata": {},
   "outputs": [
    {
     "name": "stderr",
     "output_type": "stream",
     "text": [
      "C:\\Users\\DucTRung\\Anaconda3\\envs\\cc_env\\lib\\site-packages\\ipykernel_launcher.py:1: SettingWithCopyWarning: \n",
      "A value is trying to be set on a copy of a slice from a DataFrame.\n",
      "Try using .loc[row_indexer,col_indexer] = value instead\n",
      "\n",
      "See the caveats in the documentation: https://pandas.pydata.org/pandas-docs/stable/user_guide/indexing.html#returning-a-view-versus-a-copy\n",
      "  \"\"\"Entry point for launching an IPython kernel.\n"
     ]
    }
   ],
   "source": [
    "add_f['region'] = add_f['address'].apply(extract_region)"
   ]
  },
  {
   "cell_type": "code",
   "execution_count": 19,
   "metadata": {},
   "outputs": [],
   "source": [
    "pd.set_option('display.max_rows', 0)"
   ]
  },
  {
   "cell_type": "code",
   "execution_count": 20,
   "metadata": {},
   "outputs": [
    {
     "name": "stderr",
     "output_type": "stream",
     "text": [
      "C:\\Users\\DucTRung\\Anaconda3\\envs\\cc_env\\lib\\site-packages\\pandas\\core\\indexing.py:965: SettingWithCopyWarning: \n",
      "A value is trying to be set on a copy of a slice from a DataFrame.\n",
      "Try using .loc[row_indexer,col_indexer] = value instead\n",
      "\n",
      "See the caveats in the documentation: https://pandas.pydata.org/pandas-docs/stable/user_guide/indexing.html#returning-a-view-versus-a-copy\n",
      "  self.obj[item] = s\n"
     ]
    }
   ],
   "source": [
    "add_f.loc[add_f['region'] == 'HoChiMinhCity', 'region'] = 'Quan4'\n",
    "add_f.loc[add_f['region'] == 'District1', 'region'] = 'Quan1'\n",
    "add_f.loc[add_f['region'] == 'District2', 'region'] = 'Quan2'\n",
    "add_f.loc[add_f['region'] == 'District7', 'region'] = 'Quan7'\n",
    "add_f.loc[add_f['region'] == 'District4', 'region'] = 'Quan4'\n",
    "add_f.loc[add_f['region'] == 'District3', 'region'] = 'Quan3'\n",
    "add_f.loc[add_f['region'] == 'District5', 'region'] = 'Quan5'\n",
    "add_f.loc[add_f['region'] == 'District12', 'region'] = 'Quan12'\n",
    "add_f.loc[add_f['region'] == 'quanBinhThanh', 'region'] = 'BinhThanh'\n",
    "add_f.loc[add_f['region'] == 'Q.HaiChau', 'region'] = 'HaiChau'\n",
    "add_f.loc[add_f['region'] == 'ThanhphoDaLat', 'region'] = 'Tp.DaLat'\n",
    "add_f.loc[add_f['region'] == 'DaLat', 'region'] = 'Tp.DaLat'\n",
    "add_f.loc[add_f['region'] == 'Dalat', 'region'] = 'Tp.DaLat'\n",
    "add_f.loc[add_f['region'] == 'ThanhphoVungTau', 'region'] = 'Tp.VungTau'\n",
    "add_f.loc[add_f['region'] == 'VungTau', 'region'] = 'Tp.VungTau'\n",
    "add_f.loc[add_f['region'] == 'ThanhphoNhaTrang', 'region'] = 'Tp.NhaTrang'\n",
    "add_f.loc[add_f['region'] == 'ThanhphoHaLong', 'region'] = 'Tp.HaLong'\n",
    "add_f.loc[add_f['region'] == 'ThanhphoQuiNhon', 'region'] = 'Tp.QuiNhon'\n",
    "add_f.loc[add_f['region'] == 'ThanhphoHue', 'region'] = 'Tp.Hue'\n",
    "add_f.loc[add_f['region'] == 'HaiBaTrungDistrict', 'region'] = 'HaiBaTrung'\n",
    "add_f.loc[add_f['region'] == 'ThanhKheDistrict', 'region'] = 'ThanhKhe'\n",
    "add_f.loc[add_f['region'] == 'ThanhKhe', 'region'] = 'ThanhKhe'\n",
    "add_f.loc[add_f['region'] == 'ThanhphoPhuQuoc', 'region'] = 'Tp.PhuQuoc'\n",
    "add_f.loc[add_f['region'] == 'HaiChauDistrict', 'region'] = 'HaiChau'\n",
    "add_f.loc[add_f['region'] == '208NguyenHuuCanh', 'region'] = 'BinhThanh'\n",
    "add_f.loc[add_f['region'] == 'BaRia-VungTau', 'region'] = 'DatDo'\n",
    "add_f.loc[add_f['region'] == 'KhudothiTimesCity', 'region'] = 'HaiBaTrung'\n",
    "add_f.loc[add_f['region'] == 'HoiAn', 'region'] = 'Tp.HoiAn'\n",
    "add_f.loc[add_f['region'] == 'ThanhphoHoiAn', 'region'] = 'Tp.HoiAn'\n",
    "add_f.loc[add_f['region'] == 'tt.SaPa', 'region'] = 'SaPa'\n",
    "add_f.loc[add_f['region'] == 'quanBaDinh', 'region'] = 'BaDinh'\n",
    "add_f.loc[add_f['region'] == 'NhaTrang', 'region'] = 'Tp.NhaTrang'\n",
    "add_f.loc[add_f['region'] == '24.08', 'region'] = 'VinhPhuoc'\n",
    "add_f.loc[add_f['region'] == 'Hue', 'region'] = 'Tp.Hue'\n",
    "add_f.loc[add_f['region'] == 'HaNoi', 'region'] = 'Unknown'\n",
    "add_f.loc[add_f['region'] == 'ThixaPhucYen', 'region'] = 'PhucYen'\n",
    "add_f.loc[add_f['region'] == 'ThanhphoPhanThiet', 'region'] = 'Tp.PhanThiet'\n",
    "add_f.loc[add_f['region'] == 'Phuong9', 'region'] = 'Tp.DaLat'\n",
    "add_f.loc[add_f['region'] == 'BoTrachDistrict', 'region'] = 'BoTrach'\n",
    "add_f.loc[add_f['region'] == 'Sapa', 'region'] = 'SaPa'\n",
    "add_f.loc[add_f['region'] == 'Q.ThanhKhe', 'region'] = 'ThanhKe'\n",
    "add_f.loc[add_f['region'] == 'PhuongHangMa', 'region'] = 'HoanKiem'\n",
    "add_f.loc[add_f['region'] == 'LamHaDistrict', 'region'] = 'LamHa'\n",
    "add_f.loc[add_f['region'] == 'Tx.NinhHoa', 'region'] = 'NinhHoa'\n",
    "add_f.loc[add_f['region'] == 'HoaLuDistrict', 'region'] = 'HoaLu'\n",
    "add_f.loc[add_f['region'] == 'phuongMiDinh1', 'region'] = 'NamTuLiem'\n",
    "add_f.loc[add_f['region'] == 'DongHoaDistrict', 'region'] = 'DongHoa'\n",
    "add_f.loc[add_f['region'] == 'Buoi', 'region'] = 'TayHo'\n",
    "add_f.loc[add_f['region'] == 'ward03', 'region'] = 'Tp.DaLat'\n",
    "add_f.loc[add_f['region'] == 'ThanhphoQuyNhon', 'region'] = 'Tp.QuiNhon'\n",
    "add_f.loc[add_f['region'] == 'QuyNhon', 'region'] = 'Tp.QuiNhon'\n",
    "add_f.loc[add_f['region'] == 'phuongTrungHoa', 'region'] = 'CauGiay'\n",
    "add_f.loc[add_f['region'] == 'quanNguHanhSon', 'region'] = 'NguHanhSon'\n",
    "add_f.loc[add_f['region'] == 'phuong6', 'region'] = 'Quan3'\n",
    "add_f.loc[add_f['region'] == 'Phuong2', 'region'] = 'Tp.DaLat'\n",
    "add_f.loc[add_f['region'] == 'MinhKhai', 'region'] = 'HaiBaTrung'\n",
    "add_f.loc[add_f['region'] == 'Dist1', 'region'] = 'Quan1'\n",
    "add_f.loc[add_f['region'] == 'NguyenKhacHieu', 'region'] = 'HoanKiem'\n",
    "add_f.loc[add_f['region'] == 'BaoYenDistrict', 'region'] = 'BaoYen'\n",
    "add_f.loc[add_f['region'] == 'DuongHoTungMau', 'region'] = 'CauGiay'\n",
    "add_f.loc[add_f['region'] == 'TrungHoa', 'region'] = 'CauGiay'\n",
    "add_f.loc[add_f['region'] == 'huyenPhuQuoc', 'region'] = 'Tp.PhuQuoc'\n",
    "add_f.loc[add_f['region'] == 'Tx.SongCau', 'region'] = 'SongCau'\n",
    "add_f.loc[add_f['region'] == 'SongCau', 'region'] = 'SongCau'\n",
    "add_f.loc[add_f['region'] == 'ThixaSongCau', 'region'] = 'SongCau'\n",
    "add_f.loc[add_f['region'] == 'NguyenDuyHieu', 'region'] = 'SonTra'\n",
    "add_f.loc[add_f['region'] == 'GiaVienDistrict', 'region'] = 'GiaVien'\n",
    "add_f.loc[add_f['region'] == 'Vietnam', 'region'] = 'Unkonwn'\n",
    "add_f.loc[add_f['region'] == 'Phuong22', 'region'] = 'BinhThanh'\n",
    "add_f.loc[add_f['region'] == 'AnDuongVuong', 'region'] = 'Tp.LaoCai'\n",
    "add_f.loc[add_f['region'] == 'ThangLongNumberOne', 'region'] = 'NamTuLiem'\n",
    "add_f.loc[add_f['region'] == 'HangMa', 'region'] = 'HoanKiem'\n",
    "add_f.loc[add_f['region'] == 'HungVuong', 'region'] = 'Tp.DaLat'\n",
    "add_f.loc[add_f['region'] == 'phuongMeTri', 'region'] = 'NamTuLiem'\n",
    "add_f.loc[add_f['region'] == 'BenNghe', 'region'] = 'Quan1'\n",
    "add_f.loc[add_f['region'] == 'DaTuong', 'region'] = 'HoanKiem'\n",
    "add_f.loc[add_f['region'] == 'HangKhay', 'region'] = 'HoanKiem'\n",
    "add_f.loc[add_f['region'] == 'DAKAOquan1', 'region'] = 'Quan1'\n",
    "add_f.loc[add_f['region'] == 'QuanNguHanhSon', 'region'] = 'NguHanhSon'\n",
    "add_f.loc[add_f['region'] == 'DatDoDistrict', 'region'] = 'DatDo'\n",
    "add_f.loc[add_f['region'] == 'LieuGiai', 'region'] = 'BaDinh'\n",
    "add_f.loc[add_f['region'] == 'LacDuongDistrict', 'region'] = 'LacDuong'\n",
    "add_f.loc[add_f['region'] == 'thanhphoDaNang', 'region'] = 'SonTra'\n",
    "add_f.loc[add_f['region'] == 'ThanhphoLaoCai', 'region'] = 'Tp.LaoCai'\n",
    "add_f.loc[add_f['region'] == 'LacLongQuan', 'region'] = 'Tp.HoiAn'\n",
    "add_f.loc[add_f['region'] == 'ThaiVanLung', 'region'] = 'Quan1'\n",
    "add_f.loc[add_f['region'] == 'PhamNguLao', 'region'] = 'Quan1'\n",
    "add_f.loc[add_f['region'] == 'MyAn', 'region'] = 'NguHanhSon'\n",
    "add_f.loc[add_f['region'] == 'DaKao', 'region'] = 'Quan1'\n",
    "add_f.loc[add_f['region'] == 'Day2', 'region'] = 'SaPa'\n",
    "add_f.loc[add_f['region'] == 'phuongCauKho', 'region'] = 'Quan1'\n",
    "add_f.loc[add_f['region'] == 'phuongBenNghe', 'region'] = 'Quan1'\n",
    "add_f.loc[add_f['region'] == 'quanHoanKiem', 'region'] = 'HoanKiem'\n",
    "add_f.loc[add_f['region'] == 'HALONG', 'region'] = 'Tp.HaLong'\n",
    "add_f.loc[add_f['region'] == 'XuyenMocDistrict', 'region'] = 'XuyenMoc'\n",
    "add_f.loc[add_f['region'] == 'TranDuyHung', 'region'] = 'HoanKiem'\n",
    "add_f.loc[add_f['region'] == 'tx.LaGi', 'region'] = 'LaGi'\n",
    "add_f.loc[add_f['region'] == 'NhatTan', 'region'] = 'TayHo'\n",
    "add_f.loc[add_f['region'] == 'HuyenPhuQuoc', 'region'] = 'Tp.PhuQuoc'\n",
    "add_f.loc[add_f['region'] == 'PhuQuoc', 'region'] = 'Tp.PhuQuoc'\n",
    "add_f.loc[add_f['region'] == 'quanThanhXuan', 'region'] = 'ThanhXuan'\n",
    "add_f.loc[add_f['region'] == 'Kieu', 'region'] = 'NinhKieu'\n",
    "add_f.loc[add_f['region'] == 'PhuongCoGiang', 'region'] = 'Quan1'\n",
    "add_f.loc[add_f['region'] == 'ThangBinhDistrict', 'region'] = 'ThanhBinh'\n",
    "add_f.loc[add_f['region'] == 'phuongBenThanh', 'region'] = 'Quan1'\n",
    "add_f.loc[add_f['region'] == 'HamNghi', 'region'] = 'ThanhKhe'\n",
    "add_f.loc[add_f['region'] == 'NguyenTruongTo', 'region'] = 'BaDinh'\n",
    "add_f.loc[add_f['region'] == 'Q.HoanKiem', 'region'] = 'HoanKiem'\n",
    "add_f.loc[add_f['region'] == 'ngo57MeTri', 'region'] = 'NamTuLiem'\n",
    "add_f.loc[add_f['region'] == 'thitranTamDao', 'region'] = 'TamDao'\n",
    "add_f.loc[add_f['region'] == 'xaQuangTien', 'region'] = 'SocSon'\n",
    "add_f.loc[add_f['region'] == 'MyDinh2', 'region'] = 'NamTuLiem'\n",
    "add_f.loc[add_f['region'] == 'Hanoi', 'region'] = 'HoanKiem'\n",
    "add_f.loc[add_f['region'] == 'xaCuaDuongPhuQuoc', 'region'] = 'Tp.PhuQuoc'\n",
    "add_f.loc[add_f['region'] == 'TrangTien', 'region'] = 'HoanKiem'\n",
    "add_f.loc[add_f['region'] == 'quanSonTra', 'region'] = 'SonTra'\n",
    "add_f.loc[add_f['region'] == 'TamDaoDistrict', 'region'] = 'TamDao'\n",
    "add_f.loc[add_f['region'] == 'phuongTanHung', 'region'] = 'Quan7'\n",
    "add_f.loc[add_f['region'] == 'Phuong7', 'region'] = 'Tp.TuyHoa'\n",
    "add_f.loc[add_f['region'] == 'TuyHoa', 'region'] = 'Tp.TuyHoa'\n",
    "add_f.loc[add_f['region'] == 'HoangQuocViet', 'region'] = 'Tp.Hue'\n",
    "add_f.loc[add_f['region'] == 'BenThanh', 'region'] = 'Quan1'\n",
    "add_f.loc[add_f['region'] == 'TX.LaoCai', 'region'] = 'Tp.LaoCai'"
   ]
  },
  {
   "cell_type": "code",
   "execution_count": 21,
   "metadata": {},
   "outputs": [],
   "source": [
    "fre_region = add_f['region'].value_counts()"
   ]
  },
  {
   "cell_type": "code",
   "execution_count": 22,
   "metadata": {},
   "outputs": [],
   "source": [
    "add_f = add_f[add_f['region'].isin(fre_region[fre_region >= 10].index)]"
   ]
  },
  {
   "cell_type": "code",
   "execution_count": 23,
   "metadata": {},
   "outputs": [
    {
     "data": {
      "text/plain": [
       "11157"
      ]
     },
     "execution_count": 23,
     "metadata": {},
     "output_type": "execute_result"
    }
   ],
   "source": [
    "add_f['region'].value_counts().sum()"
   ]
  },
  {
   "cell_type": "code",
   "execution_count": 24,
   "metadata": {},
   "outputs": [],
   "source": [
    "assert add_f['id'].shape == add_f['id'].unique().shape, 'There are Unique (id) values'"
   ]
  },
  {
   "cell_type": "markdown",
   "metadata": {},
   "source": [
    "## Type of Experience"
   ]
  },
  {
   "cell_type": "code",
   "execution_count": 25,
   "metadata": {},
   "outputs": [
    {
     "name": "stderr",
     "output_type": "stream",
     "text": [
      "C:\\Users\\DucTRung\\Anaconda3\\envs\\cc_env\\lib\\site-packages\\pandas\\core\\frame.py:4133: SettingWithCopyWarning: \n",
      "A value is trying to be set on a copy of a slice from a DataFrame\n",
      "\n",
      "See the caveats in the documentation: https://pandas.pydata.org/pandas-docs/stable/user_guide/indexing.html#returning-a-view-versus-a-copy\n",
      "  errors=errors,\n"
     ]
    }
   ],
   "source": [
    "map_ = {'city': 'province', 'region': 'district'}\n",
    "add_f.rename(columns=map_, inplace=True)"
   ]
  },
  {
   "cell_type": "code",
   "execution_count": 26,
   "metadata": {},
   "outputs": [],
   "source": [
    "# Case: HoChiMinh-Tp.VungTau\n",
    "add_f.loc[(add_f['district'] == 'Tp.VungTau') & (add_f['province'] == 'HoChiMinh'), 'province'] = 'BaRia-VungTau'"
   ]
  },
  {
   "cell_type": "code",
   "execution_count": 30,
   "metadata": {},
   "outputs": [],
   "source": [
    "def type_ex(data):\n",
    "    if data in ['HaNoi', 'HoChiMinh', 'VinhPhuc', 'CanTho', 'NinhBinh']:\n",
    "        return 'Delta'\n",
    "    elif data in ['LamDong', 'LaoCai']:\n",
    "        return 'Mountain'\n",
    "    else:\n",
    "        return 'Beach'"
   ]
  },
  {
   "cell_type": "code",
   "execution_count": 31,
   "metadata": {},
   "outputs": [
    {
     "name": "stderr",
     "output_type": "stream",
     "text": [
      "C:\\Users\\DucTRung\\Anaconda3\\envs\\cc_env\\lib\\site-packages\\ipykernel_launcher.py:1: SettingWithCopyWarning: \n",
      "A value is trying to be set on a copy of a slice from a DataFrame.\n",
      "Try using .loc[row_indexer,col_indexer] = value instead\n",
      "\n",
      "See the caveats in the documentation: https://pandas.pydata.org/pandas-docs/stable/user_guide/indexing.html#returning-a-view-versus-a-copy\n",
      "  \"\"\"Entry point for launching an IPython kernel.\n"
     ]
    }
   ],
   "source": [
    "add_f['exp_type'] = add_f['province'].apply(type_ex)"
   ]
  },
  {
   "cell_type": "markdown",
   "metadata": {},
   "source": [
    "## Region (north, central, south)"
   ]
  },
  {
   "cell_type": "code",
   "execution_count": 29,
   "metadata": {},
   "outputs": [
    {
     "data": {
      "text/plain": [
       "HoChiMinh        2697\n",
       "HaNoi            2659\n",
       "LamDong          1523\n",
       "DaNang           1132\n",
       "KhanhHoa          659\n",
       "BaRia-VungTau     656\n",
       "QuangNinh         304\n",
       "QuangNam          292\n",
       "BinhDinh          206\n",
       "LaoCai            178\n",
       "ThuaThienHue      155\n",
       "KienGiang         147\n",
       "NinhBinh           93\n",
       "PhuYen             90\n",
       "VinhPhuc           89\n",
       "CanTho             89\n",
       "BinhThuan          81\n",
       "HaiPhong           59\n",
       "QuangBinh          48\n",
       "Name: province, dtype: int64"
      ]
     },
     "execution_count": 29,
     "metadata": {},
     "output_type": "execute_result"
    }
   ],
   "source": [
    "add_f['province'].value_counts()"
   ]
  },
  {
   "cell_type": "code",
   "execution_count": 34,
   "metadata": {},
   "outputs": [],
   "source": [
    "def region(data):\n",
    "    if data in ['HaNoi', 'LaoCai', 'QuangNinh', 'NinhBinh', 'VinhPhuc', 'HaiPhong']:\n",
    "        return 'North'\n",
    "    elif data in ['HoChiMinh', 'LamDong','BaRia-VungTau', 'KienGiang', 'CanTho']:\n",
    "        return 'South'\n",
    "    elif data in ['DaNang', 'KhanhHoa', 'QuangNam', 'BinhDinh', 'ThuaThienHue', 'PhuYen', 'BinhThuan', 'QuangBinh']:\n",
    "        return 'Central'\n",
    "    else:\n",
    "        print(data, \"SOMETHING'S WRONG\")"
   ]
  },
  {
   "cell_type": "code",
   "execution_count": 35,
   "metadata": {},
   "outputs": [
    {
     "name": "stderr",
     "output_type": "stream",
     "text": [
      "C:\\Users\\DucTRung\\Anaconda3\\envs\\cc_env\\lib\\site-packages\\ipykernel_launcher.py:1: SettingWithCopyWarning: \n",
      "A value is trying to be set on a copy of a slice from a DataFrame.\n",
      "Try using .loc[row_indexer,col_indexer] = value instead\n",
      "\n",
      "See the caveats in the documentation: https://pandas.pydata.org/pandas-docs/stable/user_guide/indexing.html#returning-a-view-versus-a-copy\n",
      "  \"\"\"Entry point for launching an IPython kernel.\n"
     ]
    }
   ],
   "source": [
    "add_f['region'] = add_f['province'].apply(region)"
   ]
  },
  {
   "cell_type": "code",
   "execution_count": 39,
   "metadata": {},
   "outputs": [],
   "source": [
    "# Merge to df\n",
    "df = pd.merge(df, add_f, how='inner')"
   ]
  },
  {
   "cell_type": "markdown",
   "metadata": {},
   "source": [
    "## Protype_type"
   ]
  },
  {
   "cell_type": "code",
   "execution_count": 40,
   "metadata": {},
   "outputs": [],
   "source": [
    "# Condominium: apartment\n",
    "# Villa: villa\n",
    "# Studio apartment: an apartment with a single room. They are also known as single-room dwelling places or studio flats.\n",
    "# Entire House: entire house\n",
    "# Serviced apartment: a fully furnished apartment, available for both short-term and long-term stays, providing amenities for daily use, housekeeping and a range of other services, all included within the rental price\n",
    "# Other\n",
    "def accommodation_type(data):\n",
    "    if data == 'Apartment':\n",
    "        return 'Condominium'\n",
    "    elif data == 'A serviced apartment is a fully furnished apartment, available for both short-term and long-term stays, providing amenities for daily use, housekeeping and a range of other services, all included within the rental price':\n",
    "        return 'Serviced_Apartment'\n",
    "    elif data == 'The studio apartment is an apartment with a single room. They are also known as single-room dwelling places or studio flats.':\n",
    "        return 'Studio_Apartment'\n",
    "    else:\n",
    "        return data"
   ]
  },
  {
   "cell_type": "code",
   "execution_count": 41,
   "metadata": {},
   "outputs": [],
   "source": [
    "df['property_type'] = df['property_type'].apply(accommodation_type)"
   ]
  },
  {
   "cell_type": "code",
   "execution_count": 42,
   "metadata": {},
   "outputs": [],
   "source": [
    "df = df[df['district'] != \"Unknown\"]"
   ]
  },
  {
   "cell_type": "code",
   "execution_count": 50,
   "metadata": {},
   "outputs": [],
   "source": [
    "df.reset_index(drop=True, inplace=True)"
   ]
  },
  {
   "cell_type": "code",
   "execution_count": 52,
   "metadata": {},
   "outputs": [],
   "source": [
    "df.to_csv(data_path+'\\cleansed_address_luxstay.csv', index=False)"
   ]
  }
 ],
 "metadata": {
  "kernelspec": {
   "display_name": "Python 3",
   "language": "python",
   "name": "python3"
  },
  "language_info": {
   "codemirror_mode": {
    "name": "ipython",
    "version": 3
   },
   "file_extension": ".py",
   "mimetype": "text/x-python",
   "name": "python",
   "nbconvert_exporter": "python",
   "pygments_lexer": "ipython3",
   "version": "3.7.6"
  }
 },
 "nbformat": 4,
 "nbformat_minor": 4
}

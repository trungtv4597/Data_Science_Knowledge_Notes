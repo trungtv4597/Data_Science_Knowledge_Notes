{
 "cells": [
  {
   "cell_type": "code",
   "execution_count": 74,
   "metadata": {},
   "outputs": [],
   "source": [
    "import numpy as np\n",
    "np.random.seed(45)\n",
    "import pandas as pd\n",
    "pd.set_option('display.max_columns', 0)\n",
    "import matplotlib.pyplot as plt\n",
    "import seaborn as sns\n",
    "import scipy.stats as st\n",
    "import math"
   ]
  },
  {
   "cell_type": "code",
   "execution_count": 75,
   "metadata": {},
   "outputs": [],
   "source": [
    "data_path = r'C:\\Users\\DucTRung\\Desktop\\data_set\\statistics'"
   ]
  },
  {
   "cell_type": "code",
   "execution_count": 76,
   "metadata": {},
   "outputs": [],
   "source": [
    "df = pd.read_excel(data_path+'\\\\Two_means_dependent_samples.xlsx',sheet_name='Data in kg', header=13).drop(['Unnamed: 0'], axis=1).set_index('Subject')"
   ]
  },
  {
   "cell_type": "markdown",
   "metadata": {},
   "source": [
    "# Confidence interval for difference of two means: *dependent samples*\n",
    "## Background: A program for losing weight and we are interested in how much weight are we  likely to lose. Dataset have a sample of 10 people who have already completed the 12-week program.\n",
    "## Task 1: Calculate the mean and standard deviation of the dataset."
   ]
  },
  {
   "cell_type": "code",
   "execution_count": 77,
   "metadata": {},
   "outputs": [
    {
     "data": {
      "text/html": [
       "<div>\n",
       "<style scoped>\n",
       "    .dataframe tbody tr th:only-of-type {\n",
       "        vertical-align: middle;\n",
       "    }\n",
       "\n",
       "    .dataframe tbody tr th {\n",
       "        vertical-align: top;\n",
       "    }\n",
       "\n",
       "    .dataframe thead th {\n",
       "        text-align: right;\n",
       "    }\n",
       "</style>\n",
       "<table border=\"1\" class=\"dataframe\">\n",
       "  <thead>\n",
       "    <tr style=\"text-align: right;\">\n",
       "      <th></th>\n",
       "      <th>Weight before (kg)</th>\n",
       "      <th>Weight after (kg)</th>\n",
       "      <th>Difference</th>\n",
       "    </tr>\n",
       "    <tr>\n",
       "      <th>Subject</th>\n",
       "      <th></th>\n",
       "      <th></th>\n",
       "      <th></th>\n",
       "    </tr>\n",
       "  </thead>\n",
       "  <tbody>\n",
       "    <tr>\n",
       "      <th>1</th>\n",
       "      <td>103.68</td>\n",
       "      <td>92.87</td>\n",
       "      <td>-10.81</td>\n",
       "    </tr>\n",
       "    <tr>\n",
       "      <th>2</th>\n",
       "      <td>110.68</td>\n",
       "      <td>101.58</td>\n",
       "      <td>-9.10</td>\n",
       "    </tr>\n",
       "    <tr>\n",
       "      <th>3</th>\n",
       "      <td>119.05</td>\n",
       "      <td>105.66</td>\n",
       "      <td>-13.39</td>\n",
       "    </tr>\n",
       "    <tr>\n",
       "      <th>4</th>\n",
       "      <td>101.75</td>\n",
       "      <td>96.18</td>\n",
       "      <td>-5.57</td>\n",
       "    </tr>\n",
       "    <tr>\n",
       "      <th>5</th>\n",
       "      <td>91.69</td>\n",
       "      <td>86.97</td>\n",
       "      <td>-4.72</td>\n",
       "    </tr>\n",
       "    <tr>\n",
       "      <th>6</th>\n",
       "      <td>112.03</td>\n",
       "      <td>105.90</td>\n",
       "      <td>-6.13</td>\n",
       "    </tr>\n",
       "    <tr>\n",
       "      <th>7</th>\n",
       "      <td>88.84</td>\n",
       "      <td>80.56</td>\n",
       "      <td>-8.28</td>\n",
       "    </tr>\n",
       "    <tr>\n",
       "      <th>8</th>\n",
       "      <td>105.18</td>\n",
       "      <td>97.00</td>\n",
       "      <td>-8.18</td>\n",
       "    </tr>\n",
       "    <tr>\n",
       "      <th>9</th>\n",
       "      <td>110.37</td>\n",
       "      <td>99.27</td>\n",
       "      <td>-11.10</td>\n",
       "    </tr>\n",
       "    <tr>\n",
       "      <th>10</th>\n",
       "      <td>120.99</td>\n",
       "      <td>107.44</td>\n",
       "      <td>-13.55</td>\n",
       "    </tr>\n",
       "  </tbody>\n",
       "</table>\n",
       "</div>"
      ],
      "text/plain": [
       "         Weight before (kg)  Weight after (kg)  Difference\n",
       "Subject                                                   \n",
       "1                    103.68              92.87      -10.81\n",
       "2                    110.68             101.58       -9.10\n",
       "3                    119.05             105.66      -13.39\n",
       "4                    101.75              96.18       -5.57\n",
       "5                     91.69              86.97       -4.72\n",
       "6                    112.03             105.90       -6.13\n",
       "7                     88.84              80.56       -8.28\n",
       "8                    105.18              97.00       -8.18\n",
       "9                    110.37              99.27      -11.10\n",
       "10                   120.99             107.44      -13.55"
      ]
     },
     "execution_count": 77,
     "metadata": {},
     "output_type": "execute_result"
    }
   ],
   "source": [
    "df"
   ]
  },
  {
   "cell_type": "code",
   "execution_count": 78,
   "metadata": {},
   "outputs": [
    {
     "name": "stdout",
     "output_type": "stream",
     "text": [
      "Mean:  -9.082999992383083\n"
     ]
    }
   ],
   "source": [
    "mean = df['Difference'].mean()\n",
    "print('Mean: ', mean)"
   ]
  },
  {
   "cell_type": "code",
   "execution_count": 79,
   "metadata": {},
   "outputs": [
    {
     "name": "stdout",
     "output_type": "stream",
     "text": [
      "Standard deviation: 3.111141445655812\n"
     ]
    }
   ],
   "source": [
    "std = df['Difference'].std()\n",
    "print('Standard deviation:', std)"
   ]
  },
  {
   "cell_type": "markdown",
   "metadata": {},
   "source": [
    "## Task 2: Determine the appropriate  statistic to use\n",
    "1. Poplation variance is unknown.\n",
    "2. The dataset has 2 populations.\n",
    "3. Assuming that the population is normally distributed.\n",
    "### => The appropriate statistic to use is the t-statistic"
   ]
  },
  {
   "cell_type": "markdown",
   "metadata": {},
   "source": [
    "## Task 3: Calculate the 95% confidence interval"
   ]
  },
  {
   "cell_type": "code",
   "execution_count": 80,
   "metadata": {},
   "outputs": [],
   "source": [
    "def confidence_interval(data, confidence=.95):\n",
    "    a = np.array(data)\n",
    "    n = len(a)\n",
    "    m = np.mean(a)\n",
    "    se = st.sem(a)\n",
    "    h = st.t.ppf((1 + confidence)/2, n-1)*se\n",
    "    return round(m, 2), round(m-h, 2), round(m+h,2)"
   ]
  },
  {
   "cell_type": "code",
   "execution_count": 81,
   "metadata": {},
   "outputs": [
    {
     "data": {
      "text/plain": [
       "(-9.08, -11.31, -6.86)"
      ]
     },
     "execution_count": 81,
     "metadata": {},
     "output_type": "execute_result"
    }
   ],
   "source": [
    "confidence_interval(df['Difference'], confidence=.95)"
   ]
  },
  {
   "cell_type": "markdown",
   "metadata": {},
   "source": [
    "## Task 4: Interpret the result\n",
    "* We are 95% confident that you will lose between 11.31 and 6.86 if we follow the program as strict as the sample."
   ]
  },
  {
   "cell_type": "markdown",
   "metadata": {},
   "source": [
    "# Confidence interval for difference of two means: *Independent samples and known variance*"
   ]
  },
  {
   "cell_type": "code",
   "execution_count": 82,
   "metadata": {},
   "outputs": [
    {
     "data": {
      "text/html": [
       "<div>\n",
       "<style scoped>\n",
       "    .dataframe tbody tr th:only-of-type {\n",
       "        vertical-align: middle;\n",
       "    }\n",
       "\n",
       "    .dataframe tbody tr th {\n",
       "        vertical-align: top;\n",
       "    }\n",
       "\n",
       "    .dataframe thead th {\n",
       "        text-align: right;\n",
       "    }\n",
       "</style>\n",
       "<table border=\"1\" class=\"dataframe\">\n",
       "  <thead>\n",
       "    <tr style=\"text-align: right;\">\n",
       "      <th></th>\n",
       "      <th>Engineering</th>\n",
       "      <th>Management</th>\n",
       "      <th>Difference</th>\n",
       "    </tr>\n",
       "    <tr>\n",
       "      <th>Unnamed: 1</th>\n",
       "      <th></th>\n",
       "      <th></th>\n",
       "      <th></th>\n",
       "    </tr>\n",
       "  </thead>\n",
       "  <tbody>\n",
       "    <tr>\n",
       "      <th>Size</th>\n",
       "      <td>100</td>\n",
       "      <td>70</td>\n",
       "      <td>?</td>\n",
       "    </tr>\n",
       "    <tr>\n",
       "      <th>Sample mean</th>\n",
       "      <td>58</td>\n",
       "      <td>65</td>\n",
       "      <td>-7</td>\n",
       "    </tr>\n",
       "    <tr>\n",
       "      <th>Population std</th>\n",
       "      <td>10</td>\n",
       "      <td>5</td>\n",
       "      <td>1.16496</td>\n",
       "    </tr>\n",
       "  </tbody>\n",
       "</table>\n",
       "</div>"
      ],
      "text/plain": [
       "                Engineering  Management Difference\n",
       "Unnamed: 1                                        \n",
       "Size                    100          70          ?\n",
       "Sample mean              58          65         -7\n",
       "Population std           10           5    1.16496"
      ]
     },
     "execution_count": 82,
     "metadata": {},
     "output_type": "execute_result"
    }
   ],
   "source": [
    "df = pd.read_excel(data_path+'\\\\Two_means_independent_samples_know_variance.xlsx', header=8, index_col=0)[['Unnamed: 1', 'Engineering', 'Management', 'Difference']].set_index('Unnamed: 1')\n",
    "df"
   ]
  },
  {
   "cell_type": "markdown",
   "metadata": {},
   "source": [
    "## Task 1: Calculate the 99% confidence interval"
   ]
  },
  {
   "cell_type": "code",
   "execution_count": 83,
   "metadata": {},
   "outputs": [],
   "source": [
    "def CI_independent(n_1, n_2, std_1, std_2, m_1, m_2, confidence=.95):\n",
    "    # Calulate Variance:\n",
    "    var_1 = pow(std_1, 2)\n",
    "    var_2 = pow(std_2, 2)\n",
    "    # Calculate t_score:\n",
    "    t_score = st.t.ppf((1+ confidence)/2, n_1+n_2-2)\n",
    "    # Calculate Standard Error:\n",
    "    se = math.sqrt((var_1/n_1) + (var_2/n_2))\n",
    "    # Calculate Margin of Error:\n",
    "    me = t_score * se\n",
    "    \n",
    "    return round((m_1 - m_2)+me, 2), round((m_1 - m_2)-me, 2)"
   ]
  },
  {
   "cell_type": "code",
   "execution_count": 84,
   "metadata": {},
   "outputs": [
    {
     "name": "stdout",
     "output_type": "stream",
     "text": [
      "Confidence interval of 99%: [-3.96, -10.04]\n"
     ]
    }
   ],
   "source": [
    "ci_low, ci_high = CI_independent(100, 70, 10, 5, 58, 65, confidence=.99)\n",
    "print('Confidence interval of 99%: [{}, {}]' .format(ci_low, ci_high))"
   ]
  },
  {
   "cell_type": "markdown",
   "metadata": {},
   "source": [
    "## Task 2: Compare with the 95% CI\n",
    "* A higher confidence leads to a broader interval"
   ]
  },
  {
   "cell_type": "code",
   "execution_count": 85,
   "metadata": {},
   "outputs": [
    {
     "name": "stdout",
     "output_type": "stream",
     "text": [
      "Confidence interval of 95%: [-5.7, -10.3]\n"
     ]
    }
   ],
   "source": [
    "ci_low, ci_high = CI_independent(100, 70, 10, 5, 58, 66)\n",
    "print('Confidence interval of 95%: [{}, {}]' .format(ci_low, ci_high))"
   ]
  },
  {
   "cell_type": "markdown",
   "metadata": {},
   "source": [
    "# Confidence interval for difference of two means: *Independent samples and unknown variance but assumed equal*\n",
    "## E.g.: Dataset of NY apples and LA apples"
   ]
  },
  {
   "cell_type": "code",
   "execution_count": 86,
   "metadata": {},
   "outputs": [
    {
     "data": {
      "text/html": [
       "<div>\n",
       "<style scoped>\n",
       "    .dataframe tbody tr th:only-of-type {\n",
       "        vertical-align: middle;\n",
       "    }\n",
       "\n",
       "    .dataframe tbody tr th {\n",
       "        vertical-align: top;\n",
       "    }\n",
       "\n",
       "    .dataframe thead th {\n",
       "        text-align: right;\n",
       "    }\n",
       "</style>\n",
       "<table border=\"1\" class=\"dataframe\">\n",
       "  <thead>\n",
       "    <tr style=\"text-align: right;\">\n",
       "      <th></th>\n",
       "      <th>NY apples</th>\n",
       "      <th>LA apples</th>\n",
       "    </tr>\n",
       "  </thead>\n",
       "  <tbody>\n",
       "    <tr>\n",
       "      <th>0</th>\n",
       "      <td>3.80</td>\n",
       "      <td>3.02</td>\n",
       "    </tr>\n",
       "    <tr>\n",
       "      <th>1</th>\n",
       "      <td>3.76</td>\n",
       "      <td>3.22</td>\n",
       "    </tr>\n",
       "    <tr>\n",
       "      <th>2</th>\n",
       "      <td>3.87</td>\n",
       "      <td>3.24</td>\n",
       "    </tr>\n",
       "    <tr>\n",
       "      <th>3</th>\n",
       "      <td>3.99</td>\n",
       "      <td>3.02</td>\n",
       "    </tr>\n",
       "    <tr>\n",
       "      <th>4</th>\n",
       "      <td>4.02</td>\n",
       "      <td>3.06</td>\n",
       "    </tr>\n",
       "    <tr>\n",
       "      <th>5</th>\n",
       "      <td>4.25</td>\n",
       "      <td>3.15</td>\n",
       "    </tr>\n",
       "    <tr>\n",
       "      <th>6</th>\n",
       "      <td>4.13</td>\n",
       "      <td>3.81</td>\n",
       "    </tr>\n",
       "    <tr>\n",
       "      <th>7</th>\n",
       "      <td>3.98</td>\n",
       "      <td>3.44</td>\n",
       "    </tr>\n",
       "    <tr>\n",
       "      <th>8</th>\n",
       "      <td>3.99</td>\n",
       "      <td>NaN</td>\n",
       "    </tr>\n",
       "    <tr>\n",
       "      <th>9</th>\n",
       "      <td>3.62</td>\n",
       "      <td>NaN</td>\n",
       "    </tr>\n",
       "  </tbody>\n",
       "</table>\n",
       "</div>"
      ],
      "text/plain": [
       "   NY apples  LA apples\n",
       "0       3.80       3.02\n",
       "1       3.76       3.22\n",
       "2       3.87       3.24\n",
       "3       3.99       3.02\n",
       "4       4.02       3.06\n",
       "5       4.25       3.15\n",
       "6       4.13       3.81\n",
       "7       3.98       3.44\n",
       "8       3.99        NaN\n",
       "9       3.62        NaN"
      ]
     },
     "execution_count": 86,
     "metadata": {},
     "output_type": "execute_result"
    }
   ],
   "source": [
    "df = pd.read_excel(data_path+'\\\\Two_means_independent_samples_unknown_equal.xlsx', header=8).drop('Unnamed: 0', axis=1)\n",
    "df"
   ]
  },
  {
   "cell_type": "code",
   "execution_count": 99,
   "metadata": {},
   "outputs": [
    {
     "data": {
      "text/plain": [
       "nan"
      ]
     },
     "execution_count": 99,
     "metadata": {},
     "output_type": "execute_result"
    }
   ],
   "source": [
    "np.array(df['LA apples'])"
   ]
  },
  {
   "cell_type": "markdown",
   "metadata": {},
   "source": [
    "## Task 1: Calculate the 90% confidence interval"
   ]
  },
  {
   "cell_type": "code",
   "execution_count": 87,
   "metadata": {},
   "outputs": [],
   "source": [
    "def CI_independent_assumed_equal(n_1, n_2, std_1, std_2, m_1, m_2, confidence=.95):\n",
    "    # Calulate variance:\n",
    "    var = ((n_1 -1)*pow(std_1, 2) + (n_2 -1)*pow(std_2, 2))/(n_1 + n_2 -2)\n",
    "    # Calculate t_score:\n",
    "    t_score = st.t.ppf((1+ confidence)/2, n_1+n_2-2)\n",
    "    # Calculate Standard Error:\n",
    "    se = math.sqrt((var/n_1) + (var/n_2))\n",
    "    # Calculate Margin of Error:\n",
    "    me = t_score * se\n",
    "    \n",
    "    return round((m_1 - m_2)+me, 2), round((m_1 - m_2)-me, 2)"
   ]
  },
  {
   "cell_type": "code",
   "execution_count": 100,
   "metadata": {},
   "outputs": [],
   "source": [
    "def pooled(a_1, a_2, confidence=.95):\n",
    "    n_1 = len(a_1)\n",
    "    n_2 = len(a_2)\n",
    "    std_1 = np.std(a_1)\n",
    "    std_2 = np.std(a_2)\n",
    "    m_1 = np.mean(a_1)\n",
    "    m_2 = np.mean(a_2)\n",
    "    return CI_independent_assumed_equal(n_1, n_2, std_1, std_2, m_1, m_2, confidence)"
   ]
  },
  {
   "cell_type": "code",
   "execution_count": 102,
   "metadata": {},
   "outputs": [
    {
     "data": {
      "text/plain": [
       "(0.86, 0.53)"
      ]
     },
     "execution_count": 102,
     "metadata": {},
     "output_type": "execute_result"
    }
   ],
   "source": [
    "pooled(df['NY apples'], df['LA apples'], confidence=.9)"
   ]
  },
  {
   "cell_type": "markdown",
   "metadata": {},
   "source": [
    "## Task 2: Compare with the 95% CI\n",
    "* A lower confidence leads to a narrower interval"
   ]
  },
  {
   "cell_type": "code",
   "execution_count": 103,
   "metadata": {},
   "outputs": [
    {
     "data": {
      "text/plain": [
       "(0.9, 0.49)"
      ]
     },
     "execution_count": 103,
     "metadata": {},
     "output_type": "execute_result"
    }
   ],
   "source": [
    "pooled(df['NY apples'], df['LA apples'])"
   ]
  }
 ],
 "metadata": {
  "kernelspec": {
   "display_name": "Python 3",
   "language": "python",
   "name": "python3"
  },
  "language_info": {
   "codemirror_mode": {
    "name": "ipython",
    "version": 3
   },
   "file_extension": ".py",
   "mimetype": "text/x-python",
   "name": "python",
   "nbconvert_exporter": "python",
   "pygments_lexer": "ipython3",
   "version": "3.7.6"
  }
 },
 "nbformat": 4,
 "nbformat_minor": 4
}

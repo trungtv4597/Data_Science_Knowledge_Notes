{
 "cells": [
  {
   "cell_type": "code",
   "execution_count": 1,
   "metadata": {},
   "outputs": [],
   "source": [
    "import numpy as np\n",
    "np.random.seed(45)\n",
    "import pandas as pd\n",
    "pd.set_option('display.max_columns', 0)\n",
    "import scipy.stats as sta\n",
    "import cc"
   ]
  },
  {
   "cell_type": "code",
   "execution_count": 2,
   "metadata": {},
   "outputs": [],
   "source": [
    "data_path = r'C:\\Users\\DucTRung\\Desktop\\data_set\\statistics'"
   ]
  },
  {
   "cell_type": "markdown",
   "metadata": {},
   "source": [
    "# Hypothesis Testing for One Population\n",
    "-----------\n",
    "## Task 1: Test the null hypothesis ('average salary of DS is 113.000') at 10% significance\n",
    "### Reject the null if:\n",
    "* |test-statistic| > |critical-value|\n",
    "### test-statistic(Z) = (xbar - H0) / standard error\n",
    "### critical-value = t-score"
   ]
  },
  {
   "cell_type": "code",
   "execution_count": 3,
   "metadata": {},
   "outputs": [],
   "source": [
    "df = pd.read_excel(data_path+'\\\\hypothesis_population_variance_known.xlsx', header=6, usecols='B', nrows=37-7)"
   ]
  },
  {
   "cell_type": "code",
   "execution_count": 4,
   "metadata": {},
   "outputs": [],
   "source": [
    "xbar = df['Dataset'].mean()"
   ]
  },
  {
   "cell_type": "code",
   "execution_count": 5,
   "metadata": {},
   "outputs": [],
   "source": [
    "n = len(df['Dataset'])"
   ]
  },
  {
   "cell_type": "code",
   "execution_count": 6,
   "metadata": {},
   "outputs": [],
   "source": [
    "h0 = 113000"
   ]
  },
  {
   "cell_type": "code",
   "execution_count": 7,
   "metadata": {},
   "outputs": [],
   "source": [
    "se = df['Dataset'].sem()"
   ]
  },
  {
   "cell_type": "code",
   "execution_count": 8,
   "metadata": {},
   "outputs": [],
   "source": [
    "t_score = sta.t.ppf((1 + .9)/ 2, len(df)-1)"
   ]
  },
  {
   "cell_type": "code",
   "execution_count": 9,
   "metadata": {},
   "outputs": [],
   "source": [
    "test_statistic = cc.t_test(xbar=xbar, h0=h0, standard_error=se)"
   ]
  },
  {
   "cell_type": "code",
   "execution_count": 10,
   "metadata": {},
   "outputs": [
    {
     "name": "stdout",
     "output_type": "stream",
     "text": [
      "T-test: -6.0\n",
      "t-score: -0.0\n",
      "Decision: REJECT the null hypothesis with level of confidence 95.0%\n"
     ]
    }
   ],
   "source": [
    "cc.decision_the_null(xbar, h0, se, .95, n, n_side=2)"
   ]
  },
  {
   "cell_type": "markdown",
   "metadata": {},
   "source": [
    "## Task 2: What if the question was: is the competitor open rate Exactly 40%. What would be the decision then?\n",
    "### Task 2.1: Test at 5% significance. Comment on the decision with the appropriate statistical jargon."
   ]
  },
  {
   "cell_type": "code",
   "execution_count": 11,
   "metadata": {},
   "outputs": [],
   "source": [
    "df = pd.read_excel(data_path+'\\\\hypothesis_population_variance_unknown.xlsx', header=9, usecols='B', nrows=20-9)"
   ]
  },
  {
   "cell_type": "code",
   "execution_count": 12,
   "metadata": {},
   "outputs": [
    {
     "data": {
      "text/html": [
       "<div>\n",
       "<style scoped>\n",
       "    .dataframe tbody tr th:only-of-type {\n",
       "        vertical-align: middle;\n",
       "    }\n",
       "\n",
       "    .dataframe tbody tr th {\n",
       "        vertical-align: top;\n",
       "    }\n",
       "\n",
       "    .dataframe thead th {\n",
       "        text-align: right;\n",
       "    }\n",
       "</style>\n",
       "<table border=\"1\" class=\"dataframe\">\n",
       "  <thead>\n",
       "    <tr style=\"text-align: right;\">\n",
       "      <th></th>\n",
       "      <th>Open rate</th>\n",
       "    </tr>\n",
       "  </thead>\n",
       "  <tbody>\n",
       "    <tr>\n",
       "      <th>0</th>\n",
       "      <td>0.26</td>\n",
       "    </tr>\n",
       "    <tr>\n",
       "      <th>1</th>\n",
       "      <td>0.23</td>\n",
       "    </tr>\n",
       "    <tr>\n",
       "      <th>2</th>\n",
       "      <td>0.42</td>\n",
       "    </tr>\n",
       "    <tr>\n",
       "      <th>3</th>\n",
       "      <td>0.49</td>\n",
       "    </tr>\n",
       "    <tr>\n",
       "      <th>4</th>\n",
       "      <td>0.23</td>\n",
       "    </tr>\n",
       "    <tr>\n",
       "      <th>5</th>\n",
       "      <td>0.59</td>\n",
       "    </tr>\n",
       "    <tr>\n",
       "      <th>6</th>\n",
       "      <td>0.29</td>\n",
       "    </tr>\n",
       "    <tr>\n",
       "      <th>7</th>\n",
       "      <td>0.29</td>\n",
       "    </tr>\n",
       "    <tr>\n",
       "      <th>8</th>\n",
       "      <td>0.57</td>\n",
       "    </tr>\n",
       "    <tr>\n",
       "      <th>9</th>\n",
       "      <td>0.40</td>\n",
       "    </tr>\n",
       "  </tbody>\n",
       "</table>\n",
       "</div>"
      ],
      "text/plain": [
       "   Open rate\n",
       "0       0.26\n",
       "1       0.23\n",
       "2       0.42\n",
       "3       0.49\n",
       "4       0.23\n",
       "5       0.59\n",
       "6       0.29\n",
       "7       0.29\n",
       "8       0.57\n",
       "9       0.40"
      ]
     },
     "execution_count": 12,
     "metadata": {},
     "output_type": "execute_result"
    }
   ],
   "source": [
    "df"
   ]
  },
  {
   "cell_type": "code",
   "execution_count": 13,
   "metadata": {},
   "outputs": [
    {
     "data": {
      "text/plain": [
       "0.37699999999999995"
      ]
     },
     "execution_count": 13,
     "metadata": {},
     "output_type": "execute_result"
    }
   ],
   "source": [
    "xbar = df['Open rate'].mean()\n",
    "xbar"
   ]
  },
  {
   "cell_type": "code",
   "execution_count": 14,
   "metadata": {},
   "outputs": [],
   "source": [
    "n = len(df['Open rate'])"
   ]
  },
  {
   "cell_type": "code",
   "execution_count": 15,
   "metadata": {},
   "outputs": [
    {
     "data": {
      "text/plain": [
       "0.04343705535343962"
      ]
     },
     "execution_count": 15,
     "metadata": {},
     "output_type": "execute_result"
    }
   ],
   "source": [
    "se = df['Open rate'].sem()\n",
    "se"
   ]
  },
  {
   "cell_type": "code",
   "execution_count": 16,
   "metadata": {},
   "outputs": [],
   "source": [
    "h0 = .4"
   ]
  },
  {
   "cell_type": "code",
   "execution_count": 17,
   "metadata": {},
   "outputs": [
    {
     "name": "stdout",
     "output_type": "stream",
     "text": [
      "T-test: -1.0\n",
      "t-score: -0.0\n",
      "Decision: REJECT the null hypothesis with level of confidence 95.0%\n"
     ]
    }
   ],
   "source": [
    "cc.decision_the_null(xbar, h0, se, .95, n, n_side=2)"
   ]
  },
  {
   "cell_type": "markdown",
   "metadata": {},
   "source": [
    "### Task 2.2: Test at 1% significance. Comment on the decision with the appropriate statistical jargon."
   ]
  },
  {
   "cell_type": "code",
   "execution_count": 18,
   "metadata": {},
   "outputs": [
    {
     "name": "stdout",
     "output_type": "stream",
     "text": [
      "T-test: -1.0\n",
      "t-score: -0.0\n",
      "Decision: REJECT the null hypothesis with level of confidence 99.0%\n"
     ]
    }
   ],
   "source": [
    "cc.decision_the_null(xbar, h0, se, .99, n, n_side=2)"
   ]
  },
  {
   "cell_type": "markdown",
   "metadata": {},
   "source": [
    "# Hypothesis Testing for Two Dependent Population\n",
    "-----------\n",
    "## Backgroud: a weight-loss program, wondering if it is working!\n",
    "## Task 1: Calculate the difference between before and after"
   ]
  },
  {
   "cell_type": "code",
   "execution_count": 19,
   "metadata": {},
   "outputs": [],
   "source": [
    "df = pd.read_excel(data_path+'\\\\hypothesis_dependent_samples.xlsx', header=10, usecols='B, C', nrows=21-10, sheet_name='Weight-loss data, kg')"
   ]
  },
  {
   "cell_type": "code",
   "execution_count": 20,
   "metadata": {},
   "outputs": [
    {
     "data": {
      "text/html": [
       "<div>\n",
       "<style scoped>\n",
       "    .dataframe tbody tr th:only-of-type {\n",
       "        vertical-align: middle;\n",
       "    }\n",
       "\n",
       "    .dataframe tbody tr th {\n",
       "        vertical-align: top;\n",
       "    }\n",
       "\n",
       "    .dataframe thead th {\n",
       "        text-align: right;\n",
       "    }\n",
       "</style>\n",
       "<table border=\"1\" class=\"dataframe\">\n",
       "  <thead>\n",
       "    <tr style=\"text-align: right;\">\n",
       "      <th></th>\n",
       "      <th>Before (kg)</th>\n",
       "      <th>After (kg)</th>\n",
       "    </tr>\n",
       "  </thead>\n",
       "  <tbody>\n",
       "    <tr>\n",
       "      <th>0</th>\n",
       "      <td>103.68</td>\n",
       "      <td>103.668536</td>\n",
       "    </tr>\n",
       "    <tr>\n",
       "      <th>1</th>\n",
       "      <td>110.68</td>\n",
       "      <td>108.383885</td>\n",
       "    </tr>\n",
       "    <tr>\n",
       "      <th>2</th>\n",
       "      <td>119.05</td>\n",
       "      <td>115.947282</td>\n",
       "    </tr>\n",
       "    <tr>\n",
       "      <th>3</th>\n",
       "      <td>101.75</td>\n",
       "      <td>101.704481</td>\n",
       "    </tr>\n",
       "    <tr>\n",
       "      <th>4</th>\n",
       "      <td>91.69</td>\n",
       "      <td>90.586932</td>\n",
       "    </tr>\n",
       "    <tr>\n",
       "      <th>5</th>\n",
       "      <td>112.03</td>\n",
       "      <td>112.703885</td>\n",
       "    </tr>\n",
       "    <tr>\n",
       "      <th>6</th>\n",
       "      <td>88.84</td>\n",
       "      <td>87.363885</td>\n",
       "    </tr>\n",
       "    <tr>\n",
       "      <th>7</th>\n",
       "      <td>105.18</td>\n",
       "      <td>103.803885</td>\n",
       "    </tr>\n",
       "    <tr>\n",
       "      <th>8</th>\n",
       "      <td>110.37</td>\n",
       "      <td>106.073885</td>\n",
       "    </tr>\n",
       "    <tr>\n",
       "      <th>9</th>\n",
       "      <td>120.99</td>\n",
       "      <td>122.651377</td>\n",
       "    </tr>\n",
       "  </tbody>\n",
       "</table>\n",
       "</div>"
      ],
      "text/plain": [
       "   Before (kg)  After (kg)\n",
       "0       103.68  103.668536\n",
       "1       110.68  108.383885\n",
       "2       119.05  115.947282\n",
       "3       101.75  101.704481\n",
       "4        91.69   90.586932\n",
       "5       112.03  112.703885\n",
       "6        88.84   87.363885\n",
       "7       105.18  103.803885\n",
       "8       110.37  106.073885\n",
       "9       120.99  122.651377"
      ]
     },
     "execution_count": 20,
     "metadata": {},
     "output_type": "execute_result"
    }
   ],
   "source": [
    "df"
   ]
  },
  {
   "cell_type": "code",
   "execution_count": 21,
   "metadata": {},
   "outputs": [],
   "source": [
    "df['difference'] = df['After (kg)'] -  df['Before (kg)'] "
   ]
  },
  {
   "cell_type": "markdown",
   "metadata": {},
   "source": [
    "## Task 2: State the null hypothesis\n",
    "* The question: If the weight-loss program is working\n",
    "\n",
    "### => The null hypothesis: It's not working\n",
    "### => H0: difference >= 0\n",
    "---\n",
    "## Task 3: Decide if this is a one-side or two-side test\n",
    "### => Only care negative values, so this is a one_side test\n",
    "### Hint: The null doesn't contain equality or inequality sign (<, >, <=, >=)\n",
    "---\n",
    "\n",
    "## Task 4: Answer the question"
   ]
  },
  {
   "cell_type": "code",
   "execution_count": 22,
   "metadata": {},
   "outputs": [],
   "source": [
    "xbar = df['difference'].mean()"
   ]
  },
  {
   "cell_type": "code",
   "execution_count": 23,
   "metadata": {},
   "outputs": [],
   "source": [
    "h0 = 0"
   ]
  },
  {
   "cell_type": "code",
   "execution_count": 24,
   "metadata": {},
   "outputs": [],
   "source": [
    "se = df['difference'].sem()"
   ]
  },
  {
   "cell_type": "code",
   "execution_count": 25,
   "metadata": {},
   "outputs": [],
   "source": [
    "n = len(df['difference'])"
   ]
  },
  {
   "cell_type": "code",
   "execution_count": 26,
   "metadata": {},
   "outputs": [
    {
     "name": "stdout",
     "output_type": "stream",
     "text": [
      "T-test: -2.0\n",
      "t-score: 2.0\n",
      "Decision: REJECT the null hypothesis with level of confidence 95.0%\n"
     ]
    }
   ],
   "source": [
    "cc.decision_the_null(xbar, h0, se, confidence=.95, n=n, n_side=1)"
   ]
  },
  {
   "cell_type": "code",
   "execution_count": 27,
   "metadata": {},
   "outputs": [
    {
     "name": "stdout",
     "output_type": "stream",
     "text": [
      "T-test: -2.0\n",
      "t-score: 1.0\n",
      "Decision: REJECT the null hypothesis with level of confidence 90.0%\n"
     ]
    }
   ],
   "source": [
    "cc.decision_the_null(xbar, h0, se, confidence=.90, n=n, n_side=1)"
   ]
  },
  {
   "cell_type": "code",
   "execution_count": 28,
   "metadata": {},
   "outputs": [
    {
     "name": "stdout",
     "output_type": "stream",
     "text": [
      "T-test: -2.0\n",
      "t-score: 3.0\n",
      "Decision: ACCEPT the null hypothesis with level of confidence 99.0%\n"
     ]
    }
   ],
   "source": [
    "cc.decision_the_null(xbar, h0, se, confidence=.99, n=n, n_side=1)"
   ]
  },
  {
   "cell_type": "code",
   "execution_count": 29,
   "metadata": {},
   "outputs": [
    {
     "name": "stdout",
     "output_type": "stream",
     "text": [
      "T-test: -2.0\n",
      "t-score: inf\n",
      "Decision: ACCEPT the null hypothesis with level of confidence 100%\n"
     ]
    }
   ],
   "source": [
    "cc.decision_the_null(xbar, h0, se, confidence=1, n=n, n_side=1)"
   ]
  },
  {
   "cell_type": "markdown",
   "metadata": {},
   "source": [
    "# Hypothesis Testing for Two Independent Population with Assumed Equal\n",
    "---\n",
    "## Task 1: Ajax releases a new dish detergent, Extreme Ajax+, which they advertise to be able to clean more dishes with a single one. You want to ses if that is true and have bought 25 bottles of each type and data on how many dirty dishes you can wash with a single bottle."
   ]
  },
  {
   "cell_type": "code",
   "execution_count": 30,
   "metadata": {},
   "outputs": [],
   "source": [
    "df = pd.read_excel(data_path+'\\\\hypothesis_independent_samples.xlsx', header=13, usecols='B:E', nrows=3).set_index('Unnamed: 1')"
   ]
  },
  {
   "cell_type": "code",
   "execution_count": 31,
   "metadata": {},
   "outputs": [
    {
     "data": {
      "text/html": [
       "<div>\n",
       "<style scoped>\n",
       "    .dataframe tbody tr th:only-of-type {\n",
       "        vertical-align: middle;\n",
       "    }\n",
       "\n",
       "    .dataframe tbody tr th {\n",
       "        vertical-align: top;\n",
       "    }\n",
       "\n",
       "    .dataframe thead th {\n",
       "        text-align: right;\n",
       "    }\n",
       "</style>\n",
       "<table border=\"1\" class=\"dataframe\">\n",
       "  <thead>\n",
       "    <tr style=\"text-align: right;\">\n",
       "      <th></th>\n",
       "      <th>Extreme Ajax+</th>\n",
       "      <th>Ajax</th>\n",
       "      <th>Difference</th>\n",
       "    </tr>\n",
       "    <tr>\n",
       "      <th>Unnamed: 1</th>\n",
       "      <th></th>\n",
       "      <th></th>\n",
       "      <th></th>\n",
       "    </tr>\n",
       "  </thead>\n",
       "  <tbody>\n",
       "    <tr>\n",
       "      <th>Size</th>\n",
       "      <td>25</td>\n",
       "      <td>25</td>\n",
       "      <td>?</td>\n",
       "    </tr>\n",
       "    <tr>\n",
       "      <th>Mean</th>\n",
       "      <td>115</td>\n",
       "      <td>100</td>\n",
       "      <td>15</td>\n",
       "    </tr>\n",
       "    <tr>\n",
       "      <th>Variance</th>\n",
       "      <td>625</td>\n",
       "      <td>400</td>\n",
       "      <td>6.40312</td>\n",
       "    </tr>\n",
       "  </tbody>\n",
       "</table>\n",
       "</div>"
      ],
      "text/plain": [
       "            Extreme Ajax+  Ajax Difference\n",
       "Unnamed: 1                                \n",
       "Size                   25    25          ?\n",
       "Mean                  115   100         15\n",
       "Variance              625   400    6.40312"
      ]
     },
     "execution_count": 31,
     "metadata": {},
     "output_type": "execute_result"
    }
   ],
   "source": [
    "df"
   ]
  },
  {
   "cell_type": "markdown",
   "metadata": {},
   "source": [
    "## State the Null Hypothesis\n",
    "#### What do you want to verify: \n",
    "*. Extreme Ajax+ can clean more dishes with a single bottle == mean(A+) - mean(A) > 0 \n",
    "\n",
    "#### The Null Hypothesis:\n",
    "*. H0: mean(A+) - mean(A) <= 0\n",
    "\n",
    "#### Number of side test:\n",
    "*. This is one-side test"
   ]
  },
  {
   "cell_type": "code",
   "execution_count": 32,
   "metadata": {},
   "outputs": [],
   "source": [
    "xbar = df.loc['Mean', 'Extreme Ajax+']"
   ]
  },
  {
   "cell_type": "code",
   "execution_count": 33,
   "metadata": {},
   "outputs": [],
   "source": [
    "ybar = df.loc['Mean', 'Ajax']"
   ]
  },
  {
   "cell_type": "code",
   "execution_count": 34,
   "metadata": {},
   "outputs": [],
   "source": [
    "h0 = 0"
   ]
  },
  {
   "cell_type": "code",
   "execution_count": 35,
   "metadata": {},
   "outputs": [],
   "source": [
    "x_var = df.loc['Variance', 'Extreme Ajax+']"
   ]
  },
  {
   "cell_type": "code",
   "execution_count": 36,
   "metadata": {},
   "outputs": [],
   "source": [
    "y_var = df.loc['Variance', 'Ajax']"
   ]
  },
  {
   "cell_type": "code",
   "execution_count": 37,
   "metadata": {},
   "outputs": [],
   "source": [
    "confidence = .95"
   ]
  },
  {
   "cell_type": "code",
   "execution_count": 38,
   "metadata": {},
   "outputs": [],
   "source": [
    "n_x = n_y = 25"
   ]
  },
  {
   "cell_type": "code",
   "execution_count": 39,
   "metadata": {},
   "outputs": [],
   "source": [
    "n_side = 1"
   ]
  },
  {
   "cell_type": "code",
   "execution_count": 40,
   "metadata": {},
   "outputs": [
    {
     "name": "stdout",
     "output_type": "stream",
     "text": [
      "Test statistics: 2.0\n",
      "Critical value: 2.0\n",
      "Decision: REJECT the null hypothesis with level of confidence 95.0%\n"
     ]
    }
   ],
   "source": [
    "cc.decision_the_null_2_indep_sample(xbar=xbar,\n",
    "                                    ybar=ybar,\n",
    "                                    h0=0,\n",
    "                                    x_var=x_var,\n",
    "                                    y_var=y_var,\n",
    "                                    confidence=.95,\n",
    "                                    n_x=25,\n",
    "                                    n_y=25,\n",
    "                                    n_side=1)"
   ]
  },
  {
   "cell_type": "code",
   "execution_count": 41,
   "metadata": {},
   "outputs": [
    {
     "name": "stdout",
     "output_type": "stream",
     "text": [
      "Test statistics: 2.0\n",
      "Critical value: 1.0\n",
      "Decision: REJECT the null hypothesis with level of confidence 90.0%\n"
     ]
    }
   ],
   "source": [
    "cc.decision_the_null_2_indep_sample(xbar=xbar,\n",
    "                                    ybar=ybar,\n",
    "                                    h0=0,\n",
    "                                    x_var=x_var,\n",
    "                                    y_var=y_var,\n",
    "                                    confidence=.90,\n",
    "                                    n_x=25,\n",
    "                                    n_y=25,\n",
    "                                    n_side=1)"
   ]
  },
  {
   "cell_type": "code",
   "execution_count": 42,
   "metadata": {},
   "outputs": [
    {
     "name": "stdout",
     "output_type": "stream",
     "text": [
      "Test statistics: 2.0\n",
      "Critical value: 2.0\n",
      "Decision: ACCEPT the null hypothesis with level of confidence 99.0%\n"
     ]
    }
   ],
   "source": [
    "cc.decision_the_null_2_indep_sample(xbar=xbar,\n",
    "                                    ybar=ybar,\n",
    "                                    h0=0,\n",
    "                                    x_var=x_var,\n",
    "                                    y_var=y_var,\n",
    "                                    confidence=.99,\n",
    "                                    n_x=25,\n",
    "                                    n_y=25,\n",
    "                                    n_side=1)"
   ]
  },
  {
   "cell_type": "markdown",
   "metadata": {},
   "source": [
    "## Task 2: You have data on the amount of times people click on a pop-up add on 24 Mondays and 21 Saturdays on an e-learning platform for several years. The samples are drawn independently. Is there strong evidence that number of clicks the add record on Monday is higher than the number of clicks on Saturdays?"
   ]
  },
  {
   "cell_type": "code",
   "execution_count": 46,
   "metadata": {},
   "outputs": [
    {
     "data": {
      "text/html": [
       "<div>\n",
       "<style scoped>\n",
       "    .dataframe tbody tr th:only-of-type {\n",
       "        vertical-align: middle;\n",
       "    }\n",
       "\n",
       "    .dataframe tbody tr th {\n",
       "        vertical-align: top;\n",
       "    }\n",
       "\n",
       "    .dataframe thead th {\n",
       "        text-align: right;\n",
       "    }\n",
       "</style>\n",
       "<table border=\"1\" class=\"dataframe\">\n",
       "  <thead>\n",
       "    <tr style=\"text-align: right;\">\n",
       "      <th></th>\n",
       "      <th>Monday</th>\n",
       "      <th>Saturday</th>\n",
       "    </tr>\n",
       "    <tr>\n",
       "      <th>Unnamed: 1</th>\n",
       "      <th></th>\n",
       "      <th></th>\n",
       "    </tr>\n",
       "  </thead>\n",
       "  <tbody>\n",
       "    <tr>\n",
       "      <th>Mean</th>\n",
       "      <td>1078</td>\n",
       "      <td>908.2</td>\n",
       "    </tr>\n",
       "    <tr>\n",
       "      <th>Std. deviation</th>\n",
       "      <td>633</td>\n",
       "      <td>469.8</td>\n",
       "    </tr>\n",
       "    <tr>\n",
       "      <th>Sample size</th>\n",
       "      <td>24</td>\n",
       "      <td>21.0</td>\n",
       "    </tr>\n",
       "  </tbody>\n",
       "</table>\n",
       "</div>"
      ],
      "text/plain": [
       "                Monday  Saturday\n",
       "Unnamed: 1                      \n",
       "Mean              1078     908.2\n",
       "Std. deviation     633     469.8\n",
       "Sample size         24      21.0"
      ]
     },
     "execution_count": 46,
     "metadata": {},
     "output_type": "execute_result"
    }
   ],
   "source": [
    "df = pd.read_excel(data_path+'\\\\hypothesis_independent-samples_equally.xlsx', header=7, usecols='B:D', nrows=3).set_index('Unnamed: 1')\n",
    "df"
   ]
  },
  {
   "cell_type": "markdown",
   "metadata": {},
   "source": [
    "### State the Null Hypothesis\n",
    "#### Verification:\n",
    "* Number of clicks the add on Monday is higher than the one on Saturday == mean(Mon) - mean(Sat) > 0\n",
    "\n",
    "#### The Null Hypthesis\n",
    "* H0: mean(Mon) - mean(Sat) <= 0"
   ]
  },
  {
   "cell_type": "code",
   "execution_count": 48,
   "metadata": {},
   "outputs": [],
   "source": [
    "xbar = df.loc['Mean', 'Monday']"
   ]
  },
  {
   "cell_type": "code",
   "execution_count": 49,
   "metadata": {},
   "outputs": [],
   "source": [
    "ybar = df.loc['Mean', 'Saturday']"
   ]
  },
  {
   "cell_type": "code",
   "execution_count": 52,
   "metadata": {},
   "outputs": [],
   "source": [
    "x_var = pow(df.loc['Std. deviation', 'Monday'], 2)"
   ]
  },
  {
   "cell_type": "code",
   "execution_count": 53,
   "metadata": {},
   "outputs": [],
   "source": [
    "y_var = pow(df.loc['Std. deviation', 'Saturday'], 2)"
   ]
  },
  {
   "cell_type": "code",
   "execution_count": 55,
   "metadata": {},
   "outputs": [],
   "source": [
    "n_x = df.loc['Sample size', 'Monday']"
   ]
  },
  {
   "cell_type": "code",
   "execution_count": 56,
   "metadata": {},
   "outputs": [],
   "source": [
    "n_y = df.loc['Sample size', 'Saturday']"
   ]
  },
  {
   "cell_type": "code",
   "execution_count": 61,
   "metadata": {},
   "outputs": [
    {
     "name": "stdout",
     "output_type": "stream",
     "text": [
      "Test statistics: 1.0\n",
      "Critical value: 2.0\n",
      "Decision: ACCEPT the null hypothesis with level of confidence 95.0%\n"
     ]
    }
   ],
   "source": [
    "cc.decision_the_null_2_indep_sample(xbar, ybar,\n",
    "                                    h0=0,\n",
    "                                    x_var=x_var, y_var=y_var,\n",
    "                                    n_x=n_x, n_y=n_y,\n",
    "                                    confidence=.95,\n",
    "                                    n_side=1)"
   ]
  },
  {
   "cell_type": "code",
   "execution_count": 62,
   "metadata": {},
   "outputs": [
    {
     "name": "stdout",
     "output_type": "stream",
     "text": [
      "Test statistics: 1.0\n",
      "Critical value: 2.0\n",
      "Decision: ACCEPT the null hypothesis with level of confidence 99.0%\n"
     ]
    }
   ],
   "source": [
    "cc.decision_the_null_2_indep_sample(xbar, ybar,\n",
    "                                    h0=0,\n",
    "                                    x_var=x_var, y_var=y_var,\n",
    "                                    n_x=n_x, n_y=n_y,\n",
    "                                    confidence=.99,\n",
    "                                    n_side=1)"
   ]
  },
  {
   "cell_type": "code",
   "execution_count": 63,
   "metadata": {},
   "outputs": [
    {
     "name": "stdout",
     "output_type": "stream",
     "text": [
      "Test statistics: 1.0\n",
      "Critical value: 1.0\n",
      "Decision: ACCEPT the null hypothesis with level of confidence 90.0%\n"
     ]
    }
   ],
   "source": [
    "cc.decision_the_null_2_indep_sample(xbar, ybar,\n",
    "                                    h0=0,\n",
    "                                    x_var=x_var, y_var=y_var,\n",
    "                                    n_x=n_x, n_y=n_y,\n",
    "                                    confidence=.90,\n",
    "                                    n_side=1)"
   ]
  },
  {
   "cell_type": "markdown",
   "metadata": {},
   "source": [
    "### Result: There is no reason that add clicking on Monday is more than on Saturday\n",
    "----\n",
    "# Final Exam"
   ]
  },
  {
   "cell_type": "code",
   "execution_count": 66,
   "metadata": {},
   "outputs": [
    {
     "data": {
      "text/html": [
       "<div>\n",
       "<style scoped>\n",
       "    .dataframe tbody tr th:only-of-type {\n",
       "        vertical-align: middle;\n",
       "    }\n",
       "\n",
       "    .dataframe tbody tr th {\n",
       "        vertical-align: top;\n",
       "    }\n",
       "\n",
       "    .dataframe thead th {\n",
       "        text-align: right;\n",
       "    }\n",
       "</style>\n",
       "<table border=\"1\" class=\"dataframe\">\n",
       "  <thead>\n",
       "    <tr style=\"text-align: right;\">\n",
       "      <th></th>\n",
       "      <th>Surname</th>\n",
       "      <th>Name</th>\n",
       "      <th>Age</th>\n",
       "      <th>Gender</th>\n",
       "      <th>Country</th>\n",
       "      <th>Ethnicity</th>\n",
       "      <th>Start_date</th>\n",
       "      <th>Department</th>\n",
       "      <th>Position</th>\n",
       "      <th>Salary</th>\n",
       "    </tr>\n",
       "  </thead>\n",
       "  <tbody>\n",
       "    <tr>\n",
       "      <th>0</th>\n",
       "      <td>Sweetwater</td>\n",
       "      <td>Alex</td>\n",
       "      <td>51</td>\n",
       "      <td>Male</td>\n",
       "      <td>United States</td>\n",
       "      <td>White</td>\n",
       "      <td>2011-08-15</td>\n",
       "      <td>Software Engineering</td>\n",
       "      <td>Software Engineering Manager</td>\n",
       "      <td>56160.0</td>\n",
       "    </tr>\n",
       "    <tr>\n",
       "      <th>1</th>\n",
       "      <td>Carabbio</td>\n",
       "      <td>Judith</td>\n",
       "      <td>30</td>\n",
       "      <td>Female</td>\n",
       "      <td>United States</td>\n",
       "      <td>White</td>\n",
       "      <td>2013-11-11</td>\n",
       "      <td>Software Engineering</td>\n",
       "      <td>Software Engineer</td>\n",
       "      <td>116480.0</td>\n",
       "    </tr>\n",
       "    <tr>\n",
       "      <th>2</th>\n",
       "      <td>Saada</td>\n",
       "      <td>Adell</td>\n",
       "      <td>31</td>\n",
       "      <td>Female</td>\n",
       "      <td>United States</td>\n",
       "      <td>White</td>\n",
       "      <td>2012-11-05</td>\n",
       "      <td>Software Engineering</td>\n",
       "      <td>Software Engineer</td>\n",
       "      <td>102440.0</td>\n",
       "    </tr>\n",
       "    <tr>\n",
       "      <th>3</th>\n",
       "      <td>Szabo</td>\n",
       "      <td>Andrew</td>\n",
       "      <td>34</td>\n",
       "      <td>Male</td>\n",
       "      <td>United States</td>\n",
       "      <td>White</td>\n",
       "      <td>2014-07-07</td>\n",
       "      <td>Software Engineering</td>\n",
       "      <td>Software Engineer</td>\n",
       "      <td>99840.0</td>\n",
       "    </tr>\n",
       "    <tr>\n",
       "      <th>4</th>\n",
       "      <td>Andreola</td>\n",
       "      <td>Colby</td>\n",
       "      <td>38</td>\n",
       "      <td>Female</td>\n",
       "      <td>United States</td>\n",
       "      <td>White</td>\n",
       "      <td>2014-11-10</td>\n",
       "      <td>Software Engineering</td>\n",
       "      <td>Software Engineer</td>\n",
       "      <td>99008.0</td>\n",
       "    </tr>\n",
       "    <tr>\n",
       "      <th>...</th>\n",
       "      <td>...</td>\n",
       "      <td>...</td>\n",
       "      <td>...</td>\n",
       "      <td>...</td>\n",
       "      <td>...</td>\n",
       "      <td>...</td>\n",
       "      <td>...</td>\n",
       "      <td>...</td>\n",
       "      <td>...</td>\n",
       "      <td>...</td>\n",
       "    </tr>\n",
       "    <tr>\n",
       "      <th>169</th>\n",
       "      <td>Zima</td>\n",
       "      <td>Colleen</td>\n",
       "      <td>39</td>\n",
       "      <td>Female</td>\n",
       "      <td>United States</td>\n",
       "      <td>Asian</td>\n",
       "      <td>2014-09-29</td>\n",
       "      <td>Production</td>\n",
       "      <td>Production Technician I</td>\n",
       "      <td>31200.0</td>\n",
       "    </tr>\n",
       "    <tr>\n",
       "      <th>170</th>\n",
       "      <td>Sutwell</td>\n",
       "      <td>Barbara</td>\n",
       "      <td>49</td>\n",
       "      <td>Female</td>\n",
       "      <td>Australia</td>\n",
       "      <td>Asian</td>\n",
       "      <td>2012-05-14</td>\n",
       "      <td>Production</td>\n",
       "      <td>Production Technician I</td>\n",
       "      <td>29120.0</td>\n",
       "    </tr>\n",
       "    <tr>\n",
       "      <th>171</th>\n",
       "      <td>Warfield</td>\n",
       "      <td>Sarah</td>\n",
       "      <td>39</td>\n",
       "      <td>Female</td>\n",
       "      <td>United States</td>\n",
       "      <td>Asian</td>\n",
       "      <td>2015-03-30</td>\n",
       "      <td>IT/IS</td>\n",
       "      <td>Sr. Network Engineer</td>\n",
       "      <td>114816.0</td>\n",
       "    </tr>\n",
       "    <tr>\n",
       "      <th>172</th>\n",
       "      <td>Petrowsky</td>\n",
       "      <td>Thelma</td>\n",
       "      <td>33</td>\n",
       "      <td>Female</td>\n",
       "      <td>United States</td>\n",
       "      <td>Asian</td>\n",
       "      <td>2014-11-10</td>\n",
       "      <td>IT/IS</td>\n",
       "      <td>Database Administrator</td>\n",
       "      <td>88920.0</td>\n",
       "    </tr>\n",
       "    <tr>\n",
       "      <th>173</th>\n",
       "      <td>Boutwell</td>\n",
       "      <td>Bonalyn</td>\n",
       "      <td>30</td>\n",
       "      <td>Female</td>\n",
       "      <td>United States</td>\n",
       "      <td>Asian</td>\n",
       "      <td>2015-02-16</td>\n",
       "      <td>Admin Offices</td>\n",
       "      <td>Sr. Accountant</td>\n",
       "      <td>72696.0</td>\n",
       "    </tr>\n",
       "  </tbody>\n",
       "</table>\n",
       "<p>174 rows × 10 columns</p>\n",
       "</div>"
      ],
      "text/plain": [
       "        Surname     Name  Age  Gender  ... Start_date                 Department                      Position    Salary\n",
       "0    Sweetwater     Alex   51    Male  ... 2011-08-15  Software Engineering       Software Engineering Manager   56160.0\n",
       "1      Carabbio   Judith   30  Female  ... 2013-11-11       Software Engineering             Software Engineer  116480.0\n",
       "2         Saada    Adell   31  Female  ... 2012-11-05       Software Engineering             Software Engineer  102440.0\n",
       "3         Szabo   Andrew   34    Male  ... 2014-07-07       Software Engineering             Software Engineer   99840.0\n",
       "4      Andreola    Colby   38  Female  ... 2014-11-10       Software Engineering             Software Engineer   99008.0\n",
       "..          ...      ...  ...     ...  ...        ...                        ...                           ...       ...\n",
       "169        Zima  Colleen   39  Female  ... 2014-09-29          Production              Production Technician I   31200.0\n",
       "170     Sutwell  Barbara   49  Female  ... 2012-05-14          Production              Production Technician I   29120.0\n",
       "171    Warfield    Sarah   39  Female  ... 2015-03-30                      IT/IS          Sr. Network Engineer  114816.0\n",
       "172   Petrowsky   Thelma   33  Female  ... 2014-11-10                      IT/IS        Database Administrator   88920.0\n",
       "173    Boutwell  Bonalyn   30  Female  ... 2015-02-16              Admin Offices                Sr. Accountant   72696.0\n",
       "\n",
       "[174 rows x 10 columns]"
      ]
     },
     "execution_count": 66,
     "metadata": {},
     "output_type": "execute_result"
    }
   ],
   "source": [
    "df = pd.read_excel(data_path+'\\\\Hypothesis_statistics_final_exam.xlsx', header=3, usecols='B:K')\n",
    "df"
   ]
  },
  {
   "cell_type": "markdown",
   "metadata": {},
   "source": [
    "## Task: Find if there is pay gap based on race between White and Nonwhite employees.\n",
    "\n",
    "### The Null Hypothesis:\n",
    "*. There is no gap == mean(wh) - mean(nwh) = 0"
   ]
  },
  {
   "cell_type": "code",
   "execution_count": 119,
   "metadata": {},
   "outputs": [],
   "source": [
    "white_df = pd.read_excel(data_path+'\\\\Hypothesis_statistics_final_exam.xlsx', sheet_name='White',  header=3, usecols='B:K', nrows=116-4)"
   ]
  },
  {
   "cell_type": "code",
   "execution_count": 120,
   "metadata": {},
   "outputs": [],
   "source": [
    "nonwhite_df = pd.read_excel(data_path+'\\\\Hypothesis_statistics_final_exam.xlsx', sheet_name='Nonwhite',  header=3, usecols='B:K')"
   ]
  },
  {
   "cell_type": "code",
   "execution_count": 121,
   "metadata": {},
   "outputs": [
    {
     "data": {
      "text/html": [
       "<div>\n",
       "<style scoped>\n",
       "    .dataframe tbody tr th:only-of-type {\n",
       "        vertical-align: middle;\n",
       "    }\n",
       "\n",
       "    .dataframe tbody tr th {\n",
       "        vertical-align: top;\n",
       "    }\n",
       "\n",
       "    .dataframe thead th {\n",
       "        text-align: right;\n",
       "    }\n",
       "</style>\n",
       "<table border=\"1\" class=\"dataframe\">\n",
       "  <thead>\n",
       "    <tr style=\"text-align: right;\">\n",
       "      <th></th>\n",
       "      <th>Surname</th>\n",
       "      <th>Name</th>\n",
       "      <th>Age</th>\n",
       "      <th>Gender</th>\n",
       "      <th>Country</th>\n",
       "      <th>Ethnicity</th>\n",
       "      <th>Start_date</th>\n",
       "      <th>Department</th>\n",
       "      <th>Position</th>\n",
       "      <th>Salary</th>\n",
       "    </tr>\n",
       "  </thead>\n",
       "  <tbody>\n",
       "    <tr>\n",
       "      <th>0</th>\n",
       "      <td>Friedman</td>\n",
       "      <td>Gerry</td>\n",
       "      <td>48</td>\n",
       "      <td>Male</td>\n",
       "      <td>United States</td>\n",
       "      <td>Two or more races</td>\n",
       "      <td>2011-03-07</td>\n",
       "      <td>Sales</td>\n",
       "      <td>Area Sales Manager</td>\n",
       "      <td>115440.0</td>\n",
       "    </tr>\n",
       "    <tr>\n",
       "      <th>1</th>\n",
       "      <td>Mullaney</td>\n",
       "      <td>Howard</td>\n",
       "      <td>42</td>\n",
       "      <td>Male</td>\n",
       "      <td>United States</td>\n",
       "      <td>Two or more races</td>\n",
       "      <td>2014-09-29</td>\n",
       "      <td>Sales</td>\n",
       "      <td>Area Sales Manager</td>\n",
       "      <td>114400.0</td>\n",
       "    </tr>\n",
       "    <tr>\n",
       "      <th>2</th>\n",
       "      <td>Nguyen</td>\n",
       "      <td>Dheepa</td>\n",
       "      <td>28</td>\n",
       "      <td>Female</td>\n",
       "      <td>United States</td>\n",
       "      <td>Two or more races</td>\n",
       "      <td>2013-07-08</td>\n",
       "      <td>Sales</td>\n",
       "      <td>Area Sales Manager</td>\n",
       "      <td>114400.0</td>\n",
       "    </tr>\n",
       "    <tr>\n",
       "      <th>3</th>\n",
       "      <td>Valentin</td>\n",
       "      <td>Jackie</td>\n",
       "      <td>26</td>\n",
       "      <td>Female</td>\n",
       "      <td>United States</td>\n",
       "      <td>Two or more races</td>\n",
       "      <td>2011-07-05</td>\n",
       "      <td>Sales</td>\n",
       "      <td>Area Sales Manager</td>\n",
       "      <td>114400.0</td>\n",
       "    </tr>\n",
       "    <tr>\n",
       "      <th>4</th>\n",
       "      <td>Davis</td>\n",
       "      <td>Daniel</td>\n",
       "      <td>38</td>\n",
       "      <td>Male</td>\n",
       "      <td>Australia</td>\n",
       "      <td>Two or more races</td>\n",
       "      <td>2011-11-07</td>\n",
       "      <td>Production</td>\n",
       "      <td>Production Technician II</td>\n",
       "      <td>52000.0</td>\n",
       "    </tr>\n",
       "    <tr>\n",
       "      <th>...</th>\n",
       "      <td>...</td>\n",
       "      <td>...</td>\n",
       "      <td>...</td>\n",
       "      <td>...</td>\n",
       "      <td>...</td>\n",
       "      <td>...</td>\n",
       "      <td>...</td>\n",
       "      <td>...</td>\n",
       "      <td>...</td>\n",
       "      <td>...</td>\n",
       "    </tr>\n",
       "    <tr>\n",
       "      <th>57</th>\n",
       "      <td>Zima</td>\n",
       "      <td>Colleen</td>\n",
       "      <td>39</td>\n",
       "      <td>Female</td>\n",
       "      <td>United States</td>\n",
       "      <td>Asian</td>\n",
       "      <td>2014-09-29</td>\n",
       "      <td>Production</td>\n",
       "      <td>Production Technician I</td>\n",
       "      <td>31200.0</td>\n",
       "    </tr>\n",
       "    <tr>\n",
       "      <th>58</th>\n",
       "      <td>Sutwell</td>\n",
       "      <td>Barbara</td>\n",
       "      <td>49</td>\n",
       "      <td>Female</td>\n",
       "      <td>Australia</td>\n",
       "      <td>Asian</td>\n",
       "      <td>2012-05-14</td>\n",
       "      <td>Production</td>\n",
       "      <td>Production Technician I</td>\n",
       "      <td>29120.0</td>\n",
       "    </tr>\n",
       "    <tr>\n",
       "      <th>59</th>\n",
       "      <td>Warfield</td>\n",
       "      <td>Sarah</td>\n",
       "      <td>39</td>\n",
       "      <td>Female</td>\n",
       "      <td>United States</td>\n",
       "      <td>Asian</td>\n",
       "      <td>2015-03-30</td>\n",
       "      <td>IT/IS</td>\n",
       "      <td>Sr. Network Engineer</td>\n",
       "      <td>114816.0</td>\n",
       "    </tr>\n",
       "    <tr>\n",
       "      <th>60</th>\n",
       "      <td>Petrowsky</td>\n",
       "      <td>Thelma</td>\n",
       "      <td>33</td>\n",
       "      <td>Female</td>\n",
       "      <td>United States</td>\n",
       "      <td>Asian</td>\n",
       "      <td>2014-11-10</td>\n",
       "      <td>IT/IS</td>\n",
       "      <td>Database Administrator</td>\n",
       "      <td>88920.0</td>\n",
       "    </tr>\n",
       "    <tr>\n",
       "      <th>61</th>\n",
       "      <td>Boutwell</td>\n",
       "      <td>Bonalyn</td>\n",
       "      <td>30</td>\n",
       "      <td>Female</td>\n",
       "      <td>United States</td>\n",
       "      <td>Asian</td>\n",
       "      <td>2015-02-16</td>\n",
       "      <td>Admin Offices</td>\n",
       "      <td>Sr. Accountant</td>\n",
       "      <td>72696.0</td>\n",
       "    </tr>\n",
       "  </tbody>\n",
       "</table>\n",
       "<p>62 rows × 10 columns</p>\n",
       "</div>"
      ],
      "text/plain": [
       "      Surname     Name  Age  Gender  ... Start_date         Department                  Position    Salary\n",
       "0    Friedman    Gerry   48    Male  ... 2011-03-07              Sales        Area Sales Manager  115440.0\n",
       "1    Mullaney   Howard   42    Male  ... 2014-09-29              Sales        Area Sales Manager  114400.0\n",
       "2      Nguyen   Dheepa   28  Female  ... 2013-07-08              Sales        Area Sales Manager  114400.0\n",
       "3    Valentin   Jackie   26  Female  ... 2011-07-05              Sales        Area Sales Manager  114400.0\n",
       "4       Davis   Daniel   38    Male  ... 2011-11-07  Production         Production Technician II   52000.0\n",
       "..        ...      ...  ...     ...  ...        ...                ...                       ...       ...\n",
       "57       Zima  Colleen   39  Female  ... 2014-09-29  Production          Production Technician I   31200.0\n",
       "58    Sutwell  Barbara   49  Female  ... 2012-05-14  Production          Production Technician I   29120.0\n",
       "59   Warfield    Sarah   39  Female  ... 2015-03-30              IT/IS      Sr. Network Engineer  114816.0\n",
       "60  Petrowsky   Thelma   33  Female  ... 2014-11-10              IT/IS    Database Administrator   88920.0\n",
       "61   Boutwell  Bonalyn   30  Female  ... 2015-02-16      Admin Offices            Sr. Accountant   72696.0\n",
       "\n",
       "[62 rows x 10 columns]"
      ]
     },
     "execution_count": 121,
     "metadata": {},
     "output_type": "execute_result"
    }
   ],
   "source": [
    "nonwhite_df"
   ]
  },
  {
   "cell_type": "code",
   "execution_count": 122,
   "metadata": {},
   "outputs": [],
   "source": [
    "d= {'mean': [xbar, ybar],\n",
    "    'n_sample': [n_x, n_y],\n",
    "    'variance': [x_var, y_var],\n",
    "    'type':['White', 'Nonwhite']}"
   ]
  },
  {
   "cell_type": "code",
   "execution_count": 123,
   "metadata": {},
   "outputs": [],
   "source": [
    "df_ = pd.DataFrame(data=d).set_index(['type'])"
   ]
  },
  {
   "cell_type": "code",
   "execution_count": 125,
   "metadata": {},
   "outputs": [],
   "source": [
    "df_.loc['White', 'mean'] = white_df['Salary'].mean()"
   ]
  },
  {
   "cell_type": "code",
   "execution_count": 126,
   "metadata": {},
   "outputs": [],
   "source": [
    "df_.loc['Nonwhite', 'mean'] = nonwhite_df['Salary'].mean()"
   ]
  },
  {
   "cell_type": "code",
   "execution_count": 127,
   "metadata": {},
   "outputs": [],
   "source": [
    "df_.loc['White', 'n_sample'] = len(white_df['Salary'])"
   ]
  },
  {
   "cell_type": "code",
   "execution_count": 128,
   "metadata": {},
   "outputs": [],
   "source": [
    "df_.loc['Nonwhite', 'n_sample'] = len(nonwhite_df['Salary'])"
   ]
  },
  {
   "cell_type": "code",
   "execution_count": 129,
   "metadata": {},
   "outputs": [],
   "source": [
    "df_.loc['White', 'variance'] = white_df['Salary'].var()"
   ]
  },
  {
   "cell_type": "code",
   "execution_count": 130,
   "metadata": {},
   "outputs": [],
   "source": [
    "df_.loc['Nonwhite', 'variance'] = nonwhite_df['Salary'].var()"
   ]
  },
  {
   "cell_type": "code",
   "execution_count": 131,
   "metadata": {},
   "outputs": [
    {
     "data": {
      "text/html": [
       "<div>\n",
       "<style scoped>\n",
       "    .dataframe tbody tr th:only-of-type {\n",
       "        vertical-align: middle;\n",
       "    }\n",
       "\n",
       "    .dataframe tbody tr th {\n",
       "        vertical-align: top;\n",
       "    }\n",
       "\n",
       "    .dataframe thead th {\n",
       "        text-align: right;\n",
       "    }\n",
       "</style>\n",
       "<table border=\"1\" class=\"dataframe\">\n",
       "  <thead>\n",
       "    <tr style=\"text-align: right;\">\n",
       "      <th></th>\n",
       "      <th>mean</th>\n",
       "      <th>n_sample</th>\n",
       "      <th>variance</th>\n",
       "    </tr>\n",
       "    <tr>\n",
       "      <th>type</th>\n",
       "      <th></th>\n",
       "      <th></th>\n",
       "      <th></th>\n",
       "    </tr>\n",
       "  </thead>\n",
       "  <tbody>\n",
       "    <tr>\n",
       "      <th>White</th>\n",
       "      <td>67323.100000</td>\n",
       "      <td>112.0</td>\n",
       "      <td>1.136728e+09</td>\n",
       "    </tr>\n",
       "    <tr>\n",
       "      <th>Nonwhite</th>\n",
       "      <td>70917.264516</td>\n",
       "      <td>62.0</td>\n",
       "      <td>1.225050e+09</td>\n",
       "    </tr>\n",
       "  </tbody>\n",
       "</table>\n",
       "</div>"
      ],
      "text/plain": [
       "                  mean  n_sample      variance\n",
       "type                                          \n",
       "White     67323.100000     112.0  1.136728e+09\n",
       "Nonwhite  70917.264516      62.0  1.225050e+09"
      ]
     },
     "execution_count": 131,
     "metadata": {},
     "output_type": "execute_result"
    }
   ],
   "source": [
    "df_"
   ]
  },
  {
   "cell_type": "code",
   "execution_count": 133,
   "metadata": {},
   "outputs": [],
   "source": [
    "xbar = df_.iloc[0, 0]\n",
    "n_x = df_.iloc[0, 1]\n",
    "x_var = df_.iloc[0, 2]\n",
    "\n",
    "ybar = df_.iloc[1, 0]\n",
    "n_y = df_.iloc[1, 1]\n",
    "y_var = df_.iloc[1, 2]"
   ]
  },
  {
   "cell_type": "code",
   "execution_count": 135,
   "metadata": {},
   "outputs": [
    {
     "name": "stdout",
     "output_type": "stream",
     "text": [
      "Test statistics: -1.0\n",
      "Critical value: -0.0\n",
      "Decision: REJECT the null hypothesis with level of confidence 95.0%\n"
     ]
    }
   ],
   "source": [
    "cc.decision_the_null_2_indep_sample(xbar=xbar, ybar=ybar,\n",
    "                                    n_x=n_x, n_y=n_y,\n",
    "                                    x_var=x_var, y_var=y_var,\n",
    "                                    confidence=.95,\n",
    "                                    n_side=2,\n",
    "                                    h0=0)"
   ]
  },
  {
   "cell_type": "code",
   "execution_count": 136,
   "metadata": {},
   "outputs": [
    {
     "name": "stdout",
     "output_type": "stream",
     "text": [
      "Test statistics: -1.0\n",
      "Critical value: -0.0\n",
      "Decision: REJECT the null hypothesis with level of confidence 99.0%\n"
     ]
    }
   ],
   "source": [
    "cc.decision_the_null_2_indep_sample(xbar=xbar, ybar=ybar,\n",
    "                                    n_x=n_x, n_y=n_y,\n",
    "                                    x_var=x_var, y_var=y_var,\n",
    "                                    confidence=.99,\n",
    "                                    n_side=2,\n",
    "                                    h0=0)"
   ]
  },
  {
   "cell_type": "markdown",
   "metadata": {},
   "source": [
    "## Results: There is a gap between white and nonwhite"
   ]
  },
  {
   "cell_type": "code",
   "execution_count": null,
   "metadata": {},
   "outputs": [],
   "source": []
  }
 ],
 "metadata": {
  "kernelspec": {
   "display_name": "Python 3",
   "language": "python",
   "name": "python3"
  },
  "language_info": {
   "codemirror_mode": {
    "name": "ipython",
    "version": 3
   },
   "file_extension": ".py",
   "mimetype": "text/x-python",
   "name": "python",
   "nbconvert_exporter": "python",
   "pygments_lexer": "ipython3",
   "version": "3.7.6"
  }
 },
 "nbformat": 4,
 "nbformat_minor": 4
}

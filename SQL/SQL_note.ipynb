{
 "cells": [
  {
   "cell_type": "markdown",
   "metadata": {},
   "source": [
    "# CREATE TABLE\n",
    "\n",
    "For example, imagine a _users data set_ containing for each user with _user_id, name, and num_friends_.\n",
    "\n",
    "**In SQL, we might create this table with:**\n",
    "\n",
    "```SQL\n",
    "CREATE TABLE users (\n",
    "    user_id INT NOT NULL,\n",
    "    name VARCHAR(200),\n",
    "    num_friends INT);\n",
    "``` "
   ]
  },
  {
   "cell_type": "code",
   "execution_count": 22,
   "metadata": {},
   "outputs": [],
   "source": [
    "class Table:\n",
    "    def __init__(self, columns):\n",
    "        self.columns = columns\n",
    "        self.rows = []\n",
    "        \n",
    "    def __repr__(self):\n",
    "        \"\"\"pretty representation of the table: columns then rows\"\"\"\n",
    "        return str(self.columns) "
   ]
  },
  {
   "cell_type": "code",
   "execution_count": 23,
   "metadata": {},
   "outputs": [
    {
     "data": {
      "text/plain": [
       "['user_id', 'name', 'num_friends']"
      ]
     },
     "execution_count": 23,
     "metadata": {},
     "output_type": "execute_result"
    }
   ],
   "source": [
    "Table(['user_id', \n",
    "       'name', 'num_friends'])"
   ]
  },
  {
   "cell_type": "markdown",
   "metadata": {},
   "source": [
    "# INSERT\n",
    "\n",
    "**We can insert the rows with _INSERT_ statements:**\n",
    "\n",
    "```SQL\n",
    "INSERT INTO users (user_id, name, num_friends) VALUES (0, 'Hero', 0);\n",
    "```"
   ]
  },
  {
   "cell_type": "code",
   "execution_count": 64,
   "metadata": {},
   "outputs": [],
   "source": [
    "class Table:\n",
    "    def __init__(self, columns):\n",
    "        self.columns = columns\n",
    "        self.rows = []\n",
    "        \n",
    "    def __repr__(self):\n",
    "        \"\"\"pretty representation of the table: columns then rows\"\"\"\n",
    "        return str(self.columns) + \"\\n\" + '\\n'.join(map(str, self.rows))\n",
    "    \n",
    "    def insert(self, row_values):\n",
    "        if len(row_values) != len(self.columns):\n",
    "            raise TypeError('wrong number of elements')\n",
    "        row_dict = dict(zip(self.columns, row_values))\n",
    "        self.rows.append(row_dict)"
   ]
  },
  {
   "cell_type": "code",
   "execution_count": 65,
   "metadata": {},
   "outputs": [],
   "source": [
    "users = Table(['user_id', 'name', 'num_friends'])\n",
    "users.insert([0, 'John', 0])\n",
    "users.insert([1, 'Terrance', 2])"
   ]
  },
  {
   "cell_type": "code",
   "execution_count": 67,
   "metadata": {},
   "outputs": [
    {
     "data": {
      "text/plain": [
       "['user_id', 'name', 'num_friends']\n",
       "{'user_id': 0, 'name': 'John', 'num_friends': 0}\n",
       "{'user_id': 1, 'name': 'Terrance', 'num_friends': 2}"
      ]
     },
     "execution_count": 67,
     "metadata": {},
     "output_type": "execute_result"
    }
   ],
   "source": [
    "users"
   ]
  },
  {
   "cell_type": "markdown",
   "metadata": {},
   "source": [
    "# UPDATE\n",
    "\n",
    "Sometimes we need to update the data that's already in the database. For instance, if John acquires another friend, we might need to do this:\n",
    "\n",
    "```SQL\n",
    "UPDATE users\n",
    "SET num_friends = 3\n",
    "WHERE user_id = 1;\n",
    "```\n",
    "\n",
    "The key features are:\n",
    "* What table to update\n",
    "* Which rows to update\n",
    "* Which fields to update\n",
    "* What their new values should be"
   ]
  },
  {
   "cell_type": "code",
   "execution_count": 75,
   "metadata": {},
   "outputs": [],
   "source": [
    "class Table:\n",
    "    def __init__(self, columns):\n",
    "        self.columns = columns\n",
    "        self.rows = []\n",
    "        \n",
    "    def __repr__(self):\n",
    "        \"\"\"pretty representation of the table: columns then rows\"\"\"\n",
    "        return str(self.columns) + \"\\n\" + '\\n'.join(map(str, self.rows))\n",
    "    \n",
    "    def insert(self, row_values):\n",
    "        if len(row_values) != len(self.columns):\n",
    "            raise TypeError('wrong number of elements')\n",
    "        row_dict = dict(zip(self.columns, row_values))\n",
    "        self.rows.append(row_dict)\n",
    "        \n",
    "    def update(self, updates, predicate):\n",
    "        for row in self.rows:\n",
    "            if predicate(row):\n",
    "                if predicate(row):\n",
    "                    for column, new_value in updates.items():\n",
    "                        row[column] = new_value"
   ]
  },
  {
   "cell_type": "code",
   "execution_count": 80,
   "metadata": {},
   "outputs": [
    {
     "data": {
      "text/plain": [
       "['user_id', 'name', 'num_friends']\n",
       "{'user_id': 0, 'name': 'John', 'num_friends': 0}\n",
       "{'user_id': 1, 'name': 'Terrance', 'num_friends': 2}"
      ]
     },
     "execution_count": 80,
     "metadata": {},
     "output_type": "execute_result"
    }
   ],
   "source": [
    "users = Table(['user_id', 'name', 'num_friends'])\n",
    "users.insert([0, 'John', 0])\n",
    "users.insert([1, 'Terrance', 2])\n",
    "users"
   ]
  },
  {
   "cell_type": "code",
   "execution_count": 81,
   "metadata": {},
   "outputs": [
    {
     "data": {
      "text/plain": [
       "['user_id', 'name', 'num_friends']\n",
       "{'user_id': 0, 'name': 'John', 'num_friends': 0}\n",
       "{'user_id': 1, 'name': 'Terrance', 'num_friends': 3}"
      ]
     },
     "execution_count": 81,
     "metadata": {},
     "output_type": "execute_result"
    }
   ],
   "source": [
    "users.update({'num_friends': 3},\n",
    "             lambda row: row['user_id'] == 1)\n",
    "users"
   ]
  },
  {
   "cell_type": "markdown",
   "metadata": {},
   "source": [
    "# DELETE\n",
    "\n",
    "There are two ways to delete rows from a table in SQL:\n",
    "\n",
    "1. Deletes every row from a table\n",
    "\n",
    "```SQL\n",
    "DELETE FROM users;\n",
    "```\n",
    "\n",
    "2. Only deletes rows that match the where\n",
    "\n",
    "```SQL\n",
    "DELETE FROM users WHERE user_id = 1;\n",
    "```"
   ]
  },
  {
   "cell_type": "code",
   "execution_count": 8,
   "metadata": {},
   "outputs": [],
   "source": [
    "class Table:\n",
    "    def __init__(self, columns):\n",
    "        self.columns = columns\n",
    "        self.rows = []\n",
    "        \n",
    "    def __repr__(self):\n",
    "        \"\"\"pretty representation of the table: columns then rows\"\"\"\n",
    "        return str(self.columns) + \"\\n\" + '\\n'.join(map(str, self.rows))\n",
    "    \n",
    "    def insert(self, row_values):\n",
    "        if len(row_values) != len(self.columns):\n",
    "            raise TypeError('wrong number of elements')\n",
    "        row_dict = dict(zip(self.columns, row_values))\n",
    "        self.rows.append(row_dict)\n",
    "        \n",
    "    def update(self, updates, predicate):\n",
    "        for row in self.rows:\n",
    "            if predicate(row):\n",
    "                if predicate(row):\n",
    "                    for column, new_value in updates.items():\n",
    "                        row[column] = new_value\n",
    "                        \n",
    "    def delete(self, predicate= lambda row: True):\n",
    "        \"\"\"delete all rows matching predicate \n",
    "        or all rows if no predicate supplied\"\"\"\n",
    "        self.rows = [row for row in self.rows if not(predicate(row))]"
   ]
  },
  {
   "cell_type": "code",
   "execution_count": 10,
   "metadata": {},
   "outputs": [
    {
     "data": {
      "text/plain": [
       "['user_id', 'name', 'num_friends']\n",
       "{'user_id': 0, 'name': 'John', 'num_friends': 0}\n",
       "{'user_id': 1, 'name': 'Terrance', 'num_friends': 2}"
      ]
     },
     "execution_count": 10,
     "metadata": {},
     "output_type": "execute_result"
    }
   ],
   "source": [
    "users = Table(['user_id', 'name', 'num_friends'])\n",
    "users.insert([0, 'John', 0])\n",
    "users.insert([1, 'Terrance', 2])\n",
    "users"
   ]
  },
  {
   "cell_type": "code",
   "execution_count": 11,
   "metadata": {},
   "outputs": [
    {
     "data": {
      "text/plain": [
       "['user_id', 'name', 'num_friends']\n",
       "{'user_id': 0, 'name': 'John', 'num_friends': 0}"
      ]
     },
     "execution_count": 11,
     "metadata": {},
     "output_type": "execute_result"
    }
   ],
   "source": [
    "# deletes rows with user_id == 1\n",
    "users.delete(lambda row: row['user_id'] == 1)\n",
    "users"
   ]
  },
  {
   "cell_type": "code",
   "execution_count": 95,
   "metadata": {},
   "outputs": [
    {
     "data": {
      "text/plain": [
       "['user_id', 'name', 'num_friends']"
      ]
     },
     "execution_count": 95,
     "metadata": {},
     "output_type": "execute_result"
    }
   ],
   "source": [
    "# deletes every row\n",
    "users.delete()\n",
    "users"
   ]
  },
  {
   "cell_type": "markdown",
   "metadata": {},
   "source": [
    "# SELECT\n",
    "\n",
    "* We can use SQL to query from tables with **SELECT** statement:\n",
    "\n",
    "```SQL\n",
    "SELECT * FROM users;                           -- get the entire contents\n",
    "SELECT * FROM users LIMIT 2;                   -- get the first two rows\n",
    "SELECT user_id FROM users;                     -- only get specific columns\n",
    "SELECT user_id FROM users WHERE name = 'John'; -- only get specific rows\n",
    "```\n",
    "\n",
    "* We can also use **SELECT** statements to calculate fields:\n",
    "\n",
    "```SQL\n",
    "SELECT LENGTH(name) AS name_length FROM users;\n",
    "```"
   ]
  },
  {
   "cell_type": "code",
   "execution_count": 44,
   "metadata": {},
   "outputs": [],
   "source": [
    "class Table:\n",
    "    def __init__(self, columns):\n",
    "        self.columns = columns\n",
    "        self.rows = []\n",
    "        \n",
    "    def __repr__(self):\n",
    "        \"\"\"pretty representation of the table: columns then rows\"\"\"\n",
    "        return str(self.columns) + \"\\n\" + '\\n'.join(map(str, self.rows))\n",
    "    \n",
    "    def insert(self, row_values):\n",
    "        if len(row_values) != len(self.columns):\n",
    "            raise TypeError('wrong number of elements')\n",
    "        row_dict = dict(zip(self.columns, row_values))\n",
    "        self.rows.append(row_dict)\n",
    "        \n",
    "    def update(self, updates, predicate):\n",
    "        for row in self.rows:\n",
    "            if predicate(row):\n",
    "                if predicate(row):\n",
    "                    for column, new_value in updates.items():\n",
    "                        row[column] = new_value\n",
    "                        \n",
    "    def delete(self, predicate= lambda row: True):\n",
    "        \"\"\"delete all rows matching predicate \n",
    "        or all rows if no predicate supplied\"\"\"\n",
    "        self.rows = [row for row in self.rows if not(predicate(row))]\n",
    "        \n",
    "    def select(self, keep_columns=None, additional_columns=None):\n",
    "        '''Return a new table, and this method accepts two optional arguments:\n",
    "        1/ keep_columns: specifies the name of the columns we want to keep in the results, if don't supply it, the result contains all the columns.\n",
    "        2/ additional_columns: is a dictionary whose keys are new column names and whose values are functions specifying how to compute the values of the new columns.\n",
    "        '''\n",
    "        if keep_columns is None:        # if no columns specified\n",
    "            keep_columns = self.columns # return all columns\n",
    "            \n",
    "        if additional_columns is None:\n",
    "            additional_columns = {}\n",
    "            \n",
    "        # new table for results\n",
    "        result_table = Table(keep_columns + additional_columns.keys())\n",
    "        \n",
    "        for row in self.rows:\n",
    "            new_row = [row[column] for column in keep_columns]\n",
    "            for column_name, calculation in additional_columns.items():\n",
    "                new_row.append(calculation(row))\n",
    "            result_table.insert(new_row)\n",
    "            \n",
    "        return result_table\n",
    "    \n",
    "    def where(self, predicate= lambda row: True):\n",
    "        '''Return only the rows that satisfy the supplied predicate'''\n",
    "        where_table = Table(self.columns)\n",
    "        where_table.rows = filter(predicate, self.rows)\n",
    "        return where_table\n",
    "    \n",
    "    def limit(self, num_rows):\n",
    "        '''return only the first num_rows rows'''\n",
    "        limit_table = Table(self.columns)\n",
    "        limit_table.rows = self.rows[:num_rows]\n",
    "        return limit_table"
   ]
  },
  {
   "cell_type": "code",
   "execution_count": 33,
   "metadata": {},
   "outputs": [
    {
     "data": {
      "text/plain": [
       "['user_id', 'name', 'num_friends']\n",
       "{'user_id': 0, 'name': 'John', 'num_friends': 0}\n",
       "{'user_id': 1, 'name': 'Terrance', 'num_friends': 2}"
      ]
     },
     "execution_count": 33,
     "metadata": {},
     "output_type": "execute_result"
    }
   ],
   "source": [
    "users = Table(['user_id', 'name', 'num_friends'])\n",
    "users.insert([0, 'John', 0])\n",
    "users.insert([1, 'Terrance', 2])\n",
    "users"
   ]
  },
  {
   "cell_type": "markdown",
   "metadata": {},
   "source": [
    "# GROUP BY\n",
    "\n",
    "* **GROUP BY** operation groups together rows with identical values in specified columns and produces aggregate values like _Min_, _Max_, _Count_ and _Sum_.\n",
    "\n",
    "For example, we might want to find the number of users and the smallest _user_id_ for each possible name length:\n",
    "\n",
    "```SQL\n",
    "SELECT LENGTH(name) as name_length, MIN(user_id) AS min_user_id, COUNT(*) AS num_users \n",
    "FROM users\n",
    "GROUP BY LENGTH(name);\n",
    "```\n",
    "\n",
    "* SQL also supports a **HAVING** clause that behaves similary to a **WHERE** clause except that its filter is applied to aggregates (whereas a WHERE would filter out rows before aggregation even took place).\n",
    "\n",
    "For example, we might want to know the average number of friends for users whose names start with specific letters but only see the results for letters whose corresponding average is greater than 1:\n",
    "\n",
    "```SQL\n",
    "SELECT SUBSTR(name, 1, 1) AS first_letter, AVG(num_friends) AS avg)num_friends\n",
    "FROM users\n",
    "GROUP BY SUBSTR(name, 1, 1)\n",
    "HAVING AVG(num_friends) > 1;\n",
    "```"
   ]
  },
  {
   "cell_type": "markdown",
   "metadata": {},
   "source": [
    "# ORDER BY\n",
    "\n",
    "* **ORDER BY** helps us to sort the results.\n",
    "\n",
    "For example, we might want to know the first two names of your users:\n",
    "\n",
    "``` SQL\n",
    "SELECT * FROM users\n",
    "ORDER BY name\n",
    "LIMIT 2;\n",
    "```"
   ]
  },
  {
   "cell_type": "markdown",
   "metadata": {},
   "source": [
    "# JOIN\n",
    "\n",
    "* When our data lives across different tables, how do we analyze it? SQL provides **JOIN** operation. A JOIN combines rows in the left table with corresponding rows in the right table, where the meaning of \"corresponding\" is based on how we specify the join.\n",
    "\n",
    "For example, to find the users interested in SQL:\n",
    "\n",
    "```SQL\n",
    "SELECT users_table.name FROM users_table\n",
    "JOIN user_interests_table ON users_table.user_id = user_interests_table.user_id -- this is inner join\n",
    "WHERE user_interests_table.interest = 'SQL'\n",
    "```\n",
    "\n",
    "* There is also a **LEFT JOIN**, which returns a row for each left-table row with no matching rows, in which case, the fields that would have come from the right table are all _NULL_."
   ]
  },
  {
   "cell_type": "markdown",
   "metadata": {},
   "source": [
    "# Subqueries\n",
    "\n",
    "* In SQL, we can __SELECT__ from (and **JOIN**) the results of queries as if they were tables. \n",
    "\n",
    "So if we wanted to find the smallest _user_id_ of anyone interested in _SQL_, we could use a subquery:\n",
    "\n",
    "```SQL\n",
    "SELECT MIN(user_id) AS min_user_id\n",
    "FROM(SELECT user_id FROM user_interests WHERE interest = 'SQL') sql_interests;\n",
    "```"
   ]
  },
  {
   "cell_type": "markdown",
   "metadata": {},
   "source": [
    "# Indexes & Query Optimization\n",
    "\n",
    "There are some problems:\n",
    "\n",
    "1. To find rows containing a specific value, database has to inspect every row in the table. If the table has a lot of rows, this can take a very long time.\n",
    "\n",
    "2. Simiarly, out *join* algorithm is extremely inefficient. For each row in the left table, it inspects every row in the right table to see if it's a match. With two large tables this could take approximately forever.\n",
    "\n",
    "3. Also, we'd often like to apply constraints to some of our columns. For example, in our _users_ table, we probably don't want to allow two different users to have the same _user_id_.\n",
    "\n",
    "**Indexes** solve all these problems. If the _user_interests_ table had a index on _user_id_, a smart _join_ could find matches directly rather than scanning the whole table. If the _users_ table had a \"unique\" index on _user_id_, we'd get an error if we tried to insert a duplicate.\n",
    "\n",
    "* Tip for optimizing query: **filter-before-join** is almost certainly more efficient, since that case _join_ has many fewer rows to operate on."
   ]
  }
 ],
 "metadata": {
  "kernelspec": {
   "display_name": "Python 3",
   "language": "python",
   "name": "python3"
  },
  "language_info": {
   "codemirror_mode": {
    "name": "ipython",
    "version": 3
   },
   "file_extension": ".py",
   "mimetype": "text/x-python",
   "name": "python",
   "nbconvert_exporter": "python",
   "pygments_lexer": "ipython3",
   "version": "3.7.6"
  },
  "toc": {
   "base_numbering": 1,
   "nav_menu": {},
   "number_sections": true,
   "sideBar": true,
   "skip_h1_title": false,
   "title_cell": "Table of Contents",
   "title_sidebar": "Contents",
   "toc_cell": false,
   "toc_position": {},
   "toc_section_display": true,
   "toc_window_display": false
  }
 },
 "nbformat": 4,
 "nbformat_minor": 4
}

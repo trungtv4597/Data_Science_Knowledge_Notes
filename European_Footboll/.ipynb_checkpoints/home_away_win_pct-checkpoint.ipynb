{
 "cells": [
  {
   "cell_type": "code",
   "execution_count": 1,
   "metadata": {},
   "outputs": [],
   "source": [
    "import pandas as pd\n",
    "pd.set_option('display.max_columns', None)\n",
    "import numpy as np\n",
    "import warnings\n",
    "warnings.filterwarnings('ignore')\n",
    "from matplotlib import pyplot as plt\n",
    "%matplotlib inline\n",
    "import seaborn as sns"
   ]
  },
  {
   "cell_type": "code",
   "execution_count": 2,
   "metadata": {},
   "outputs": [],
   "source": [
    "_path = r'C:\\Users\\DucTRung\\Desktop\\My_Projects\\European_Footboll\\data_set\\soccer'"
   ]
  },
  {
   "cell_type": "code",
   "execution_count": 3,
   "metadata": {},
   "outputs": [],
   "source": [
    "match_df = pd.read_csv(_path + '\\Match.csv', sep='\\t')\n",
    "team_df = pd.read_csv(_path + '\\Team.csv', sep='\\t', encoding='latin-1')"
   ]
  },
  {
   "cell_type": "markdown",
   "metadata": {},
   "source": [
    "# Purpose: build a model to classify game outcome between three options (Home_win/ Away_win/ Draw).\n",
    "# Assumption: home team with home_win_pct is higher than away team win away_win_pct with away_win_pct will win the game.\n",
    "## What do I need: \n",
    "#### Train set: \n",
    "season: 08/09-14/15\n",
    "team_api_id: home/away\n",
    "goal: home/away\n",
    "team_long_name: home/away\n",
    "winning team\n",
    "losing team\n",
    "game outcome\n",
    "#### Test set:\n",
    "season: 15/16\n",
    "winning_pct: home/away"
   ]
  },
  {
   "cell_type": "markdown",
   "metadata": {},
   "source": [
    "## Subset Columns"
   ]
  },
  {
   "cell_type": "code",
   "execution_count": 5,
   "metadata": {},
   "outputs": [],
   "source": [
    "# Match data frame\n",
    "data = match_df[['season',\n",
    "         'home_team_api_id',\n",
    "         'away_team_api_id',\n",
    "         'home_team_goal',\n",
    "         'away_team_goal']]\n",
    "\n",
    "# Team data frame\n",
    "team_name = team_df[['team_api_id', 'team_long_name']]"
   ]
  },
  {
   "cell_type": "markdown",
   "metadata": {},
   "source": [
    "## Merge"
   ]
  },
  {
   "cell_type": "code",
   "execution_count": 6,
   "metadata": {},
   "outputs": [],
   "source": [
    "# merge home_team_name\n",
    "x = pd.merge(data, team_name, left_on='home_team_api_id', right_on='team_api_id', how='left')\n",
    "x = x.drop('team_api_id', axis=1)\n",
    "x = x.rename(columns={'team_long_name': 'home_team_name'})# merge home_team_name"
   ]
  },
  {
   "cell_type": "code",
   "execution_count": 7,
   "metadata": {},
   "outputs": [],
   "source": [
    "# merge away_team_name\n",
    "data = pd.merge(x, team_name, left_on='away_team_api_id', right_on='team_api_id', how='left')\n",
    "data = data.drop('team_api_id', axis=1)\n",
    "data = data.rename(columns={'team_long_name': 'away_team_name'})"
   ]
  },
  {
   "cell_type": "code",
   "execution_count": 17,
   "metadata": {},
   "outputs": [],
   "source": [
    "def team_win(data):\n",
    "    if data['home_team_goal'] > data['away_team_goal']:\n",
    "        return data['home_team_name']\n",
    "    elif data['home_team_goal'] < data['away_team_goal']:\n",
    "        return data['away_team_name']\n",
    "    else:\n",
    "        return 'Draw'\n",
    "def team_lose(data):\n",
    "    if data['home_team_goal'] < data['away_team_goal']:\n",
    "        return data['home_team_name']\n",
    "    elif data['home_team_goal'] > data['away_team_goal']:\n",
    "        return data['away_team_name']\n",
    "    else:\n",
    "        return 'Draw'\n",
    "def game_outcome(data):\n",
    "    if data['home_team_goal'] > data['away_team_goal']:\n",
    "        return 'Home_win'\n",
    "    elif data['home_team_goal'] < data['away_team_goal']:\n",
    "        return 'Away_win'\n",
    "    else:\n",
    "        return 'Draw'\n",
    "def home_win(data):\n",
    "    if data['home_team_goal'] > data['away_team_goal']:\n",
    "        return data['home_team_name']\n",
    "    else:\n",
    "        return '/'\n",
    "def away_win(data):\n",
    "    if data['home_team_goal'] < data['away_team_goal']:\n",
    "        return data['away_team_name']\n",
    "    else:\n",
    "        return '/'"
   ]
  },
  {
   "cell_type": "code",
   "execution_count": 18,
   "metadata": {},
   "outputs": [],
   "source": [
    "data['winning_team'] = data.apply(lambda x: team_win(x), axis=1)\n",
    "data['losing_team'] = data.apply(lambda x: team_lose(x), axis=1)\n",
    "data['game_outcome'] = data.apply(lambda x: game_outcome(x), axis=1)\n",
    "data['home_team_win'] = data.apply(lambda x: home_win(x), axis=1)\n",
    "data['away_team_win'] = data.apply(lambda x: away_win(x), axis=1)"
   ]
  },
  {
   "cell_type": "markdown",
   "metadata": {},
   "source": [
    "## Split Train and Test Set"
   ]
  },
  {
   "cell_type": "code",
   "execution_count": 19,
   "metadata": {},
   "outputs": [],
   "source": [
    "# Split train and test set\n",
    "train_set = data[data['season'] != '2015/2016']\n",
    "test_set = data[data['season'] == '2015/2016']"
   ]
  },
  {
   "cell_type": "code",
   "execution_count": 20,
   "metadata": {},
   "outputs": [
    {
     "data": {
      "text/plain": [
       "array(['2015/2016'], dtype=object)"
      ]
     },
     "execution_count": 20,
     "metadata": {},
     "output_type": "execute_result"
    }
   ],
   "source": [
    "# checking train_set by its season\n",
    "train_set['season'].unique()\n",
    "test_set['season'].unique()"
   ]
  },
  {
   "cell_type": "markdown",
   "metadata": {},
   "source": [
    "## Analysis Train Set"
   ]
  },
  {
   "cell_type": "code",
   "execution_count": 21,
   "metadata": {},
   "outputs": [
    {
     "data": {
      "text/plain": [
       "Text(0, 0.5, '')"
      ]
     },
     "execution_count": 21,
     "metadata": {},
     "output_type": "execute_result"
    },
    {
     "data": {
      "image/png": "[encoded data removed]",
      "text/plain": [
       "<Figure size 432x288 with 1 Axes>"
      ]
     },
     "metadata": {},
     "output_type": "display_data"
    }
   ],
   "source": [
    "train_set['game_outcome'].value_counts().plot.pie(autopct='%1.0f%%',\n",
    "                                                  wedgeprops={'linewidth':2, 'edgecolor': 'white'})\n",
    "plt.title('Tỉ lệ kết quả trận đấu từ mùa giải 08/09-14/15')\n",
    "plt.ylabel('')\n",
    "# plt.savefig(_path_fig + '\\\\out_come_pct.png', bbox_inches='tight')"
   ]
  },
  {
   "cell_type": "markdown",
   "metadata": {},
   "source": [
    "## Detec 'Home_win_pct' / 'Draw_win_pct' Each Team"
   ]
  },
  {
   "cell_type": "code",
   "execution_count": 49,
   "metadata": {},
   "outputs": [
    {
     "name": "stdout",
     "output_type": "stream",
     "text": [
      "number of home team: 286\n",
      "number of away team: 286\n"
     ]
    }
   ],
   "source": [
    "print('number of home team:',len(train_set.home_team_api_id.unique()))\n",
    "print('number of away team:',len(train_set.away_team_api_id.unique()))"
   ]
  },
  {
   "cell_type": "code",
   "execution_count": 43,
   "metadata": {},
   "outputs": [
    {
     "data": {
      "text/html": [
       "<div>\n",
       "<style scoped>\n",
       "    .dataframe tbody tr th:only-of-type {\n",
       "        vertical-align: middle;\n",
       "    }\n",
       "\n",
       "    .dataframe tbody tr th {\n",
       "        vertical-align: top;\n",
       "    }\n",
       "\n",
       "    .dataframe thead th {\n",
       "        text-align: right;\n",
       "    }\n",
       "</style>\n",
       "<table border=\"1\" class=\"dataframe\">\n",
       "  <thead>\n",
       "    <tr style=\"text-align: right;\">\n",
       "      <th></th>\n",
       "      <th>index</th>\n",
       "      <th>winning_team</th>\n",
       "    </tr>\n",
       "  </thead>\n",
       "  <tbody>\n",
       "    <tr>\n",
       "      <td>0</td>\n",
       "      <td>FC Barcelona</td>\n",
       "      <td>205</td>\n",
       "    </tr>\n",
       "    <tr>\n",
       "      <td>1</td>\n",
       "      <td>Real Madrid CF</td>\n",
       "      <td>200</td>\n",
       "    </tr>\n",
       "    <tr>\n",
       "      <td>2</td>\n",
       "      <td>Celtic</td>\n",
       "      <td>192</td>\n",
       "    </tr>\n",
       "    <tr>\n",
       "      <td>3</td>\n",
       "      <td>Manchester United</td>\n",
       "      <td>173</td>\n",
       "    </tr>\n",
       "    <tr>\n",
       "      <td>4</td>\n",
       "      <td>FC Bayern Munich</td>\n",
       "      <td>165</td>\n",
       "    </tr>\n",
       "    <tr>\n",
       "      <td>...</td>\n",
       "      <td>...</td>\n",
       "      <td>...</td>\n",
       "    </tr>\n",
       "    <tr>\n",
       "      <td>278</td>\n",
       "      <td>DSC Arminia Bielefeld</td>\n",
       "      <td>4</td>\n",
       "    </tr>\n",
       "    <tr>\n",
       "      <td>279</td>\n",
       "      <td>SpVgg Greuther Fürth</td>\n",
       "      <td>4</td>\n",
       "    </tr>\n",
       "    <tr>\n",
       "      <td>280</td>\n",
       "      <td>FC Dordrecht</td>\n",
       "      <td>4</td>\n",
       "    </tr>\n",
       "    <tr>\n",
       "      <td>281</td>\n",
       "      <td>AC Arles-Avignon</td>\n",
       "      <td>3</td>\n",
       "    </tr>\n",
       "    <tr>\n",
       "      <td>282</td>\n",
       "      <td>Córdoba CF</td>\n",
       "      <td>3</td>\n",
       "    </tr>\n",
       "  </tbody>\n",
       "</table>\n",
       "<p>283 rows × 2 columns</p>\n",
       "</div>"
      ],
      "text/plain": [
       "                     index  winning_team\n",
       "0             FC Barcelona           205\n",
       "1           Real Madrid CF           200\n",
       "2                   Celtic           192\n",
       "3        Manchester United           173\n",
       "4         FC Bayern Munich           165\n",
       "..                     ...           ...\n",
       "278  DSC Arminia Bielefeld             4\n",
       "279   SpVgg Greuther Fürth             4\n",
       "280           FC Dordrecht             4\n",
       "281       AC Arles-Avignon             3\n",
       "282             Córdoba CF             3\n",
       "\n",
       "[283 rows x 2 columns]"
      ]
     },
     "execution_count": 43,
     "metadata": {},
     "output_type": "execute_result"
    }
   ],
   "source": [
    "total_win = train_set.winning_team.value_counts()[1:].reset_index()\n",
    "home_win = train_set.home_team_win.value_counts()[1:].reset_index()\n",
    "away_win = train_set.away_team_win.value_counts()[1:].reset_index()\n",
    "home_match = train_set.home_team_name.value_counts().reset_index()\n",
    "away_match = train_set.away_team_name.value_counts().reset_index()"
   ]
  },
  {
   "cell_type": "code",
   "execution_count": 63,
   "metadata": {},
   "outputs": [],
   "source": [
    "# merge home/away_win\n",
    "_team_att = pd.merge(team_name, home_win, left_on='team_long_name', right_on='index', how='left')\n",
    "_team_att = pd.merge(_team_att, away_win, left_on='team_long_name', right_on='index', how='left')\n",
    "_team_att = pd.merge(_team_att, total_win, left_on='team_long_name', right_on='index', how='left')\n",
    "_team_att = pd.merge(_team_att, home_match, left_on='team_long_name', right_on='index', how='left')\n",
    "_team_att = pd.merge(_team_att, away_match, left_on='team_long_name', right_on='index', how='left')\n",
    "\n",
    "team_att = _team_att.drop(['index_x', 'index_y', 'index_x', 'index_y', 'index'], axis=1)\n",
    "team_att = team_att.rename(columns={'home_team_win': 'home_win',\n",
    "                                    'away_team_win': 'away_win',\n",
    "                                    'home_team_name': 'home_match',\n",
    "                                    'away_team_name': 'away_match',\n",
    "                                    'winning_team': 'win_match'})"
   ]
  },
  {
   "cell_type": "code",
   "execution_count": 64,
   "metadata": {},
   "outputs": [],
   "source": [
    "def home_win_pct(data):\n",
    "    home_win_pct = (data['home_win'] / data['home_match']) * 100\n",
    "    return home_win_pct\n",
    "\n",
    "def away_win_pct(data):\n",
    "    away_win_pct = (data['away_win'] / data['away_match']) * 100\n",
    "    return away_win_pct"
   ]
  },
  {
   "cell_type": "code",
   "execution_count": 65,
   "metadata": {},
   "outputs": [],
   "source": [
    "team_att['home_win_pct'] = team_att.apply(lambda x: home_win_pct(x), axis=1)\n",
    "team_att['away_win_pct'] = team_att.apply(lambda x: away_win_pct(x), axis=1)"
   ]
  },
  {
   "cell_type": "code",
   "execution_count": 68,
   "metadata": {},
   "outputs": [
    {
     "data": {
      "text/plain": [
       "team_api_id       0\n",
       "team_long_name    0\n",
       "home_win          0\n",
       "away_win          0\n",
       "win_match         0\n",
       "home_match        0\n",
       "away_match        0\n",
       "home_win_pct      0\n",
       "away_win_pct      0\n",
       "dtype: int64"
      ]
     },
     "execution_count": 68,
     "metadata": {},
     "output_type": "execute_result"
    }
   ],
   "source": [
    "team_att = team_att.fillna(0)\n",
    "team_att.isnull().sum()"
   ]
  },
  {
   "cell_type": "code",
   "execution_count": 75,
   "metadata": {},
   "outputs": [
    {
     "data": {
      "text/html": [
       "<div>\n",
       "<style scoped>\n",
       "    .dataframe tbody tr th:only-of-type {\n",
       "        vertical-align: middle;\n",
       "    }\n",
       "\n",
       "    .dataframe tbody tr th {\n",
       "        vertical-align: top;\n",
       "    }\n",
       "\n",
       "    .dataframe thead th {\n",
       "        text-align: right;\n",
       "    }\n",
       "</style>\n",
       "<table border=\"1\" class=\"dataframe\">\n",
       "  <thead>\n",
       "    <tr style=\"text-align: right;\">\n",
       "      <th></th>\n",
       "      <th>team_api_id</th>\n",
       "      <th>away_win_pct</th>\n",
       "    </tr>\n",
       "  </thead>\n",
       "  <tbody>\n",
       "    <tr>\n",
       "      <td>0</td>\n",
       "      <td>9987</td>\n",
       "      <td>36.263736</td>\n",
       "    </tr>\n",
       "    <tr>\n",
       "      <td>1</td>\n",
       "      <td>9993</td>\n",
       "      <td>13.157895</td>\n",
       "    </tr>\n",
       "    <tr>\n",
       "      <td>2</td>\n",
       "      <td>10000</td>\n",
       "      <td>30.769231</td>\n",
       "    </tr>\n",
       "    <tr>\n",
       "      <td>3</td>\n",
       "      <td>9994</td>\n",
       "      <td>30.769231</td>\n",
       "    </tr>\n",
       "    <tr>\n",
       "      <td>4</td>\n",
       "      <td>9984</td>\n",
       "      <td>21.978022</td>\n",
       "    </tr>\n",
       "    <tr>\n",
       "      <td>...</td>\n",
       "      <td>...</td>\n",
       "      <td>...</td>\n",
       "    </tr>\n",
       "    <tr>\n",
       "      <td>294</td>\n",
       "      <td>10190</td>\n",
       "      <td>28.888889</td>\n",
       "    </tr>\n",
       "    <tr>\n",
       "      <td>295</td>\n",
       "      <td>10191</td>\n",
       "      <td>25.842697</td>\n",
       "    </tr>\n",
       "    <tr>\n",
       "      <td>296</td>\n",
       "      <td>9777</td>\n",
       "      <td>25.714286</td>\n",
       "    </tr>\n",
       "    <tr>\n",
       "      <td>297</td>\n",
       "      <td>7730</td>\n",
       "      <td>13.207547</td>\n",
       "    </tr>\n",
       "    <tr>\n",
       "      <td>298</td>\n",
       "      <td>7896</td>\n",
       "      <td>0.000000</td>\n",
       "    </tr>\n",
       "  </tbody>\n",
       "</table>\n",
       "<p>299 rows × 2 columns</p>\n",
       "</div>"
      ],
      "text/plain": [
       "     team_api_id  away_win_pct\n",
       "0           9987     36.263736\n",
       "1           9993     13.157895\n",
       "2          10000     30.769231\n",
       "3           9994     30.769231\n",
       "4           9984     21.978022\n",
       "..           ...           ...\n",
       "294        10190     28.888889\n",
       "295        10191     25.842697\n",
       "296         9777     25.714286\n",
       "297         7730     13.207547\n",
       "298         7896      0.000000\n",
       "\n",
       "[299 rows x 2 columns]"
      ]
     },
     "execution_count": 75,
     "metadata": {},
     "output_type": "execute_result"
    }
   ],
   "source": [
    "home_win_pct = team_att[['team_api_id', 'home_win_pct']]\n",
    "away_win_pct = team_att[['team_api_id', 'away_win_pct']]\n",
    "away_win_pct"
   ]
  },
  {
   "cell_type": "code",
   "execution_count": 74,
   "metadata": {},
   "outputs": [
    {
     "data": {
      "text/html": [
       "<div>\n",
       "<style scoped>\n",
       "    .dataframe tbody tr th:only-of-type {\n",
       "        vertical-align: middle;\n",
       "    }\n",
       "\n",
       "    .dataframe tbody tr th {\n",
       "        vertical-align: top;\n",
       "    }\n",
       "\n",
       "    .dataframe thead th {\n",
       "        text-align: right;\n",
       "    }\n",
       "</style>\n",
       "<table border=\"1\" class=\"dataframe\">\n",
       "  <thead>\n",
       "    <tr style=\"text-align: right;\">\n",
       "      <th></th>\n",
       "      <th>season</th>\n",
       "      <th>home_team_api_id</th>\n",
       "      <th>away_team_api_id</th>\n",
       "      <th>home_team_goal</th>\n",
       "      <th>away_team_goal</th>\n",
       "      <th>home_team_name</th>\n",
       "      <th>away_team_name</th>\n",
       "      <th>winning_team</th>\n",
       "      <th>losing_team</th>\n",
       "      <th>game_outcome</th>\n",
       "      <th>home_team_win</th>\n",
       "      <th>away_team_win</th>\n",
       "    </tr>\n",
       "  </thead>\n",
       "  <tbody>\n",
       "    <tr>\n",
       "      <td>1488</td>\n",
       "      <td>2015/2016</td>\n",
       "      <td>9997</td>\n",
       "      <td>8342</td>\n",
       "      <td>2</td>\n",
       "      <td>1</td>\n",
       "      <td>Sint-Truidense VV</td>\n",
       "      <td>Club Brugge KV</td>\n",
       "      <td>Sint-Truidense VV</td>\n",
       "      <td>Club Brugge KV</td>\n",
       "      <td>Home_win</td>\n",
       "      <td>Sint-Truidense VV</td>\n",
       "      <td>/</td>\n",
       "    </tr>\n",
       "    <tr>\n",
       "      <td>1489</td>\n",
       "      <td>2015/2016</td>\n",
       "      <td>8571</td>\n",
       "      <td>9985</td>\n",
       "      <td>2</td>\n",
       "      <td>1</td>\n",
       "      <td>KV Kortrijk</td>\n",
       "      <td>Standard de Liège</td>\n",
       "      <td>KV Kortrijk</td>\n",
       "      <td>Standard de Liège</td>\n",
       "      <td>Home_win</td>\n",
       "      <td>KV Kortrijk</td>\n",
       "      <td>/</td>\n",
       "    </tr>\n",
       "    <tr>\n",
       "      <td>1490</td>\n",
       "      <td>2015/2016</td>\n",
       "      <td>9987</td>\n",
       "      <td>1773</td>\n",
       "      <td>3</td>\n",
       "      <td>1</td>\n",
       "      <td>KRC Genk</td>\n",
       "      <td>Oud-Heverlee Leuven</td>\n",
       "      <td>KRC Genk</td>\n",
       "      <td>Oud-Heverlee Leuven</td>\n",
       "      <td>Home_win</td>\n",
       "      <td>KRC Genk</td>\n",
       "      <td>/</td>\n",
       "    </tr>\n",
       "    <tr>\n",
       "      <td>1491</td>\n",
       "      <td>2015/2016</td>\n",
       "      <td>8573</td>\n",
       "      <td>8203</td>\n",
       "      <td>3</td>\n",
       "      <td>1</td>\n",
       "      <td>KV Oostende</td>\n",
       "      <td>KV Mechelen</td>\n",
       "      <td>KV Oostende</td>\n",
       "      <td>KV Mechelen</td>\n",
       "      <td>Home_win</td>\n",
       "      <td>KV Oostende</td>\n",
       "      <td>/</td>\n",
       "    </tr>\n",
       "    <tr>\n",
       "      <td>1492</td>\n",
       "      <td>2015/2016</td>\n",
       "      <td>10000</td>\n",
       "      <td>9994</td>\n",
       "      <td>3</td>\n",
       "      <td>1</td>\n",
       "      <td>SV Zulte-Waregem</td>\n",
       "      <td>Sporting Lokeren</td>\n",
       "      <td>SV Zulte-Waregem</td>\n",
       "      <td>Sporting Lokeren</td>\n",
       "      <td>Home_win</td>\n",
       "      <td>SV Zulte-Waregem</td>\n",
       "      <td>/</td>\n",
       "    </tr>\n",
       "  </tbody>\n",
       "</table>\n",
       "</div>"
      ],
      "text/plain": [
       "         season  home_team_api_id  away_team_api_id  home_team_goal  \\\n",
       "1488  2015/2016              9997              8342               2   \n",
       "1489  2015/2016              8571              9985               2   \n",
       "1490  2015/2016              9987              1773               3   \n",
       "1491  2015/2016              8573              8203               3   \n",
       "1492  2015/2016             10000              9994               3   \n",
       "\n",
       "      away_team_goal     home_team_name       away_team_name  \\\n",
       "1488               1  Sint-Truidense VV       Club Brugge KV   \n",
       "1489               1        KV Kortrijk    Standard de Liège   \n",
       "1490               1           KRC Genk  Oud-Heverlee Leuven   \n",
       "1491               1        KV Oostende          KV Mechelen   \n",
       "1492               1   SV Zulte-Waregem     Sporting Lokeren   \n",
       "\n",
       "           winning_team          losing_team game_outcome      home_team_win  \\\n",
       "1488  Sint-Truidense VV       Club Brugge KV     Home_win  Sint-Truidense VV   \n",
       "1489        KV Kortrijk    Standard de Liège     Home_win        KV Kortrijk   \n",
       "1490           KRC Genk  Oud-Heverlee Leuven     Home_win           KRC Genk   \n",
       "1491        KV Oostende          KV Mechelen     Home_win        KV Oostende   \n",
       "1492   SV Zulte-Waregem     Sporting Lokeren     Home_win   SV Zulte-Waregem   \n",
       "\n",
       "     away_team_win  \n",
       "1488             /  \n",
       "1489             /  \n",
       "1490             /  \n",
       "1491             /  \n",
       "1492             /  "
      ]
     },
     "execution_count": 74,
     "metadata": {},
     "output_type": "execute_result"
    }
   ],
   "source": []
  },
  {
   "cell_type": "code",
   "execution_count": 77,
   "metadata": {},
   "outputs": [
    {
     "data": {
      "text/html": [
       "<div>\n",
       "<style scoped>\n",
       "    .dataframe tbody tr th:only-of-type {\n",
       "        vertical-align: middle;\n",
       "    }\n",
       "\n",
       "    .dataframe tbody tr th {\n",
       "        vertical-align: top;\n",
       "    }\n",
       "\n",
       "    .dataframe thead th {\n",
       "        text-align: right;\n",
       "    }\n",
       "</style>\n",
       "<table border=\"1\" class=\"dataframe\">\n",
       "  <thead>\n",
       "    <tr style=\"text-align: right;\">\n",
       "      <th></th>\n",
       "      <th>season</th>\n",
       "      <th>home_team_api_id</th>\n",
       "      <th>away_team_api_id</th>\n",
       "      <th>home_team_goal</th>\n",
       "      <th>away_team_goal</th>\n",
       "      <th>home_team_name</th>\n",
       "      <th>away_team_name</th>\n",
       "      <th>winning_team</th>\n",
       "      <th>losing_team</th>\n",
       "      <th>game_outcome</th>\n",
       "      <th>home_team_win</th>\n",
       "      <th>away_team_win</th>\n",
       "      <th>team_api_id</th>\n",
       "      <th>home_win_pct</th>\n",
       "    </tr>\n",
       "  </thead>\n",
       "  <tbody>\n",
       "    <tr>\n",
       "      <td>0</td>\n",
       "      <td>2015/2016</td>\n",
       "      <td>9997</td>\n",
       "      <td>8342</td>\n",
       "      <td>2</td>\n",
       "      <td>1</td>\n",
       "      <td>Sint-Truidense VV</td>\n",
       "      <td>Club Brugge KV</td>\n",
       "      <td>Sint-Truidense VV</td>\n",
       "      <td>Club Brugge KV</td>\n",
       "      <td>Home_win</td>\n",
       "      <td>Sint-Truidense VV</td>\n",
       "      <td>/</td>\n",
       "      <td>9997</td>\n",
       "      <td>31.818182</td>\n",
       "    </tr>\n",
       "    <tr>\n",
       "      <td>1</td>\n",
       "      <td>2015/2016</td>\n",
       "      <td>8571</td>\n",
       "      <td>9985</td>\n",
       "      <td>2</td>\n",
       "      <td>1</td>\n",
       "      <td>KV Kortrijk</td>\n",
       "      <td>Standard de Liège</td>\n",
       "      <td>KV Kortrijk</td>\n",
       "      <td>Standard de Liège</td>\n",
       "      <td>Home_win</td>\n",
       "      <td>KV Kortrijk</td>\n",
       "      <td>/</td>\n",
       "      <td>8571</td>\n",
       "      <td>52.747253</td>\n",
       "    </tr>\n",
       "    <tr>\n",
       "      <td>2</td>\n",
       "      <td>2015/2016</td>\n",
       "      <td>9987</td>\n",
       "      <td>1773</td>\n",
       "      <td>3</td>\n",
       "      <td>1</td>\n",
       "      <td>KRC Genk</td>\n",
       "      <td>Oud-Heverlee Leuven</td>\n",
       "      <td>KRC Genk</td>\n",
       "      <td>Oud-Heverlee Leuven</td>\n",
       "      <td>Home_win</td>\n",
       "      <td>KRC Genk</td>\n",
       "      <td>/</td>\n",
       "      <td>9987</td>\n",
       "      <td>54.945055</td>\n",
       "    </tr>\n",
       "    <tr>\n",
       "      <td>3</td>\n",
       "      <td>2015/2016</td>\n",
       "      <td>8573</td>\n",
       "      <td>8203</td>\n",
       "      <td>3</td>\n",
       "      <td>1</td>\n",
       "      <td>KV Oostende</td>\n",
       "      <td>KV Mechelen</td>\n",
       "      <td>KV Oostende</td>\n",
       "      <td>KV Mechelen</td>\n",
       "      <td>Home_win</td>\n",
       "      <td>KV Oostende</td>\n",
       "      <td>/</td>\n",
       "      <td>8573</td>\n",
       "      <td>38.888889</td>\n",
       "    </tr>\n",
       "    <tr>\n",
       "      <td>4</td>\n",
       "      <td>2015/2016</td>\n",
       "      <td>10000</td>\n",
       "      <td>9994</td>\n",
       "      <td>3</td>\n",
       "      <td>1</td>\n",
       "      <td>SV Zulte-Waregem</td>\n",
       "      <td>Sporting Lokeren</td>\n",
       "      <td>SV Zulte-Waregem</td>\n",
       "      <td>Sporting Lokeren</td>\n",
       "      <td>Home_win</td>\n",
       "      <td>SV Zulte-Waregem</td>\n",
       "      <td>/</td>\n",
       "      <td>10000</td>\n",
       "      <td>41.758242</td>\n",
       "    </tr>\n",
       "  </tbody>\n",
       "</table>\n",
       "</div>"
      ],
      "text/plain": [
       "      season  home_team_api_id  away_team_api_id  home_team_goal  \\\n",
       "0  2015/2016              9997              8342               2   \n",
       "1  2015/2016              8571              9985               2   \n",
       "2  2015/2016              9987              1773               3   \n",
       "3  2015/2016              8573              8203               3   \n",
       "4  2015/2016             10000              9994               3   \n",
       "\n",
       "   away_team_goal     home_team_name       away_team_name       winning_team  \\\n",
       "0               1  Sint-Truidense VV       Club Brugge KV  Sint-Truidense VV   \n",
       "1               1        KV Kortrijk    Standard de Liège        KV Kortrijk   \n",
       "2               1           KRC Genk  Oud-Heverlee Leuven           KRC Genk   \n",
       "3               1        KV Oostende          KV Mechelen        KV Oostende   \n",
       "4               1   SV Zulte-Waregem     Sporting Lokeren   SV Zulte-Waregem   \n",
       "\n",
       "           losing_team game_outcome      home_team_win away_team_win  \\\n",
       "0       Club Brugge KV     Home_win  Sint-Truidense VV             /   \n",
       "1    Standard de Liège     Home_win        KV Kortrijk             /   \n",
       "2  Oud-Heverlee Leuven     Home_win           KRC Genk             /   \n",
       "3          KV Mechelen     Home_win        KV Oostende             /   \n",
       "4     Sporting Lokeren     Home_win   SV Zulte-Waregem             /   \n",
       "\n",
       "   team_api_id  home_win_pct  \n",
       "0         9997     31.818182  \n",
       "1         8571     52.747253  \n",
       "2         9987     54.945055  \n",
       "3         8573     38.888889  \n",
       "4        10000     41.758242  "
      ]
     },
     "execution_count": 77,
     "metadata": {},
     "output_type": "execute_result"
    }
   ],
   "source": [
    "# Merge home/away_win_pct to test_set by each team\n",
    "test_set = pd.merge(test_set, home_win_pct, left_on='home_team_api_id', right_on='team_api_id', how='left')\n",
    "test_set = pd.merge(test_set, away_win_pct, left_on='away_team_api_id', right_on='team_api_id', how='left')"
   ]
  },
  {
   "cell_type": "code",
   "execution_count": 86,
   "metadata": {},
   "outputs": [],
   "source": [
    "test_set = test_set.drop(['team_api_id_x', 'team_api_id_y'], axis=1)"
   ]
  },
  {
   "cell_type": "markdown",
   "metadata": {},
   "source": [
    "## Predict"
   ]
  },
  {
   "cell_type": "code",
   "execution_count": 90,
   "metadata": {},
   "outputs": [],
   "source": [
    "def predict(data):\n",
    "    if data['home_win_pct'] > data['away_win_pct']:\n",
    "        return 'Home_win'\n",
    "    elif data['home_win_pct'] < data['away_win_pct']:\n",
    "        return 'Away_win'\n",
    "    else:\n",
    "        return 'Draw'"
   ]
  },
  {
   "cell_type": "code",
   "execution_count": 91,
   "metadata": {},
   "outputs": [],
   "source": [
    "test_set['predict'] = test_set.apply(lambda x: predict(x), axis=1)"
   ]
  },
  {
   "cell_type": "markdown",
   "metadata": {},
   "source": [
    "## Evalution"
   ]
  },
  {
   "cell_type": "code",
   "execution_count": 93,
   "metadata": {},
   "outputs": [],
   "source": [
    "def measure(data):\n",
    "    if data['game_outcome'] == data['predict']:\n",
    "        return 'Right'\n",
    "    elif data['game_outcome'] != data['predict']:\n",
    "        return 'Wrong'\n",
    "    else:\n",
    "        pritn('vcL')"
   ]
  },
  {
   "cell_type": "code",
   "execution_count": 97,
   "metadata": {},
   "outputs": [],
   "source": [
    "test_set['measure'] = test_set.apply(lambda x: measure(x), axis=1)"
   ]
  },
  {
   "cell_type": "code",
   "execution_count": 99,
   "metadata": {},
   "outputs": [
    {
     "data": {
      "text/plain": [
       "<matplotlib.axes._subplots.AxesSubplot at 0x2337b5cfbc8>"
      ]
     },
     "execution_count": 99,
     "metadata": {},
     "output_type": "execute_result"
    },
    {
     "data": {
      "image/png": "[encoded data removed]",
      "text/plain": [
       "<Figure size 432x288 with 1 Axes>"
      ]
     },
     "metadata": {
      "needs_background": "light"
     },
     "output_type": "display_data"
    }
   ],
   "source": [
    "test_set.measure.value_counts().plot(kind='bar')"
   ]
  },
  {
   "cell_type": "code",
   "execution_count": 111,
   "metadata": {},
   "outputs": [
    {
     "data": {
      "text/plain": [
       "<matplotlib.axes._subplots.AxesSubplot at 0x2337bd50788>"
      ]
     },
     "execution_count": 111,
     "metadata": {},
     "output_type": "execute_result"
    },
    {
     "data": {
      "image/png": "[encoded data removed]",
      "text/plain": [
       "<Figure size 432x288 with 1 Axes>"
      ]
     },
     "metadata": {},
     "output_type": "display_data"
    }
   ],
   "source": [
    "test_set[test_set['game_outcome'] == 'Home_win']['measure'].value_counts().plot.pie(autopct='%1.1f%%')"
   ]
  },
  {
   "cell_type": "code",
   "execution_count": 112,
   "metadata": {},
   "outputs": [
    {
     "data": {
      "text/plain": [
       "<matplotlib.axes._subplots.AxesSubplot at 0x2337c098748>"
      ]
     },
     "execution_count": 112,
     "metadata": {},
     "output_type": "execute_result"
    },
    {
     "data": {
      "image/png": "[encoded data removed]",
      "text/plain": [
       "<Figure size 432x288 with 1 Axes>"
      ]
     },
     "metadata": {},
     "output_type": "display_data"
    }
   ],
   "source": [
    "test_set[test_set['game_outcome'] == 'Away_win']['measure'].value_counts().plot.pie(autopct='%1.1f%%')"
   ]
  },
  {
   "cell_type": "code",
   "execution_count": 113,
   "metadata": {},
   "outputs": [
    {
     "data": {
      "text/plain": [
       "<matplotlib.axes._subplots.AxesSubplot at 0x2337c102388>"
      ]
     },
     "execution_count": 113,
     "metadata": {},
     "output_type": "execute_result"
    },
    {
     "data": {
      "image/png": "[encoded data removed]",
      "text/plain": [
       "<Figure size 432x288 with 1 Axes>"
      ]
     },
     "metadata": {},
     "output_type": "display_data"
    }
   ],
   "source": [
    "test_set[test_set['game_outcome'] == 'Draw']['measure'].value_counts().plot.pie(autopct='%1.1f%%')"
   ]
  }
 ],
 "metadata": {
  "kernelspec": {
   "display_name": "Python 3",
   "language": "python",
   "name": "python3"
  },
  "language_info": {
   "codemirror_mode": {
    "name": "ipython",
    "version": 3
   },
   "file_extension": ".py",
   "mimetype": "text/x-python",
   "name": "python",
   "nbconvert_exporter": "python",
   "pygments_lexer": "ipython3",
   "version": "3.7.4"
  }
 },
 "nbformat": 4,
 "nbformat_minor": 2
}

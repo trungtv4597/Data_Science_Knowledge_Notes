{
 "cells": [
  {
   "cell_type": "markdown",
   "metadata": {},
   "source": [
    "# Purpose: build a model to classify game outcome between three options (Home_win/ Away_win/ Draw).\n",
    "# Assumption: home team with home_win_pct is higher than away team win away_win_pct with away_win_pct will win the game."
   ]
  },
  {
   "cell_type": "code",
   "execution_count": 1,
   "metadata": {},
   "outputs": [],
   "source": [
    "import pandas as pd\n",
    "pd.set_option('display.max_columns', None)\n",
    "import numpy as np\n",
    "import warnings\n",
    "warnings.filterwarnings('ignore')\n",
    "from matplotlib import pyplot as plt\n",
    "%matplotlib inline\n",
    "import seaborn as sns\n",
    "import itertools"
   ]
  },
  {
   "cell_type": "code",
   "execution_count": 2,
   "metadata": {},
   "outputs": [],
   "source": [
    "_path = r'C:\\Users\\DucTRung\\Desktop\\My_Projects\\European_Footboll\\data_set\\soccer'"
   ]
  },
  {
   "cell_type": "code",
   "execution_count": 3,
   "metadata": {},
   "outputs": [],
   "source": [
    "_path_save = r'C:\\Users\\DucTRung\\Desktop\\My_Projects\\European_Footboll\\home_win_pct_figure'"
   ]
  },
  {
   "cell_type": "code",
   "execution_count": 4,
   "metadata": {},
   "outputs": [],
   "source": [
    "match_df = pd.read_csv(_path + '\\Match.csv', sep='\\t')\n",
    "team_df = pd.read_csv(_path + '\\Team.csv', sep='\\t', encoding='latin-1')"
   ]
  },
  {
   "cell_type": "code",
   "execution_count": 5,
   "metadata": {},
   "outputs": [
    {
     "data": {
      "text/html": [
       "<div>\n",
       "<style scoped>\n",
       "    .dataframe tbody tr th:only-of-type {\n",
       "        vertical-align: middle;\n",
       "    }\n",
       "\n",
       "    .dataframe tbody tr th {\n",
       "        vertical-align: top;\n",
       "    }\n",
       "\n",
       "    .dataframe thead th {\n",
       "        text-align: right;\n",
       "    }\n",
       "</style>\n",
       "<table border=\"1\" class=\"dataframe\">\n",
       "  <thead>\n",
       "    <tr style=\"text-align: right;\">\n",
       "      <th></th>\n",
       "      <th>id</th>\n",
       "      <th>country_id</th>\n",
       "      <th>league_id</th>\n",
       "      <th>season</th>\n",
       "      <th>stage</th>\n",
       "      <th>date</th>\n",
       "      <th>match_api_id</th>\n",
       "      <th>home_team_api_id</th>\n",
       "      <th>away_team_api_id</th>\n",
       "      <th>home_team_goal</th>\n",
       "      <th>away_team_goal</th>\n",
       "      <th>home_player_X1</th>\n",
       "      <th>home_player_X2</th>\n",
       "      <th>home_player_X3</th>\n",
       "      <th>home_player_X4</th>\n",
       "      <th>home_player_X5</th>\n",
       "      <th>home_player_X6</th>\n",
       "      <th>home_player_X7</th>\n",
       "      <th>home_player_X8</th>\n",
       "      <th>home_player_X9</th>\n",
       "      <th>home_player_X10</th>\n",
       "      <th>home_player_X11</th>\n",
       "      <th>away_player_X1</th>\n",
       "      <th>away_player_X2</th>\n",
       "      <th>away_player_X3</th>\n",
       "      <th>away_player_X4</th>\n",
       "      <th>away_player_X5</th>\n",
       "      <th>away_player_X6</th>\n",
       "      <th>away_player_X7</th>\n",
       "      <th>away_player_X8</th>\n",
       "      <th>away_player_X9</th>\n",
       "      <th>away_player_X10</th>\n",
       "      <th>away_player_X11</th>\n",
       "      <th>home_player_Y1</th>\n",
       "      <th>home_player_Y2</th>\n",
       "      <th>home_player_Y3</th>\n",
       "      <th>home_player_Y4</th>\n",
       "      <th>home_player_Y5</th>\n",
       "      <th>home_player_Y6</th>\n",
       "      <th>home_player_Y7</th>\n",
       "      <th>home_player_Y8</th>\n",
       "      <th>home_player_Y9</th>\n",
       "      <th>home_player_Y10</th>\n",
       "      <th>home_player_Y11</th>\n",
       "      <th>away_player_Y1</th>\n",
       "      <th>away_player_Y2</th>\n",
       "      <th>away_player_Y3</th>\n",
       "      <th>away_player_Y4</th>\n",
       "      <th>away_player_Y5</th>\n",
       "      <th>away_player_Y6</th>\n",
       "      <th>away_player_Y7</th>\n",
       "      <th>away_player_Y8</th>\n",
       "      <th>away_player_Y9</th>\n",
       "      <th>away_player_Y10</th>\n",
       "      <th>away_player_Y11</th>\n",
       "      <th>home_player_1</th>\n",
       "      <th>home_player_2</th>\n",
       "      <th>home_player_3</th>\n",
       "      <th>home_player_4</th>\n",
       "      <th>home_player_5</th>\n",
       "      <th>home_player_6</th>\n",
       "      <th>home_player_7</th>\n",
       "      <th>home_player_8</th>\n",
       "      <th>home_player_9</th>\n",
       "      <th>home_player_10</th>\n",
       "      <th>home_player_11</th>\n",
       "      <th>away_player_1</th>\n",
       "      <th>away_player_2</th>\n",
       "      <th>away_player_3</th>\n",
       "      <th>away_player_4</th>\n",
       "      <th>away_player_5</th>\n",
       "      <th>away_player_6</th>\n",
       "      <th>away_player_7</th>\n",
       "      <th>away_player_8</th>\n",
       "      <th>away_player_9</th>\n",
       "      <th>away_player_10</th>\n",
       "      <th>away_player_11</th>\n",
       "      <th>goal</th>\n",
       "      <th>shoton</th>\n",
       "      <th>shotoff</th>\n",
       "      <th>foulcommit</th>\n",
       "      <th>card</th>\n",
       "      <th>cross</th>\n",
       "      <th>corner</th>\n",
       "      <th>possession</th>\n",
       "      <th>B365H</th>\n",
       "      <th>B365D</th>\n",
       "      <th>B365A</th>\n",
       "      <th>BWH</th>\n",
       "      <th>BWD</th>\n",
       "      <th>BWA</th>\n",
       "      <th>IWH</th>\n",
       "      <th>IWD</th>\n",
       "      <th>IWA</th>\n",
       "      <th>LBH</th>\n",
       "      <th>LBD</th>\n",
       "      <th>LBA</th>\n",
       "      <th>PSH</th>\n",
       "      <th>PSD</th>\n",
       "      <th>PSA</th>\n",
       "      <th>WHH</th>\n",
       "      <th>WHD</th>\n",
       "      <th>WHA</th>\n",
       "      <th>SJH</th>\n",
       "      <th>SJD</th>\n",
       "      <th>SJA</th>\n",
       "      <th>VCH</th>\n",
       "      <th>VCD</th>\n",
       "      <th>VCA</th>\n",
       "      <th>GBH</th>\n",
       "      <th>GBD</th>\n",
       "      <th>GBA</th>\n",
       "      <th>BSH</th>\n",
       "      <th>BSD</th>\n",
       "      <th>BSA</th>\n",
       "    </tr>\n",
       "  </thead>\n",
       "  <tbody>\n",
       "    <tr>\n",
       "      <td>0</td>\n",
       "      <td>1</td>\n",
       "      <td>1</td>\n",
       "      <td>1</td>\n",
       "      <td>2008/2009</td>\n",
       "      <td>1</td>\n",
       "      <td>2008-08-17 00:00:00</td>\n",
       "      <td>492473</td>\n",
       "      <td>9987</td>\n",
       "      <td>9993</td>\n",
       "      <td>1</td>\n",
       "      <td>1</td>\n",
       "      <td>NaN</td>\n",
       "      <td>NaN</td>\n",
       "      <td>NaN</td>\n",
       "      <td>NaN</td>\n",
       "      <td>NaN</td>\n",
       "      <td>NaN</td>\n",
       "      <td>NaN</td>\n",
       "      <td>NaN</td>\n",
       "      <td>NaN</td>\n",
       "      <td>NaN</td>\n",
       "      <td>NaN</td>\n",
       "      <td>NaN</td>\n",
       "      <td>NaN</td>\n",
       "      <td>NaN</td>\n",
       "      <td>NaN</td>\n",
       "      <td>NaN</td>\n",
       "      <td>NaN</td>\n",
       "      <td>NaN</td>\n",
       "      <td>NaN</td>\n",
       "      <td>NaN</td>\n",
       "      <td>NaN</td>\n",
       "      <td>NaN</td>\n",
       "      <td>NaN</td>\n",
       "      <td>NaN</td>\n",
       "      <td>NaN</td>\n",
       "      <td>NaN</td>\n",
       "      <td>NaN</td>\n",
       "      <td>NaN</td>\n",
       "      <td>NaN</td>\n",
       "      <td>NaN</td>\n",
       "      <td>NaN</td>\n",
       "      <td>NaN</td>\n",
       "      <td>NaN</td>\n",
       "      <td>NaN</td>\n",
       "      <td>NaN</td>\n",
       "      <td>NaN</td>\n",
       "      <td>NaN</td>\n",
       "      <td>NaN</td>\n",
       "      <td>NaN</td>\n",
       "      <td>NaN</td>\n",
       "      <td>NaN</td>\n",
       "      <td>NaN</td>\n",
       "      <td>NaN</td>\n",
       "      <td>NaN</td>\n",
       "      <td>NaN</td>\n",
       "      <td>NaN</td>\n",
       "      <td>NaN</td>\n",
       "      <td>NaN</td>\n",
       "      <td>NaN</td>\n",
       "      <td>NaN</td>\n",
       "      <td>NaN</td>\n",
       "      <td>NaN</td>\n",
       "      <td>NaN</td>\n",
       "      <td>NaN</td>\n",
       "      <td>NaN</td>\n",
       "      <td>NaN</td>\n",
       "      <td>NaN</td>\n",
       "      <td>NaN</td>\n",
       "      <td>NaN</td>\n",
       "      <td>NaN</td>\n",
       "      <td>NaN</td>\n",
       "      <td>NaN</td>\n",
       "      <td>NaN</td>\n",
       "      <td>NaN</td>\n",
       "      <td>NaN</td>\n",
       "      <td>NaN</td>\n",
       "      <td>NaN</td>\n",
       "      <td>NaN</td>\n",
       "      <td>NaN</td>\n",
       "      <td>NaN</td>\n",
       "      <td>NaN</td>\n",
       "      <td>NaN</td>\n",
       "      <td>NaN</td>\n",
       "      <td>NaN</td>\n",
       "      <td>1.73</td>\n",
       "      <td>3.40</td>\n",
       "      <td>5.00</td>\n",
       "      <td>1.75</td>\n",
       "      <td>3.35</td>\n",
       "      <td>4.20</td>\n",
       "      <td>1.85</td>\n",
       "      <td>3.2</td>\n",
       "      <td>3.5</td>\n",
       "      <td>1.80</td>\n",
       "      <td>3.3</td>\n",
       "      <td>3.75</td>\n",
       "      <td>NaN</td>\n",
       "      <td>NaN</td>\n",
       "      <td>NaN</td>\n",
       "      <td>1.70</td>\n",
       "      <td>3.30</td>\n",
       "      <td>4.33</td>\n",
       "      <td>1.90</td>\n",
       "      <td>3.3</td>\n",
       "      <td>4.00</td>\n",
       "      <td>1.65</td>\n",
       "      <td>3.40</td>\n",
       "      <td>4.50</td>\n",
       "      <td>1.78</td>\n",
       "      <td>3.25</td>\n",
       "      <td>4.00</td>\n",
       "      <td>1.73</td>\n",
       "      <td>3.40</td>\n",
       "      <td>4.20</td>\n",
       "    </tr>\n",
       "    <tr>\n",
       "      <td>1</td>\n",
       "      <td>2</td>\n",
       "      <td>1</td>\n",
       "      <td>1</td>\n",
       "      <td>2008/2009</td>\n",
       "      <td>1</td>\n",
       "      <td>2008-08-16 00:00:00</td>\n",
       "      <td>492474</td>\n",
       "      <td>10000</td>\n",
       "      <td>9994</td>\n",
       "      <td>0</td>\n",
       "      <td>0</td>\n",
       "      <td>NaN</td>\n",
       "      <td>NaN</td>\n",
       "      <td>NaN</td>\n",
       "      <td>NaN</td>\n",
       "      <td>NaN</td>\n",
       "      <td>NaN</td>\n",
       "      <td>NaN</td>\n",
       "      <td>NaN</td>\n",
       "      <td>NaN</td>\n",
       "      <td>NaN</td>\n",
       "      <td>NaN</td>\n",
       "      <td>NaN</td>\n",
       "      <td>NaN</td>\n",
       "      <td>NaN</td>\n",
       "      <td>NaN</td>\n",
       "      <td>NaN</td>\n",
       "      <td>NaN</td>\n",
       "      <td>NaN</td>\n",
       "      <td>NaN</td>\n",
       "      <td>NaN</td>\n",
       "      <td>NaN</td>\n",
       "      <td>NaN</td>\n",
       "      <td>NaN</td>\n",
       "      <td>NaN</td>\n",
       "      <td>NaN</td>\n",
       "      <td>NaN</td>\n",
       "      <td>NaN</td>\n",
       "      <td>NaN</td>\n",
       "      <td>NaN</td>\n",
       "      <td>NaN</td>\n",
       "      <td>NaN</td>\n",
       "      <td>NaN</td>\n",
       "      <td>NaN</td>\n",
       "      <td>NaN</td>\n",
       "      <td>NaN</td>\n",
       "      <td>NaN</td>\n",
       "      <td>NaN</td>\n",
       "      <td>NaN</td>\n",
       "      <td>NaN</td>\n",
       "      <td>NaN</td>\n",
       "      <td>NaN</td>\n",
       "      <td>NaN</td>\n",
       "      <td>NaN</td>\n",
       "      <td>NaN</td>\n",
       "      <td>NaN</td>\n",
       "      <td>NaN</td>\n",
       "      <td>NaN</td>\n",
       "      <td>NaN</td>\n",
       "      <td>NaN</td>\n",
       "      <td>NaN</td>\n",
       "      <td>NaN</td>\n",
       "      <td>NaN</td>\n",
       "      <td>NaN</td>\n",
       "      <td>NaN</td>\n",
       "      <td>NaN</td>\n",
       "      <td>NaN</td>\n",
       "      <td>NaN</td>\n",
       "      <td>NaN</td>\n",
       "      <td>NaN</td>\n",
       "      <td>NaN</td>\n",
       "      <td>NaN</td>\n",
       "      <td>NaN</td>\n",
       "      <td>NaN</td>\n",
       "      <td>NaN</td>\n",
       "      <td>NaN</td>\n",
       "      <td>NaN</td>\n",
       "      <td>NaN</td>\n",
       "      <td>NaN</td>\n",
       "      <td>NaN</td>\n",
       "      <td>NaN</td>\n",
       "      <td>NaN</td>\n",
       "      <td>NaN</td>\n",
       "      <td>NaN</td>\n",
       "      <td>NaN</td>\n",
       "      <td>1.95</td>\n",
       "      <td>3.20</td>\n",
       "      <td>3.60</td>\n",
       "      <td>1.80</td>\n",
       "      <td>3.30</td>\n",
       "      <td>3.95</td>\n",
       "      <td>1.90</td>\n",
       "      <td>3.2</td>\n",
       "      <td>3.5</td>\n",
       "      <td>1.90</td>\n",
       "      <td>3.2</td>\n",
       "      <td>3.50</td>\n",
       "      <td>NaN</td>\n",
       "      <td>NaN</td>\n",
       "      <td>NaN</td>\n",
       "      <td>1.83</td>\n",
       "      <td>3.30</td>\n",
       "      <td>3.60</td>\n",
       "      <td>1.95</td>\n",
       "      <td>3.3</td>\n",
       "      <td>3.80</td>\n",
       "      <td>2.00</td>\n",
       "      <td>3.25</td>\n",
       "      <td>3.25</td>\n",
       "      <td>1.85</td>\n",
       "      <td>3.25</td>\n",
       "      <td>3.75</td>\n",
       "      <td>1.91</td>\n",
       "      <td>3.25</td>\n",
       "      <td>3.60</td>\n",
       "    </tr>\n",
       "    <tr>\n",
       "      <td>2</td>\n",
       "      <td>3</td>\n",
       "      <td>1</td>\n",
       "      <td>1</td>\n",
       "      <td>2008/2009</td>\n",
       "      <td>1</td>\n",
       "      <td>2008-08-16 00:00:00</td>\n",
       "      <td>492475</td>\n",
       "      <td>9984</td>\n",
       "      <td>8635</td>\n",
       "      <td>0</td>\n",
       "      <td>3</td>\n",
       "      <td>NaN</td>\n",
       "      <td>NaN</td>\n",
       "      <td>NaN</td>\n",
       "      <td>NaN</td>\n",
       "      <td>NaN</td>\n",
       "      <td>NaN</td>\n",
       "      <td>NaN</td>\n",
       "      <td>NaN</td>\n",
       "      <td>NaN</td>\n",
       "      <td>NaN</td>\n",
       "      <td>NaN</td>\n",
       "      <td>NaN</td>\n",
       "      <td>NaN</td>\n",
       "      <td>NaN</td>\n",
       "      <td>NaN</td>\n",
       "      <td>NaN</td>\n",
       "      <td>NaN</td>\n",
       "      <td>NaN</td>\n",
       "      <td>NaN</td>\n",
       "      <td>NaN</td>\n",
       "      <td>NaN</td>\n",
       "      <td>NaN</td>\n",
       "      <td>NaN</td>\n",
       "      <td>NaN</td>\n",
       "      <td>NaN</td>\n",
       "      <td>NaN</td>\n",
       "      <td>NaN</td>\n",
       "      <td>NaN</td>\n",
       "      <td>NaN</td>\n",
       "      <td>NaN</td>\n",
       "      <td>NaN</td>\n",
       "      <td>NaN</td>\n",
       "      <td>NaN</td>\n",
       "      <td>NaN</td>\n",
       "      <td>NaN</td>\n",
       "      <td>NaN</td>\n",
       "      <td>NaN</td>\n",
       "      <td>NaN</td>\n",
       "      <td>NaN</td>\n",
       "      <td>NaN</td>\n",
       "      <td>NaN</td>\n",
       "      <td>NaN</td>\n",
       "      <td>NaN</td>\n",
       "      <td>NaN</td>\n",
       "      <td>NaN</td>\n",
       "      <td>NaN</td>\n",
       "      <td>NaN</td>\n",
       "      <td>NaN</td>\n",
       "      <td>NaN</td>\n",
       "      <td>NaN</td>\n",
       "      <td>NaN</td>\n",
       "      <td>NaN</td>\n",
       "      <td>NaN</td>\n",
       "      <td>NaN</td>\n",
       "      <td>NaN</td>\n",
       "      <td>NaN</td>\n",
       "      <td>NaN</td>\n",
       "      <td>NaN</td>\n",
       "      <td>NaN</td>\n",
       "      <td>NaN</td>\n",
       "      <td>NaN</td>\n",
       "      <td>NaN</td>\n",
       "      <td>NaN</td>\n",
       "      <td>NaN</td>\n",
       "      <td>NaN</td>\n",
       "      <td>NaN</td>\n",
       "      <td>NaN</td>\n",
       "      <td>NaN</td>\n",
       "      <td>NaN</td>\n",
       "      <td>NaN</td>\n",
       "      <td>NaN</td>\n",
       "      <td>NaN</td>\n",
       "      <td>NaN</td>\n",
       "      <td>NaN</td>\n",
       "      <td>2.38</td>\n",
       "      <td>3.30</td>\n",
       "      <td>2.75</td>\n",
       "      <td>2.40</td>\n",
       "      <td>3.30</td>\n",
       "      <td>2.55</td>\n",
       "      <td>2.60</td>\n",
       "      <td>3.1</td>\n",
       "      <td>2.3</td>\n",
       "      <td>2.50</td>\n",
       "      <td>3.2</td>\n",
       "      <td>2.50</td>\n",
       "      <td>NaN</td>\n",
       "      <td>NaN</td>\n",
       "      <td>NaN</td>\n",
       "      <td>2.50</td>\n",
       "      <td>3.25</td>\n",
       "      <td>2.40</td>\n",
       "      <td>2.63</td>\n",
       "      <td>3.3</td>\n",
       "      <td>2.50</td>\n",
       "      <td>2.35</td>\n",
       "      <td>3.25</td>\n",
       "      <td>2.65</td>\n",
       "      <td>2.50</td>\n",
       "      <td>3.20</td>\n",
       "      <td>2.50</td>\n",
       "      <td>2.30</td>\n",
       "      <td>3.20</td>\n",
       "      <td>2.75</td>\n",
       "    </tr>\n",
       "    <tr>\n",
       "      <td>3</td>\n",
       "      <td>4</td>\n",
       "      <td>1</td>\n",
       "      <td>1</td>\n",
       "      <td>2008/2009</td>\n",
       "      <td>1</td>\n",
       "      <td>2008-08-17 00:00:00</td>\n",
       "      <td>492476</td>\n",
       "      <td>9991</td>\n",
       "      <td>9998</td>\n",
       "      <td>5</td>\n",
       "      <td>0</td>\n",
       "      <td>NaN</td>\n",
       "      <td>NaN</td>\n",
       "      <td>NaN</td>\n",
       "      <td>NaN</td>\n",
       "      <td>NaN</td>\n",
       "      <td>NaN</td>\n",
       "      <td>NaN</td>\n",
       "      <td>NaN</td>\n",
       "      <td>NaN</td>\n",
       "      <td>NaN</td>\n",
       "      <td>NaN</td>\n",
       "      <td>NaN</td>\n",
       "      <td>NaN</td>\n",
       "      <td>NaN</td>\n",
       "      <td>NaN</td>\n",
       "      <td>NaN</td>\n",
       "      <td>NaN</td>\n",
       "      <td>NaN</td>\n",
       "      <td>NaN</td>\n",
       "      <td>NaN</td>\n",
       "      <td>NaN</td>\n",
       "      <td>NaN</td>\n",
       "      <td>NaN</td>\n",
       "      <td>NaN</td>\n",
       "      <td>NaN</td>\n",
       "      <td>NaN</td>\n",
       "      <td>NaN</td>\n",
       "      <td>NaN</td>\n",
       "      <td>NaN</td>\n",
       "      <td>NaN</td>\n",
       "      <td>NaN</td>\n",
       "      <td>NaN</td>\n",
       "      <td>NaN</td>\n",
       "      <td>NaN</td>\n",
       "      <td>NaN</td>\n",
       "      <td>NaN</td>\n",
       "      <td>NaN</td>\n",
       "      <td>NaN</td>\n",
       "      <td>NaN</td>\n",
       "      <td>NaN</td>\n",
       "      <td>NaN</td>\n",
       "      <td>NaN</td>\n",
       "      <td>NaN</td>\n",
       "      <td>NaN</td>\n",
       "      <td>NaN</td>\n",
       "      <td>NaN</td>\n",
       "      <td>NaN</td>\n",
       "      <td>NaN</td>\n",
       "      <td>NaN</td>\n",
       "      <td>NaN</td>\n",
       "      <td>NaN</td>\n",
       "      <td>NaN</td>\n",
       "      <td>NaN</td>\n",
       "      <td>NaN</td>\n",
       "      <td>NaN</td>\n",
       "      <td>NaN</td>\n",
       "      <td>NaN</td>\n",
       "      <td>NaN</td>\n",
       "      <td>NaN</td>\n",
       "      <td>NaN</td>\n",
       "      <td>NaN</td>\n",
       "      <td>NaN</td>\n",
       "      <td>NaN</td>\n",
       "      <td>NaN</td>\n",
       "      <td>NaN</td>\n",
       "      <td>NaN</td>\n",
       "      <td>NaN</td>\n",
       "      <td>NaN</td>\n",
       "      <td>NaN</td>\n",
       "      <td>NaN</td>\n",
       "      <td>NaN</td>\n",
       "      <td>NaN</td>\n",
       "      <td>NaN</td>\n",
       "      <td>NaN</td>\n",
       "      <td>1.44</td>\n",
       "      <td>3.75</td>\n",
       "      <td>7.50</td>\n",
       "      <td>1.40</td>\n",
       "      <td>4.00</td>\n",
       "      <td>6.80</td>\n",
       "      <td>1.40</td>\n",
       "      <td>3.9</td>\n",
       "      <td>6.0</td>\n",
       "      <td>1.44</td>\n",
       "      <td>3.6</td>\n",
       "      <td>6.50</td>\n",
       "      <td>NaN</td>\n",
       "      <td>NaN</td>\n",
       "      <td>NaN</td>\n",
       "      <td>1.44</td>\n",
       "      <td>3.75</td>\n",
       "      <td>6.00</td>\n",
       "      <td>1.44</td>\n",
       "      <td>4.0</td>\n",
       "      <td>7.50</td>\n",
       "      <td>1.45</td>\n",
       "      <td>3.75</td>\n",
       "      <td>6.50</td>\n",
       "      <td>1.50</td>\n",
       "      <td>3.75</td>\n",
       "      <td>5.50</td>\n",
       "      <td>1.44</td>\n",
       "      <td>3.75</td>\n",
       "      <td>6.50</td>\n",
       "    </tr>\n",
       "    <tr>\n",
       "      <td>4</td>\n",
       "      <td>5</td>\n",
       "      <td>1</td>\n",
       "      <td>1</td>\n",
       "      <td>2008/2009</td>\n",
       "      <td>1</td>\n",
       "      <td>2008-08-16 00:00:00</td>\n",
       "      <td>492477</td>\n",
       "      <td>7947</td>\n",
       "      <td>9985</td>\n",
       "      <td>1</td>\n",
       "      <td>3</td>\n",
       "      <td>NaN</td>\n",
       "      <td>NaN</td>\n",
       "      <td>NaN</td>\n",
       "      <td>NaN</td>\n",
       "      <td>NaN</td>\n",
       "      <td>NaN</td>\n",
       "      <td>NaN</td>\n",
       "      <td>NaN</td>\n",
       "      <td>NaN</td>\n",
       "      <td>NaN</td>\n",
       "      <td>NaN</td>\n",
       "      <td>NaN</td>\n",
       "      <td>NaN</td>\n",
       "      <td>NaN</td>\n",
       "      <td>NaN</td>\n",
       "      <td>NaN</td>\n",
       "      <td>NaN</td>\n",
       "      <td>NaN</td>\n",
       "      <td>NaN</td>\n",
       "      <td>NaN</td>\n",
       "      <td>NaN</td>\n",
       "      <td>NaN</td>\n",
       "      <td>NaN</td>\n",
       "      <td>NaN</td>\n",
       "      <td>NaN</td>\n",
       "      <td>NaN</td>\n",
       "      <td>NaN</td>\n",
       "      <td>NaN</td>\n",
       "      <td>NaN</td>\n",
       "      <td>NaN</td>\n",
       "      <td>NaN</td>\n",
       "      <td>NaN</td>\n",
       "      <td>NaN</td>\n",
       "      <td>NaN</td>\n",
       "      <td>NaN</td>\n",
       "      <td>NaN</td>\n",
       "      <td>NaN</td>\n",
       "      <td>NaN</td>\n",
       "      <td>NaN</td>\n",
       "      <td>NaN</td>\n",
       "      <td>NaN</td>\n",
       "      <td>NaN</td>\n",
       "      <td>NaN</td>\n",
       "      <td>NaN</td>\n",
       "      <td>NaN</td>\n",
       "      <td>NaN</td>\n",
       "      <td>NaN</td>\n",
       "      <td>NaN</td>\n",
       "      <td>NaN</td>\n",
       "      <td>NaN</td>\n",
       "      <td>NaN</td>\n",
       "      <td>NaN</td>\n",
       "      <td>NaN</td>\n",
       "      <td>NaN</td>\n",
       "      <td>NaN</td>\n",
       "      <td>NaN</td>\n",
       "      <td>NaN</td>\n",
       "      <td>NaN</td>\n",
       "      <td>NaN</td>\n",
       "      <td>NaN</td>\n",
       "      <td>NaN</td>\n",
       "      <td>NaN</td>\n",
       "      <td>NaN</td>\n",
       "      <td>NaN</td>\n",
       "      <td>NaN</td>\n",
       "      <td>NaN</td>\n",
       "      <td>NaN</td>\n",
       "      <td>NaN</td>\n",
       "      <td>NaN</td>\n",
       "      <td>NaN</td>\n",
       "      <td>NaN</td>\n",
       "      <td>NaN</td>\n",
       "      <td>NaN</td>\n",
       "      <td>NaN</td>\n",
       "      <td>5.00</td>\n",
       "      <td>3.50</td>\n",
       "      <td>1.65</td>\n",
       "      <td>5.00</td>\n",
       "      <td>3.50</td>\n",
       "      <td>1.60</td>\n",
       "      <td>4.00</td>\n",
       "      <td>3.3</td>\n",
       "      <td>1.7</td>\n",
       "      <td>4.00</td>\n",
       "      <td>3.4</td>\n",
       "      <td>1.72</td>\n",
       "      <td>NaN</td>\n",
       "      <td>NaN</td>\n",
       "      <td>NaN</td>\n",
       "      <td>4.20</td>\n",
       "      <td>3.40</td>\n",
       "      <td>1.70</td>\n",
       "      <td>4.50</td>\n",
       "      <td>3.5</td>\n",
       "      <td>1.73</td>\n",
       "      <td>4.50</td>\n",
       "      <td>3.40</td>\n",
       "      <td>1.65</td>\n",
       "      <td>4.50</td>\n",
       "      <td>3.50</td>\n",
       "      <td>1.65</td>\n",
       "      <td>4.75</td>\n",
       "      <td>3.30</td>\n",
       "      <td>1.67</td>\n",
       "    </tr>\n",
       "  </tbody>\n",
       "</table>\n",
       "</div>"
      ],
      "text/plain": [
       "   id  country_id  league_id     season  stage                 date  \\\n",
       "0   1           1          1  2008/2009      1  2008-08-17 00:00:00   \n",
       "1   2           1          1  2008/2009      1  2008-08-16 00:00:00   \n",
       "2   3           1          1  2008/2009      1  2008-08-16 00:00:00   \n",
       "3   4           1          1  2008/2009      1  2008-08-17 00:00:00   \n",
       "4   5           1          1  2008/2009      1  2008-08-16 00:00:00   \n",
       "\n",
       "   match_api_id  home_team_api_id  away_team_api_id  home_team_goal  \\\n",
       "0        492473              9987              9993               1   \n",
       "1        492474             10000              9994               0   \n",
       "2        492475              9984              8635               0   \n",
       "3        492476              9991              9998               5   \n",
       "4        492477              7947              9985               1   \n",
       "\n",
       "   away_team_goal  home_player_X1  home_player_X2  home_player_X3  \\\n",
       "0               1             NaN             NaN             NaN   \n",
       "1               0             NaN             NaN             NaN   \n",
       "2               3             NaN             NaN             NaN   \n",
       "3               0             NaN             NaN             NaN   \n",
       "4               3             NaN             NaN             NaN   \n",
       "\n",
       "   home_player_X4  home_player_X5  home_player_X6  home_player_X7  \\\n",
       "0             NaN             NaN             NaN             NaN   \n",
       "1             NaN             NaN             NaN             NaN   \n",
       "2             NaN             NaN             NaN             NaN   \n",
       "3             NaN             NaN             NaN             NaN   \n",
       "4             NaN             NaN             NaN             NaN   \n",
       "\n",
       "   home_player_X8  home_player_X9  home_player_X10  home_player_X11  \\\n",
       "0             NaN             NaN              NaN              NaN   \n",
       "1             NaN             NaN              NaN              NaN   \n",
       "2             NaN             NaN              NaN              NaN   \n",
       "3             NaN             NaN              NaN              NaN   \n",
       "4             NaN             NaN              NaN              NaN   \n",
       "\n",
       "   away_player_X1  away_player_X2  away_player_X3  away_player_X4  \\\n",
       "0             NaN             NaN             NaN             NaN   \n",
       "1             NaN             NaN             NaN             NaN   \n",
       "2             NaN             NaN             NaN             NaN   \n",
       "3             NaN             NaN             NaN             NaN   \n",
       "4             NaN             NaN             NaN             NaN   \n",
       "\n",
       "   away_player_X5  away_player_X6  away_player_X7  away_player_X8  \\\n",
       "0             NaN             NaN             NaN             NaN   \n",
       "1             NaN             NaN             NaN             NaN   \n",
       "2             NaN             NaN             NaN             NaN   \n",
       "3             NaN             NaN             NaN             NaN   \n",
       "4             NaN             NaN             NaN             NaN   \n",
       "\n",
       "   away_player_X9  away_player_X10  away_player_X11  home_player_Y1  \\\n",
       "0             NaN              NaN              NaN             NaN   \n",
       "1             NaN              NaN              NaN             NaN   \n",
       "2             NaN              NaN              NaN             NaN   \n",
       "3             NaN              NaN              NaN             NaN   \n",
       "4             NaN              NaN              NaN             NaN   \n",
       "\n",
       "   home_player_Y2  home_player_Y3  home_player_Y4  home_player_Y5  \\\n",
       "0             NaN             NaN             NaN             NaN   \n",
       "1             NaN             NaN             NaN             NaN   \n",
       "2             NaN             NaN             NaN             NaN   \n",
       "3             NaN             NaN             NaN             NaN   \n",
       "4             NaN             NaN             NaN             NaN   \n",
       "\n",
       "   home_player_Y6  home_player_Y7  home_player_Y8  home_player_Y9  \\\n",
       "0             NaN             NaN             NaN             NaN   \n",
       "1             NaN             NaN             NaN             NaN   \n",
       "2             NaN             NaN             NaN             NaN   \n",
       "3             NaN             NaN             NaN             NaN   \n",
       "4             NaN             NaN             NaN             NaN   \n",
       "\n",
       "   home_player_Y10  home_player_Y11  away_player_Y1  away_player_Y2  \\\n",
       "0              NaN              NaN             NaN             NaN   \n",
       "1              NaN              NaN             NaN             NaN   \n",
       "2              NaN              NaN             NaN             NaN   \n",
       "3              NaN              NaN             NaN             NaN   \n",
       "4              NaN              NaN             NaN             NaN   \n",
       "\n",
       "   away_player_Y3  away_player_Y4  away_player_Y5  away_player_Y6  \\\n",
       "0             NaN             NaN             NaN             NaN   \n",
       "1             NaN             NaN             NaN             NaN   \n",
       "2             NaN             NaN             NaN             NaN   \n",
       "3             NaN             NaN             NaN             NaN   \n",
       "4             NaN             NaN             NaN             NaN   \n",
       "\n",
       "   away_player_Y7  away_player_Y8  away_player_Y9  away_player_Y10  \\\n",
       "0             NaN             NaN             NaN              NaN   \n",
       "1             NaN             NaN             NaN              NaN   \n",
       "2             NaN             NaN             NaN              NaN   \n",
       "3             NaN             NaN             NaN              NaN   \n",
       "4             NaN             NaN             NaN              NaN   \n",
       "\n",
       "   away_player_Y11  home_player_1  home_player_2  home_player_3  \\\n",
       "0              NaN            NaN            NaN            NaN   \n",
       "1              NaN            NaN            NaN            NaN   \n",
       "2              NaN            NaN            NaN            NaN   \n",
       "3              NaN            NaN            NaN            NaN   \n",
       "4              NaN            NaN            NaN            NaN   \n",
       "\n",
       "   home_player_4  home_player_5  home_player_6  home_player_7  home_player_8  \\\n",
       "0            NaN            NaN            NaN            NaN            NaN   \n",
       "1            NaN            NaN            NaN            NaN            NaN   \n",
       "2            NaN            NaN            NaN            NaN            NaN   \n",
       "3            NaN            NaN            NaN            NaN            NaN   \n",
       "4            NaN            NaN            NaN            NaN            NaN   \n",
       "\n",
       "   home_player_9  home_player_10  home_player_11  away_player_1  \\\n",
       "0            NaN             NaN             NaN            NaN   \n",
       "1            NaN             NaN             NaN            NaN   \n",
       "2            NaN             NaN             NaN            NaN   \n",
       "3            NaN             NaN             NaN            NaN   \n",
       "4            NaN             NaN             NaN            NaN   \n",
       "\n",
       "   away_player_2  away_player_3  away_player_4  away_player_5  away_player_6  \\\n",
       "0            NaN            NaN            NaN            NaN            NaN   \n",
       "1            NaN            NaN            NaN            NaN            NaN   \n",
       "2            NaN            NaN            NaN            NaN            NaN   \n",
       "3            NaN            NaN            NaN            NaN            NaN   \n",
       "4            NaN            NaN            NaN            NaN            NaN   \n",
       "\n",
       "   away_player_7  away_player_8  away_player_9  away_player_10  \\\n",
       "0            NaN            NaN            NaN             NaN   \n",
       "1            NaN            NaN            NaN             NaN   \n",
       "2            NaN            NaN            NaN             NaN   \n",
       "3            NaN            NaN            NaN             NaN   \n",
       "4            NaN            NaN            NaN             NaN   \n",
       "\n",
       "   away_player_11 goal shoton shotoff foulcommit card cross corner possession  \\\n",
       "0             NaN  NaN    NaN     NaN        NaN  NaN   NaN    NaN        NaN   \n",
       "1             NaN  NaN    NaN     NaN        NaN  NaN   NaN    NaN        NaN   \n",
       "2             NaN  NaN    NaN     NaN        NaN  NaN   NaN    NaN        NaN   \n",
       "3             NaN  NaN    NaN     NaN        NaN  NaN   NaN    NaN        NaN   \n",
       "4             NaN  NaN    NaN     NaN        NaN  NaN   NaN    NaN        NaN   \n",
       "\n",
       "   B365H  B365D  B365A   BWH   BWD   BWA   IWH  IWD  IWA   LBH  LBD   LBA  \\\n",
       "0   1.73   3.40   5.00  1.75  3.35  4.20  1.85  3.2  3.5  1.80  3.3  3.75   \n",
       "1   1.95   3.20   3.60  1.80  3.30  3.95  1.90  3.2  3.5  1.90  3.2  3.50   \n",
       "2   2.38   3.30   2.75  2.40  3.30  2.55  2.60  3.1  2.3  2.50  3.2  2.50   \n",
       "3   1.44   3.75   7.50  1.40  4.00  6.80  1.40  3.9  6.0  1.44  3.6  6.50   \n",
       "4   5.00   3.50   1.65  5.00  3.50  1.60  4.00  3.3  1.7  4.00  3.4  1.72   \n",
       "\n",
       "   PSH  PSD  PSA   WHH   WHD   WHA   SJH  SJD   SJA   VCH   VCD   VCA   GBH  \\\n",
       "0  NaN  NaN  NaN  1.70  3.30  4.33  1.90  3.3  4.00  1.65  3.40  4.50  1.78   \n",
       "1  NaN  NaN  NaN  1.83  3.30  3.60  1.95  3.3  3.80  2.00  3.25  3.25  1.85   \n",
       "2  NaN  NaN  NaN  2.50  3.25  2.40  2.63  3.3  2.50  2.35  3.25  2.65  2.50   \n",
       "3  NaN  NaN  NaN  1.44  3.75  6.00  1.44  4.0  7.50  1.45  3.75  6.50  1.50   \n",
       "4  NaN  NaN  NaN  4.20  3.40  1.70  4.50  3.5  1.73  4.50  3.40  1.65  4.50   \n",
       "\n",
       "    GBD   GBA   BSH   BSD   BSA  \n",
       "0  3.25  4.00  1.73  3.40  4.20  \n",
       "1  3.25  3.75  1.91  3.25  3.60  \n",
       "2  3.20  2.50  2.30  3.20  2.75  \n",
       "3  3.75  5.50  1.44  3.75  6.50  \n",
       "4  3.50  1.65  4.75  3.30  1.67  "
      ]
     },
     "execution_count": 5,
     "metadata": {},
     "output_type": "execute_result"
    }
   ],
   "source": [
    "match_df.head()"
   ]
  },
  {
   "cell_type": "markdown",
   "metadata": {},
   "source": [
    "## Subset Columns"
   ]
  },
  {
   "cell_type": "code",
   "execution_count": 6,
   "metadata": {},
   "outputs": [],
   "source": [
    "# Match data frame\n",
    "data = match_df[['season',\n",
    "         'home_team_api_id',\n",
    "         'away_team_api_id',\n",
    "         'home_team_goal',\n",
    "         'away_team_goal']]\n",
    "\n",
    "# Team data frame\n",
    "team_name = team_df[['team_api_id', 'team_long_name']]"
   ]
  },
  {
   "cell_type": "markdown",
   "metadata": {},
   "source": [
    "## Merge"
   ]
  },
  {
   "cell_type": "code",
   "execution_count": 7,
   "metadata": {},
   "outputs": [],
   "source": [
    "# merge home_team_name\n",
    "x = pd.merge(data, team_name, left_on='home_team_api_id', right_on='team_api_id', how='left')\n",
    "x = x.drop('team_api_id', axis=1)\n",
    "x = x.rename(columns={'team_long_name': 'home_team_name'})# merge home_team_name"
   ]
  },
  {
   "cell_type": "code",
   "execution_count": 8,
   "metadata": {},
   "outputs": [],
   "source": [
    "# merge away_team_name\n",
    "data = pd.merge(x, team_name, left_on='away_team_api_id', right_on='team_api_id', how='left')\n",
    "data = data.drop('team_api_id', axis=1)\n",
    "data = data.rename(columns={'team_long_name': 'away_team_name'})"
   ]
  },
  {
   "cell_type": "code",
   "execution_count": 9,
   "metadata": {},
   "outputs": [],
   "source": [
    "def team_win(data):\n",
    "    if data['home_team_goal'] > data['away_team_goal']:\n",
    "        return data['home_team_name']\n",
    "    elif data['home_team_goal'] < data['away_team_goal']:\n",
    "        return data['away_team_name']\n",
    "    else:\n",
    "        return 'Draw'\n",
    "def team_lose(data):\n",
    "    if data['home_team_goal'] < data['away_team_goal']:\n",
    "        return data['home_team_name']\n",
    "    elif data['home_team_goal'] > data['away_team_goal']:\n",
    "        return data['away_team_name']\n",
    "    else:\n",
    "        return 'Draw'\n",
    "def game_outcome(data):\n",
    "    if data['home_team_goal'] > data['away_team_goal']:\n",
    "        return 'Home_win'\n",
    "    elif data['home_team_goal'] < data['away_team_goal']:\n",
    "        return 'Away_win'\n",
    "    else:\n",
    "        return 'Draw'\n",
    "def home_win(data):\n",
    "    if data['home_team_goal'] > data['away_team_goal']:\n",
    "        return data['home_team_name']\n",
    "    else:\n",
    "        return '/'\n",
    "def away_win(data):\n",
    "    if data['home_team_goal'] < data['away_team_goal']:\n",
    "        return data['away_team_name']\n",
    "    else:\n",
    "        return '/'"
   ]
  },
  {
   "cell_type": "code",
   "execution_count": 10,
   "metadata": {},
   "outputs": [],
   "source": [
    "data['winning_team'] = data.apply(lambda x: team_win(x), axis=1)\n",
    "data['losing_team'] = data.apply(lambda x: team_lose(x), axis=1)\n",
    "data['game_outcome'] = data.apply(lambda x: game_outcome(x), axis=1)\n",
    "data['home_team_win'] = data.apply(lambda x: home_win(x), axis=1)\n",
    "data['away_team_win'] = data.apply(lambda x: away_win(x), axis=1)"
   ]
  },
  {
   "cell_type": "code",
   "execution_count": 11,
   "metadata": {},
   "outputs": [
    {
     "data": {
      "text/html": [
       "<div>\n",
       "<style scoped>\n",
       "    .dataframe tbody tr th:only-of-type {\n",
       "        vertical-align: middle;\n",
       "    }\n",
       "\n",
       "    .dataframe tbody tr th {\n",
       "        vertical-align: top;\n",
       "    }\n",
       "\n",
       "    .dataframe thead th {\n",
       "        text-align: right;\n",
       "    }\n",
       "</style>\n",
       "<table border=\"1\" class=\"dataframe\">\n",
       "  <thead>\n",
       "    <tr style=\"text-align: right;\">\n",
       "      <th></th>\n",
       "      <th>season</th>\n",
       "      <th>home_team_api_id</th>\n",
       "      <th>away_team_api_id</th>\n",
       "      <th>home_team_goal</th>\n",
       "      <th>away_team_goal</th>\n",
       "      <th>home_team_name</th>\n",
       "      <th>away_team_name</th>\n",
       "      <th>winning_team</th>\n",
       "      <th>losing_team</th>\n",
       "      <th>game_outcome</th>\n",
       "      <th>home_team_win</th>\n",
       "      <th>away_team_win</th>\n",
       "    </tr>\n",
       "  </thead>\n",
       "  <tbody>\n",
       "    <tr>\n",
       "      <td>0</td>\n",
       "      <td>2008/2009</td>\n",
       "      <td>9987</td>\n",
       "      <td>9993</td>\n",
       "      <td>1</td>\n",
       "      <td>1</td>\n",
       "      <td>KRC Genk</td>\n",
       "      <td>Beerschot AC</td>\n",
       "      <td>Draw</td>\n",
       "      <td>Draw</td>\n",
       "      <td>Draw</td>\n",
       "      <td>/</td>\n",
       "      <td>/</td>\n",
       "    </tr>\n",
       "    <tr>\n",
       "      <td>1</td>\n",
       "      <td>2008/2009</td>\n",
       "      <td>10000</td>\n",
       "      <td>9994</td>\n",
       "      <td>0</td>\n",
       "      <td>0</td>\n",
       "      <td>SV Zulte-Waregem</td>\n",
       "      <td>Sporting Lokeren</td>\n",
       "      <td>Draw</td>\n",
       "      <td>Draw</td>\n",
       "      <td>Draw</td>\n",
       "      <td>/</td>\n",
       "      <td>/</td>\n",
       "    </tr>\n",
       "    <tr>\n",
       "      <td>2</td>\n",
       "      <td>2008/2009</td>\n",
       "      <td>9984</td>\n",
       "      <td>8635</td>\n",
       "      <td>0</td>\n",
       "      <td>3</td>\n",
       "      <td>KSV Cercle Brugge</td>\n",
       "      <td>RSC Anderlecht</td>\n",
       "      <td>RSC Anderlecht</td>\n",
       "      <td>KSV Cercle Brugge</td>\n",
       "      <td>Away_win</td>\n",
       "      <td>/</td>\n",
       "      <td>RSC Anderlecht</td>\n",
       "    </tr>\n",
       "    <tr>\n",
       "      <td>3</td>\n",
       "      <td>2008/2009</td>\n",
       "      <td>9991</td>\n",
       "      <td>9998</td>\n",
       "      <td>5</td>\n",
       "      <td>0</td>\n",
       "      <td>KAA Gent</td>\n",
       "      <td>RAEC Mons</td>\n",
       "      <td>KAA Gent</td>\n",
       "      <td>RAEC Mons</td>\n",
       "      <td>Home_win</td>\n",
       "      <td>KAA Gent</td>\n",
       "      <td>/</td>\n",
       "    </tr>\n",
       "    <tr>\n",
       "      <td>4</td>\n",
       "      <td>2008/2009</td>\n",
       "      <td>7947</td>\n",
       "      <td>9985</td>\n",
       "      <td>1</td>\n",
       "      <td>3</td>\n",
       "      <td>FCV Dender EH</td>\n",
       "      <td>Standard de Liège</td>\n",
       "      <td>Standard de Liège</td>\n",
       "      <td>FCV Dender EH</td>\n",
       "      <td>Away_win</td>\n",
       "      <td>/</td>\n",
       "      <td>Standard de Liège</td>\n",
       "    </tr>\n",
       "  </tbody>\n",
       "</table>\n",
       "</div>"
      ],
      "text/plain": [
       "      season  home_team_api_id  away_team_api_id  home_team_goal  \\\n",
       "0  2008/2009              9987              9993               1   \n",
       "1  2008/2009             10000              9994               0   \n",
       "2  2008/2009              9984              8635               0   \n",
       "3  2008/2009              9991              9998               5   \n",
       "4  2008/2009              7947              9985               1   \n",
       "\n",
       "   away_team_goal     home_team_name     away_team_name       winning_team  \\\n",
       "0               1           KRC Genk       Beerschot AC               Draw   \n",
       "1               0   SV Zulte-Waregem   Sporting Lokeren               Draw   \n",
       "2               3  KSV Cercle Brugge     RSC Anderlecht     RSC Anderlecht   \n",
       "3               0           KAA Gent          RAEC Mons           KAA Gent   \n",
       "4               3      FCV Dender EH  Standard de Liège  Standard de Liège   \n",
       "\n",
       "         losing_team game_outcome home_team_win      away_team_win  \n",
       "0               Draw         Draw             /                  /  \n",
       "1               Draw         Draw             /                  /  \n",
       "2  KSV Cercle Brugge     Away_win             /     RSC Anderlecht  \n",
       "3          RAEC Mons     Home_win      KAA Gent                  /  \n",
       "4      FCV Dender EH     Away_win             /  Standard de Liège  "
      ]
     },
     "execution_count": 11,
     "metadata": {},
     "output_type": "execute_result"
    }
   ],
   "source": [
    "data.head()"
   ]
  },
  {
   "cell_type": "code",
   "execution_count": 12,
   "metadata": {},
   "outputs": [
    {
     "data": {
      "text/plain": [
       "Text(0, 0.5, '')"
      ]
     },
     "execution_count": 12,
     "metadata": {},
     "output_type": "execute_result"
    },
    {
     "data": {
      "image/png": "[encoded data removed]",
      "text/plain": [
       "<Figure size 720x360 with 2 Axes>"
      ]
     },
     "metadata": {
      "needs_background": "light"
     },
     "output_type": "display_data"
    }
   ],
   "source": [
    "plt.figure(figsize=(10, 5))\n",
    "\n",
    "plt.subplot(1, 2, 1)\n",
    "match_season = data['season'].value_counts().sort_index(ascending=True)\n",
    "match_season = match_season.reset_index()\n",
    "match_season = match_season.sort_values(by=['index'])\n",
    "ax = sns.barplot(x=match_season['season'], y=match_season['index'])\n",
    "for i, j in enumerate(match_season['season']):\n",
    "    ax.text(.7, i, j, weight='bold')\n",
    "\n",
    "plt.title('Số trận phân bố theo từng mùa giải')    \n",
    "plt.ylabel('Mùa giải')\n",
    "plt.xlabel('Số trận')\n",
    "\n",
    "plt.subplot(1, 2, 2)\n",
    "data.game_outcome.value_counts().plot.pie(autopct='%1.1f%%')\n",
    "plt.title('Tỉ trọng kết quả trận đấu')\n",
    "plt.ylabel('')\n",
    "\n",
    "# plt.savefig(_path_save + '\\\\analysis_data_set.png', bbox='tight')"
   ]
  },
  {
   "cell_type": "code",
   "execution_count": 13,
   "metadata": {},
   "outputs": [
    {
     "name": "stdout",
     "output_type": "stream",
     "text": [
      "           Home_win  Away_win  Draw\n",
      "2008/2009      1566       929   831\n",
      "2009/2010      1532       884   814\n",
      "2010/2011      1520       901   839\n",
      "2011/2012      1498       904   818\n",
      "2012/2013      1444       963   853\n",
      "2013/2014      1404       892   736\n",
      "2014/2015      1494       981   850\n",
      "2015/2016      1459      1012   855\n"
     ]
    },
    {
     "data": {
      "image/png": "[encoded data removed]",
      "text/plain": [
       "<Figure size 432x288 with 1 Axes>"
      ]
     },
     "metadata": {
      "needs_background": "light"
     },
     "output_type": "display_data"
    }
   ],
   "source": [
    "z = {}\n",
    "for i in list(match_season['index']):\n",
    "    x = data[data['season'] == i]['game_outcome'].value_counts()\n",
    "    z[i] = x\n",
    "out_come_season = pd.DataFrame.from_dict(data=z, orient='index')\n",
    "print(out_come_season)\n",
    "\n",
    "out_come_season.plot(kind='barh')\n",
    "plt.title('Phân bố kết quả theo từng mùa giải')\n",
    "plt.ylabel('Tổng số trận')\n",
    "\n",
    "plt.savefig(_path_save + '\\\\analysis_data_set_2.png', bbox='tight')"
   ]
  },
  {
   "cell_type": "code",
   "execution_count": 14,
   "metadata": {},
   "outputs": [
    {
     "name": "stdout",
     "output_type": "stream",
     "text": [
      "             0\n",
      "2008/2009  188\n",
      "2009/2010  185\n",
      "2010/2011  186\n",
      "2011/2012  186\n",
      "2012/2013  186\n",
      "2013/2014  174\n",
      "2014/2015  188\n",
      "2015/2016  188\n"
     ]
    },
    {
     "data": {
      "image/png": "[encoded data removed]",
      "text/plain": [
       "<Figure size 432x288 with 1 Axes>"
      ]
     },
     "metadata": {
      "needs_background": "light"
     },
     "output_type": "display_data"
    }
   ],
   "source": [
    "z = {}\n",
    "for i in match_season['index']:\n",
    "    x = len(data[data['season'] == i]['home_team_api_id'].unique())\n",
    "#     y = len(data[data['season'] == i]['away_team_api_id'].unique())\n",
    "    z[i] = x\n",
    "\n",
    "team_season = pd.DataFrame.from_dict(data=z, orient='index')\n",
    "print(team_season)\n",
    "\n",
    "x = list(team_season.index)\n",
    "height = team_season[0]\n",
    "\n",
    "plt.bar(x= x, height=height)\n",
    "for i, j in enumerate(height):\n",
    "    plt.text(i-.3, 100, j, weight='bold')\n",
    "plt.xticks(rotation=90)\n",
    "plt.legend([''])\n",
    "plt.title('Tổng số đội tham gia theo từng mùa giải')\n",
    "plt.ylabel('Số đội')\n",
    "plt.savefig(_path_save + '\\\\team_season.png', bbox='tight')"
   ]
  },
  {
   "cell_type": "markdown",
   "metadata": {},
   "source": [
    "## Split Train and Test Set"
   ]
  },
  {
   "cell_type": "code",
   "execution_count": 15,
   "metadata": {},
   "outputs": [],
   "source": [
    "# Split train and test set\n",
    "train_set = data[data['season'] != '2015/2016']\n",
    "test_set = data[data['season'] == '2015/2016']"
   ]
  },
  {
   "cell_type": "code",
   "execution_count": 16,
   "metadata": {},
   "outputs": [
    {
     "data": {
      "text/plain": [
       "array(['2015/2016'], dtype=object)"
      ]
     },
     "execution_count": 16,
     "metadata": {},
     "output_type": "execute_result"
    }
   ],
   "source": [
    "# checking train_set by its season\n",
    "train_set['season'].unique()\n",
    "test_set['season'].unique()"
   ]
  },
  {
   "cell_type": "code",
   "execution_count": 17,
   "metadata": {},
   "outputs": [
    {
     "data": {
      "image/png": "[encoded data removed]",
      "text/plain": [
       "<Figure size 432x288 with 1 Axes>"
      ]
     },
     "metadata": {
      "needs_background": "light"
     },
     "output_type": "display_data"
    }
   ],
   "source": [
    "train_match = match_season[:7]\n",
    "test_match = match_season.iloc[-1]\n",
    "labels = ['total_match', 'train_match', 'test_match']\n",
    "y =[train_match['season'].sum() + test_match['season'], train_match['season'].sum(), test_match['season']]\n",
    "ax = sns.barplot(x=labels, y=y)\n",
    "for i, j in enumerate(y):\n",
    "    ax.text(i-0.1, 100, j, weight='bold')\n",
    "plt.title('Số trận phân bố trong tập train và test')    \n",
    "plt.ylabel('Số trận')\n",
    "plt.xlabel('')\n",
    "plt.savefig(_path_save + '\\\\dis_train_test.png', bbox_inches='tight')"
   ]
  },
  {
   "cell_type": "markdown",
   "metadata": {},
   "source": [
    "## Analysis Train Set"
   ]
  },
  {
   "cell_type": "code",
   "execution_count": 18,
   "metadata": {},
   "outputs": [
    {
     "data": {
      "text/plain": [
       "Text(0, 0.5, '')"
      ]
     },
     "execution_count": 18,
     "metadata": {},
     "output_type": "execute_result"
    },
    {
     "data": {
      "image/png": "[encoded data removed]",
      "text/plain": [
       "<Figure size 432x288 with 1 Axes>"
      ]
     },
     "metadata": {},
     "output_type": "display_data"
    }
   ],
   "source": [
    "train_set['game_outcome'].value_counts().plot.pie(autopct='%1.0f%%',\n",
    "                                                  wedgeprops={'linewidth':2, 'edgecolor': 'white'})\n",
    "plt.title('Tỉ lệ kết quả trận đấu từ mùa giải 08/09-14/15')\n",
    "plt.ylabel('')\n",
    "# plt.savefig(_path_save + '\\\\train_out_come_pct.png', bbox_inches='tight')"
   ]
  },
  {
   "cell_type": "markdown",
   "metadata": {},
   "source": [
    "## Calculate 'Home_win_pct' / 'Draw_win_pct' Each Team"
   ]
  },
  {
   "cell_type": "code",
   "execution_count": 19,
   "metadata": {},
   "outputs": [
    {
     "name": "stdout",
     "output_type": "stream",
     "text": [
      "number of home team: 286\n",
      "number of away team: 286\n"
     ]
    }
   ],
   "source": [
    "print('number of home team:',len(train_set.home_team_api_id.unique()))\n",
    "print('number of away team:',len(train_set.away_team_api_id.unique()))"
   ]
  },
  {
   "cell_type": "code",
   "execution_count": 20,
   "metadata": {},
   "outputs": [],
   "source": [
    "total_win = train_set.winning_team.value_counts()[1:].reset_index()\n",
    "home_win = train_set.home_team_win.value_counts()[1:].reset_index()\n",
    "away_win = train_set.away_team_win.value_counts()[1:].reset_index()\n",
    "home_match = train_set.home_team_name.value_counts().reset_index()\n",
    "away_match = train_set.away_team_name.value_counts().reset_index()"
   ]
  },
  {
   "cell_type": "code",
   "execution_count": 21,
   "metadata": {},
   "outputs": [
    {
     "data": {
      "image/png": "[encoded data removed]",
      "text/plain": [
       "<Figure size 1440x720 with 2 Axes>"
      ]
     },
     "metadata": {
      "needs_background": "light"
     },
     "output_type": "display_data"
    }
   ],
   "source": [
    "plt.figure(figsize= (20, 10))\n",
    "plt.subplot(1, 2, 1)\n",
    "ax = sns.barplot(x= home_win[:10]['home_team_win'], y= home_win[:10]['index'], palette='summer')\n",
    "for i, j in enumerate(home_win[:10]['home_team_win']):\n",
    "    ax.text(.7,i, j, weight='bold')\n",
    "plt.title('Top clb thắng trên sân nhà nhiều nhất')\n",
    "plt.ylabel('')\n",
    "plt.xlabel('số trận')\n",
    "\n",
    "plt.subplot(1, 2, 2)\n",
    "ax = sns.barplot(x= away_win[:10]['away_team_win'], y= away_win[:10]['index'], palette='winter')\n",
    "for i, j in enumerate(away_win[:10]['away_team_win']):\n",
    "    ax.text(.7,i, j, weight='bold')\n",
    "plt.title('Top clb thắng trên sân khách nhiều nhất')\n",
    "plt.ylabel('')\n",
    "plt.xlabel('số trận')\n",
    "\n",
    "plt.savefig(_path_save + '\\\\top_team_win.png', bbox_inches='tight')"
   ]
  },
  {
   "cell_type": "code",
   "execution_count": 22,
   "metadata": {},
   "outputs": [
    {
     "data": {
      "image/png": "[encoded data removed]",
      "text/plain": [
       "<Figure size 1440x720 with 2 Axes>"
      ]
     },
     "metadata": {
      "needs_background": "light"
     },
     "output_type": "display_data"
    }
   ],
   "source": [
    "plt.figure(figsize= (20, 10))\n",
    "\n",
    "plt.subplot(1, 2, 1)\n",
    "ax = sns.barplot(x= home_match[:10]['home_team_name'], y= home_match[:10]['index'], palette='summer')\n",
    "for i, j in enumerate(home_match[:10]['home_team_name']):\n",
    "    ax.text(.7,i, j, weight='bold')\n",
    "plt.title('Top 10 clb đá nhiều trận sân nhà nhất')\n",
    "plt.ylabel('')\n",
    "plt.xlabel('số trận')\n",
    "\n",
    "plt.subplot(1, 2, 2)\n",
    "ax = sns.barplot(x= away_match[:10]['away_team_name'], y= away_match[:10]['index'], palette='winter')\n",
    "for i, j in enumerate(away_match[:10]['away_team_name']):\n",
    "    ax.text(.7,i, j, weight='bold')\n",
    "plt.title('Top clb thắng trên sân khách nhiều nhất')\n",
    "plt.ylabel('')\n",
    "plt.xlabel('số trận')\n",
    "\n",
    "plt.savefig(_path_save + '\\\\top_team_match.png', bbox_inches='tight')"
   ]
  },
  {
   "cell_type": "code",
   "execution_count": 23,
   "metadata": {},
   "outputs": [],
   "source": [
    "# merge home/away_win\n",
    "_team_att = pd.merge(team_name, home_win, left_on='team_long_name', right_on='index', how='left')\n",
    "_team_att = pd.merge(_team_att, away_win, left_on='team_long_name', right_on='index', how='left')\n",
    "_team_att = pd.merge(_team_att, total_win, left_on='team_long_name', right_on='index', how='left')\n",
    "_team_att = pd.merge(_team_att, home_match, left_on='team_long_name', right_on='index', how='left')\n",
    "_team_att = pd.merge(_team_att, away_match, left_on='team_long_name', right_on='index', how='left')\n",
    "\n",
    "team_att = _team_att.drop(['index_x', 'index_y', 'index_x', 'index_y', 'index'], axis=1)\n",
    "team_att = team_att.rename(columns={'home_team_win': 'home_win',\n",
    "                                    'away_team_win': 'away_win',\n",
    "                                    'home_team_name': 'home_match',\n",
    "                                    'away_team_name': 'away_match',\n",
    "                                    'winning_team': 'win_match'})"
   ]
  },
  {
   "cell_type": "code",
   "execution_count": 24,
   "metadata": {},
   "outputs": [
    {
     "name": "stdout",
     "output_type": "stream",
     "text": [
      "        home_win   away_win\n",
      "mean   37.066667  22.744755\n",
      "std    26.741442  18.929636\n",
      "max   115.000000  90.000000\n",
      "min     1.000000   1.000000\n"
     ]
    },
    {
     "data": {
      "image/png": "[encoded data removed]",
      "text/plain": [
       "<Figure size 432x288 with 1 Axes>"
      ]
     },
     "metadata": {
      "needs_background": "light"
     },
     "output_type": "display_data"
    }
   ],
   "source": [
    "functions = ['mean', 'std', 'max', 'min']\n",
    "des = team_att[['home_win', 'away_win']].agg(functions)\n",
    "print(des)\n",
    "des.plot.barh()\n",
    "plt.title('Mô tả cơ bản về số trận thắng sân nhà và sân khách')\n",
    "\n",
    "plt.savefig(_path_save + '\\\\team_att.png', bbox_inches='tight')"
   ]
  },
  {
   "cell_type": "code",
   "execution_count": 25,
   "metadata": {},
   "outputs": [],
   "source": [
    "def home_win_pct(data):\n",
    "    home_win_pct = (data['home_win'] / data['home_match']) * 100\n",
    "    return home_win_pct\n",
    "\n",
    "def away_win_pct(data):\n",
    "    away_win_pct = (data['away_win'] / data['away_match']) * 100\n",
    "    return away_win_pct"
   ]
  },
  {
   "cell_type": "code",
   "execution_count": 26,
   "metadata": {},
   "outputs": [],
   "source": [
    "team_att['home_win_pct'] = team_att.apply(lambda x: home_win_pct(x), axis=1)\n",
    "team_att['away_win_pct'] = team_att.apply(lambda x: away_win_pct(x), axis=1)"
   ]
  },
  {
   "cell_type": "code",
   "execution_count": 27,
   "metadata": {},
   "outputs": [
    {
     "data": {
      "text/plain": [
       "team_api_id       0\n",
       "team_long_name    0\n",
       "home_win          0\n",
       "away_win          0\n",
       "win_match         0\n",
       "home_match        0\n",
       "away_match        0\n",
       "home_win_pct      0\n",
       "away_win_pct      0\n",
       "dtype: int64"
      ]
     },
     "execution_count": 27,
     "metadata": {},
     "output_type": "execute_result"
    }
   ],
   "source": [
    "team_att = team_att.fillna(0)\n",
    "team_att.isnull().sum()"
   ]
  },
  {
   "cell_type": "code",
   "execution_count": 28,
   "metadata": {},
   "outputs": [
    {
     "name": "stdout",
     "output_type": "stream",
     "text": [
      "      home_win_pct  away_win_pct\n",
      "mean     39.350144     23.509126\n",
      "std      16.750678     13.209542\n",
      "max      86.466165     68.421053\n",
      "min       0.000000      0.000000\n"
     ]
    },
    {
     "data": {
      "image/png": "[encoded data removed]",
      "text/plain": [
       "<Figure size 432x288 with 1 Axes>"
      ]
     },
     "metadata": {
      "needs_background": "light"
     },
     "output_type": "display_data"
    }
   ],
   "source": [
    "functions = ['mean', 'std', 'max', 'min']\n",
    "des = team_att[['home_win_pct', 'away_win_pct']].agg(functions)\n",
    "print(des)\n",
    "des.plot.barh()\n",
    "plt.title('Mô tả cơ bản về tỉ lệ thắng sân nhà và sân khách')\n",
    "\n",
    "plt.savefig(_path_save + '\\\\team_att_2.png', bbox_inches='tight')"
   ]
  },
  {
   "cell_type": "markdown",
   "metadata": {},
   "source": [
    "## Merge 'home_win_pct' / 'away_win_pct' to test_set"
   ]
  },
  {
   "cell_type": "code",
   "execution_count": 29,
   "metadata": {},
   "outputs": [
    {
     "name": "stdout",
     "output_type": "stream",
     "text": [
      "home_win_pct:\n",
      "      team_api_id  home_win_pct\n",
      "0           9987     54.945055\n",
      "1           9993     39.473684\n",
      "2          10000     41.758242\n",
      "3           9994     41.758242\n",
      "4           9984     41.758242\n",
      "..           ...           ...\n",
      "294        10190     40.000000\n",
      "295        10191     42.696629\n",
      "296         9777     31.428571\n",
      "297         7730     30.188679\n",
      "298         7896      0.000000\n",
      "\n",
      "[299 rows x 2 columns]\n",
      "away_win_pct:\n",
      "      team_api_id  away_win_pct\n",
      "0           9987     36.263736\n",
      "1           9993     13.157895\n",
      "2          10000     30.769231\n",
      "3           9994     30.769231\n",
      "4           9984     21.978022\n",
      "..           ...           ...\n",
      "294        10190     28.888889\n",
      "295        10191     25.842697\n",
      "296         9777     25.714286\n",
      "297         7730     13.207547\n",
      "298         7896      0.000000\n",
      "\n",
      "[299 rows x 2 columns]\n"
     ]
    }
   ],
   "source": [
    "home_win_pct = team_att[['team_api_id', 'home_win_pct']]\n",
    "away_win_pct = team_att[['team_api_id', 'away_win_pct']]\n",
    "\n",
    "print('home_win_pct:\\n', home_win_pct)\n",
    "print('away_win_pct:\\n', away_win_pct)"
   ]
  },
  {
   "cell_type": "code",
   "execution_count": 30,
   "metadata": {},
   "outputs": [],
   "source": [
    "# Merge home/away_win_pct to test_set by each team\n",
    "test_set = pd.merge(test_set, home_win_pct, left_on='home_team_api_id', right_on='team_api_id', how='left')\n",
    "test_set = pd.merge(test_set, away_win_pct, left_on='away_team_api_id', right_on='team_api_id', how='left')"
   ]
  },
  {
   "cell_type": "code",
   "execution_count": 31,
   "metadata": {},
   "outputs": [],
   "source": [
    "test_set = test_set.drop(['team_api_id_x', 'team_api_id_y'], axis=1)"
   ]
  },
  {
   "cell_type": "markdown",
   "metadata": {},
   "source": [
    "## Predict"
   ]
  },
  {
   "cell_type": "code",
   "execution_count": 32,
   "metadata": {},
   "outputs": [],
   "source": [
    "def predict(data):\n",
    "    if data['home_win_pct'] > data['away_win_pct']:\n",
    "        return 'Home_win'\n",
    "    elif data['home_win_pct'] < data['away_win_pct']:\n",
    "        return 'Away_win'\n",
    "    else:\n",
    "        return 'Draw'"
   ]
  },
  {
   "cell_type": "code",
   "execution_count": 33,
   "metadata": {},
   "outputs": [],
   "source": [
    "test_set['predict'] = test_set.apply(lambda x: predict(x), axis=1)"
   ]
  },
  {
   "cell_type": "code",
   "execution_count": 34,
   "metadata": {},
   "outputs": [
    {
     "data": {
      "image/png": "[encoded data removed]",
      "text/plain": [
       "<Figure size 936x360 with 2 Axes>"
      ]
     },
     "metadata": {},
     "output_type": "display_data"
    }
   ],
   "source": [
    "plt.figure(figsize=(13, 5))\n",
    "plt.subplot(1, 2, 1)\n",
    "test_set['game_outcome'].value_counts().plot.pie(autopct='%1.0f%%',\n",
    "                                                  wedgeprops={'linewidth':2, 'edgecolor': 'white'})\n",
    "plt.title('Tỉ lệ phân bố kết quả trận đấu thực tế mùa giải 15/16')\n",
    "plt.ylabel('')\n",
    "\n",
    "plt.subplot(1, 2, 2)\n",
    "test_set['predict'].value_counts().plot.pie(autopct='%1.0f%%',\n",
    "                                                  wedgeprops={'linewidth':2, 'edgecolor': 'white'})\n",
    "plt.title('Tỉ lệ phân bố kết quả trận đấu thực tế mùa giải 15/16')\n",
    "plt.ylabel('')\n",
    "\n",
    "plt.savefig(_path_save + '\\\\predict.png', bbox_inches='tight')"
   ]
  },
  {
   "cell_type": "markdown",
   "metadata": {},
   "source": [
    "## Evalution"
   ]
  },
  {
   "cell_type": "code",
   "execution_count": 35,
   "metadata": {},
   "outputs": [],
   "source": [
    "def measure(data):\n",
    "    if data['game_outcome'] == data['predict']:\n",
    "        return 'Right'\n",
    "    elif data['game_outcome'] != data['predict']:\n",
    "        return 'Wrong'\n",
    "    else:\n",
    "        pritn('vcL')"
   ]
  },
  {
   "cell_type": "code",
   "execution_count": 36,
   "metadata": {},
   "outputs": [],
   "source": [
    "test_set['measure'] = test_set.apply(lambda x: measure(x), axis=1)"
   ]
  },
  {
   "cell_type": "code",
   "execution_count": 68,
   "metadata": {},
   "outputs": [
    {
     "data": {
      "image/png": "[encoded data removed]",
      "text/plain": [
       "<Figure size 720x360 with 2 Axes>"
      ]
     },
     "metadata": {
      "needs_background": "light"
     },
     "output_type": "display_data"
    }
   ],
   "source": [
    "mesure = test_set['measure'].value_counts().reset_index()\n",
    "\n",
    "plt.figure(figsize=(10, 5))\n",
    "\n",
    "plt.subplot(1, 2, 1)\n",
    "x = ['Đoán sai', 'Đoán đúng', 'Số trận test']\n",
    "height = [mesure['measure'].iloc[0], mesure['measure'].iloc[1], mesure['measure'].iloc[0] + mesure['measure'].iloc[1]]\n",
    "\n",
    "ax = sns.barplot(y= x, x= height)\n",
    "for i, j in enumerate(height):\n",
    "    ax.text(.7, i, j, weight='bold')\n",
    "\n",
    "plt.subplot(1, 2, 2)\n",
    "labels = list(mesure['index'])\n",
    "sizes = list(mesure['measure'])\n",
    "explode = (0, 0.1)\n",
    "\n",
    "plt.pie(sizes, labels=labels, explode=explode, autopct='%1.1f%%')\n",
    "\n",
    "plt.savefig(_path_save + '\\\\measure_general.png', bbox_inches='tight')"
   ]
  },
  {
   "cell_type": "code",
   "execution_count": 70,
   "metadata": {},
   "outputs": [
    {
     "data": {
      "image/png": "[encoded data removed]",
      "text/plain": [
       "<Figure size 432x288 with 1 Axes>"
      ]
     },
     "metadata": {},
     "output_type": "display_data"
    }
   ],
   "source": [
    "test_set[test_set['game_outcome'] == 'Home_win']['measure'].value_counts().sort_index(ascending= False).plot.pie(autopct='%1.1f%%',\n",
    "                                                                                   wedgeprops={'linewidth':2, 'edgecolor': 'white'})\n",
    "\n",
    "plt.title('Kết quả đánh giá trên các trận đội nhà thắng')\n",
    "plt.ylabel('')\n",
    "plt.savefig(_path_save + '\\\\measure_home.png', bbox_inches='tight')"
   ]
  },
  {
   "cell_type": "code",
   "execution_count": 39,
   "metadata": {},
   "outputs": [
    {
     "data": {
      "image/png": "[encoded data removed]",
      "text/plain": [
       "<Figure size 432x288 with 1 Axes>"
      ]
     },
     "metadata": {},
     "output_type": "display_data"
    }
   ],
   "source": [
    "test_set[test_set['game_outcome'] == 'Away_win']['measure'].value_counts().plot.pie(autopct='%1.1f%%',\n",
    "                                                                    wedgeprops={'linewidth':2, 'edgecolor': 'white'})\n",
    "\n",
    "plt.title('Kết quả đánh giá trên các trận thắng')\n",
    "plt.ylabel('')\n",
    "plt.savefig(_path_save + '\\\\measure_3.png', bbox_inches='tight')"
   ]
  },
  {
   "cell_type": "code",
   "execution_count": 40,
   "metadata": {},
   "outputs": [
    {
     "data": {
      "text/plain": [
       "<matplotlib.axes._subplots.AxesSubplot at 0x1b6b47ee1c8>"
      ]
     },
     "execution_count": 40,
     "metadata": {},
     "output_type": "execute_result"
    },
    {
     "data": {
      "image/png": "[encoded data removed]",
      "text/plain": [
       "<Figure size 432x288 with 1 Axes>"
      ]
     },
     "metadata": {},
     "output_type": "display_data"
    }
   ],
   "source": [
    "test_set[test_set['game_outcome'] == 'Draw']['measure'].value_counts().plot.pie(autopct='%1.1f%%')"
   ]
  }
 ],
 "metadata": {
  "kernelspec": {
   "display_name": "Python 3",
   "language": "python",
   "name": "python3"
  },
  "language_info": {
   "codemirror_mode": {
    "name": "ipython",
    "version": 3
   },
   "file_extension": ".py",
   "mimetype": "text/x-python",
   "name": "python",
   "nbconvert_exporter": "python",
   "pygments_lexer": "ipython3",
   "version": "3.7.4"
  }
 },
 "nbformat": 4,
 "nbformat_minor": 2
}
